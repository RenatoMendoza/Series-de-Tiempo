{
 "cells": [
  {
   "cell_type": "markdown",
   "id": "1628101f",
   "metadata": {},
   "source": [
    "# Teoría"
   ]
  },
  {
   "cell_type": "markdown",
   "id": "078c9bea",
   "metadata": {},
   "source": [
    "## 1- 10 puntos\n",
    "\n",
    "La formula del R2 es:\n",
    "\n",
    "$$R^2 = \\frac{Var(errorPromedio) - Var(errorModelo)}{Var(errorPromedio)}$$ \n",
    "\n",
    "Convenceme que entiendes esta formula y porque esto tiene sentido\n"
   ]
  },
  {
   "cell_type": "markdown",
   "id": "9f938ed3",
   "metadata": {},
   "source": [
    "**RESPUESTA**\n",
    "\n",
    "La formula del R2 se utiliza para los modelos de regresión lineal, es una medida de cuánta varianza en la variable dependiente es explicada por el modelo de regresión. \n",
    "\n",
    "El numerador de la fórmula representa la reducción de la varianza del error al utilizar el modelo de regresión en lugar de simplemente tomar la media de los valores de la variable dependiente. Esto significa que mide cuánta varianza se elimina del error al utilizar el modelo en lugar de simplemente predecir el valor medio.\n",
    "\n",
    "Ahora bien, el denominador de la fórmula representa la varianza total de los valores de la variable dependiente. Y de esta manera el R2 se calcula como la proporción de la varianza total que es explicada por el modelo de regresión.\n",
    "\n",
    "Al final mientras R2 sea un valor más cercano a 1 podemos concluir que el modelo es capaz de explicar la mayor parte de la varianza. "
   ]
  },
  {
   "cell_type": "markdown",
   "id": "25c627ca",
   "metadata": {},
   "source": [
    "# 2- 20 puntos \n",
    "\n",
    "¿Qué es una regresión lineal y para que sirve?\n",
    "¿Qué es el gradiente descendiente? ¿Cómo uso eso para encontrar los mejores coeficientes de una regresión lineal?\n",
    "\n",
    "\n",
    "Responde estas preguntas, convenceme que entiendes que es una regresión lineal y de donde salen los coeficientes"
   ]
  },
  {
   "cell_type": "markdown",
   "id": "5d978743",
   "metadata": {},
   "source": [
    "**RESPUESTA**\n",
    "\n",
    "¿Qué es una regresión lineal y para que sirve?\n",
    "\n",
    "**la regresión lineal es un método que usa la estadística para modelar la relación entre una variable dependiente y una o más variables independientes. dicha regresión puede servir para hacer pronósticos. se puede escribir su formula de la siguiente manera: y = b0 + b1x1 + b2x2 + ... + bnxn + ruido blanco, donde se juega con betas, variables y el ruido blanco que sería el factor de aleatoriedad** \n",
    "\n",
    "\n",
    "¿Qué es el gradiente descendiente? \n",
    "\n",
    "**El gradiente descendiente es un algoritmo de aprendizaje automático o mejor conocido como machine learning de optimización que se utiliza para encontrar el mínimo de una función. En el contexto de la regresión lineal, se utiliza para encontrar los valores de los coeficientes que minimizan la función de error SSE que es la cantidad total de error que existe entre los valores reales y los valores predichos por el modelo.**\n",
    "\n",
    "¿Cómo uso eso para encontrar los mejores coeficientes de una regresión lineal?\n",
    "\n",
    "**Para encontrar los mejores coeficientes de una regresión lineal se usa el gradiente descendiente, y para utilizar el gradiente descendiente en la creación de diferentes portafolios, se debe definir una función que tenga en cuenta tanto el rendimiento esperado del portafolio como el riesgo. El objetivo principal es minimizar esta función de costo mediante la modificación iterativa de los pesos de los activos.**\n",
    "\n"
   ]
  },
  {
   "cell_type": "markdown",
   "id": "a8f7789a",
   "metadata": {},
   "source": [
    "# 3- 5 puntos \n",
    "¿Por qué hay empresas con valuaciones bajas respecto a sus ganancias? "
   ]
  },
  {
   "cell_type": "markdown",
   "id": "5dc12d11",
   "metadata": {},
   "source": [
    "**RESPUESTA**\n",
    "\n",
    "Hay muchas, pero algunas podrían ser que ciertos inversionistas están dispuestos a pagar más por las empresas que tienen fuertes perspectivas de crecimiento futuro. Sin embargo,  si una empresa tiene una historia de ganancias sólida pero se espera, o el mercado tiene expectativas de que su crecimiento se estabilice o disminuya en el futuro, puede tener una valuación  baja.\n",
    "\n",
    "Otra sería que, algunas empresas que operan en sectores con un alto riesgo de negocio, como por ejemplo, el sector de tecnología, pueden tener una valuación más baja en comparación con sus ganancias debido al riesgo adicional que asumen los inversionistas. "
   ]
  },
  {
   "cell_type": "markdown",
   "id": "402caf35",
   "metadata": {},
   "source": [
    "## 4- 10 puntos\n",
    "\n",
    "La utilidad de un activo es:\n",
    "\n",
    "$$Utiliad = E[P] - \\alpha *\\frac{1}{2} Var(P) $$\n",
    "\n",
    "Explica porque esto tiene sentido  en el mundo de los econos"
   ]
  },
  {
   "cell_type": "markdown",
   "id": "adca9248",
   "metadata": {},
   "source": [
    "**RESPUESTA**\n",
    "\n",
    "En el mundo de los econos, el concepto de utilidad se refiere a la satisfacción o felicidad que una persona obtiene al consumir bienes o servicios. Ahora bien, en dicha fórmula **E[P]** es el rendimiento esperado del activo y **Var(P)** es su varianza. alpha es una medida de aversión al riesgo, lo que indica cuánto valoran los inversionistas la reducción del riesgo en comparación con el aumento del rendimiento esperado.\n",
    "\n",
    "dicha formula también tiene sentido debido a que un inversor que está dispuesto a asumir más riesgo puede esperar un mayor rendimiento, mientras que un inversor que está menos dispuesto a asumir riesgos se pondrá feliz con un menor rendimiento, si es que eso significa que puede reducir su exposición al riesgo.\n"
   ]
  },
  {
   "cell_type": "markdown",
   "id": "18c75549",
   "metadata": {},
   "source": [
    "## 5- 5 puntos \n",
    "Explica en 3 renglones la hopitesis de mercados eficientes"
   ]
  },
  {
   "cell_type": "markdown",
   "id": "7ae2550e",
   "metadata": {},
   "source": [
    "**RESPUESTA**\n",
    "\n",
    "La hipótesis de mercados eficientes es una teoría que defiende que los precios de los activos reflejan toda la información disponible en el mercado y por lo cual es imposible obtener un rendimiento superior al promedio del mercado a largo de x plazo. Según esta teoría, cualquier persona puede escoger de manera aleatoria x número de acciones para formar un portafolio de inversiones, ya que todas las acciones están valuadas de manera justa todo el tiempo."
   ]
  },
  {
   "cell_type": "markdown",
   "id": "1495fff2",
   "metadata": {},
   "source": [
    "# Práctica"
   ]
  },
  {
   "cell_type": "markdown",
   "id": "87c0fd7c",
   "metadata": {},
   "source": [
    "### 30%\n",
    "\n",
    "Baja del 2016 a 2021, de forma mensual las acciones de:\n",
    "\n",
    "\n",
    "- Apple\n",
    "- Amazon\n",
    "- Discover\n",
    "- Cotsco\n",
    "- Starbucks\n",
    "\n",
    "\n",
    "- Obten el portafolio de mínima varianza\n",
    "- Obten una gráfica de todos los posibles portafolios\n",
    "- Calcula la beta de cada uno de esos activos\n",
    "- Calcula el R2 de cada uno de esos activos\n",
    "- Cuanto debes invertir en ese portafolio dado los cooeficientes de aversión : [1, 2, 3, 4, 5, 6, 6, 7]\n",
    "- Obten el R2 y Beta con bootstrap de cada uno de esos activos\n",
    "  Responde: probabilidad beta > 1  y probabilidad r2 > 0.5\n",
    "  "
   ]
  },
  {
   "cell_type": "code",
   "execution_count": 87,
   "id": "a8b5fc83",
   "metadata": {},
   "outputs": [],
   "source": [
    "import pandas as pd \n",
    "import numpy as np \n",
    "import matplotlib.pyplot as plt\n",
    "import yfinance as yf\n",
    "from sklearn.linear_model import LinearRegression\n",
    "import random\n",
    "model = LinearRegression()\n",
    "from sklearn.metrics import r2_score\n",
    "from scipy.optimize import minimize\n",
    "\n",
    "\n"
   ]
  },
  {
   "cell_type": "code",
   "execution_count": 88,
   "id": "ae2bcdc3",
   "metadata": {},
   "outputs": [
    {
     "name": "stdout",
     "output_type": "stream",
     "text": [
      "[*********************100%***********************]  5 of 5 completed\n"
     ]
    }
   ],
   "source": [
    "tickers = ['AAPL', 'AMZN', 'DFS', 'COST','SBUX']\n",
    "start_date = '2016-01-01'\n",
    "end_date = '2021-01-01'\n",
    "St = yf.download(tickers, start=start_date, end=end_date)['Close']\n",
    "St.head()\n",
    "rt = St.pct_change().dropna()"
   ]
  },
  {
   "cell_type": "code",
   "execution_count": 89,
   "id": "ec477bf4",
   "metadata": {},
   "outputs": [],
   "source": [
    "# Creamos función para crear frontera de markowitz \n",
    "def markowitz(St, n_portafolios):\n",
    "    # Crear matriz de rendimientos\n",
    "    rt = St.pct_change().dropna()\n",
    "    \n",
    "    # Crear pesos \n",
    "    def rand_weights(n):\n",
    "        k = np.random.rand(n)\n",
    "        return k / sum(k)\n",
    "\n",
    "    n_stocks = len(St.columns)\n",
    "    weight_columns = ['w_' + i for i in tickers]\n",
    "\n",
    "    df = pd.DataFrame([rand_weights(n_stocks) for i in range(n_portafolios)], \n",
    "                            columns =weight_columns)\n",
    "\n",
    "    \n",
    "    cov_matrix = rt.cov()\n",
    "    mu = rt.mean()\n",
    "    variance = []\n",
    "    expected_value = []\n",
    "    for i in range(len(df)):\n",
    "        w = np.array(df.loc[i])\n",
    "        # Variance\n",
    "        portafolio_variance = np.dot(w.T, np.dot(cov_matrix, w)) ** 0.5\n",
    "        variance.append(portafolio_variance)\n",
    "        # Expected value \n",
    "        portafolio_return = np.dot(w.T, mu)\n",
    "        expected_value.append(portafolio_return)\n",
    "    \n",
    "    df['media'] = expected_value \n",
    "    df['vol'] = variance \n",
    "\n",
    "    # Anualizar\n",
    "    df['media'] = df['media'] * 252\n",
    "    df['vol'] = df['vol'] * np.sqrt(252)\n",
    "    return df\n",
    "\n",
    "df_markowitz = markowitz(St, 10000)"
   ]
  },
  {
   "cell_type": "code",
   "execution_count": 90,
   "id": "3031768e",
   "metadata": {},
   "outputs": [
    {
     "data": {
      "text/html": [
       "<div>\n",
       "<style scoped>\n",
       "    .dataframe tbody tr th:only-of-type {\n",
       "        vertical-align: middle;\n",
       "    }\n",
       "\n",
       "    .dataframe tbody tr th {\n",
       "        vertical-align: top;\n",
       "    }\n",
       "\n",
       "    .dataframe thead th {\n",
       "        text-align: right;\n",
       "    }\n",
       "</style>\n",
       "<table border=\"1\" class=\"dataframe\">\n",
       "  <thead>\n",
       "    <tr style=\"text-align: right;\">\n",
       "      <th></th>\n",
       "      <th>w_AAPL</th>\n",
       "      <th>w_AMZN</th>\n",
       "      <th>w_DFS</th>\n",
       "      <th>w_COST</th>\n",
       "      <th>w_SBUX</th>\n",
       "      <th>media</th>\n",
       "      <th>vol</th>\n",
       "    </tr>\n",
       "  </thead>\n",
       "  <tbody>\n",
       "    <tr>\n",
       "      <th>0</th>\n",
       "      <td>0.083631</td>\n",
       "      <td>0.179851</td>\n",
       "      <td>0.252779</td>\n",
       "      <td>0.248532</td>\n",
       "      <td>0.235208</td>\n",
       "      <td>0.234626</td>\n",
       "      <td>0.223961</td>\n",
       "    </tr>\n",
       "    <tr>\n",
       "      <th>1</th>\n",
       "      <td>0.084088</td>\n",
       "      <td>0.223383</td>\n",
       "      <td>0.319342</td>\n",
       "      <td>0.368710</td>\n",
       "      <td>0.004476</td>\n",
       "      <td>0.251585</td>\n",
       "      <td>0.238340</td>\n",
       "    </tr>\n",
       "    <tr>\n",
       "      <th>2</th>\n",
       "      <td>0.198594</td>\n",
       "      <td>0.186953</td>\n",
       "      <td>0.312949</td>\n",
       "      <td>0.245727</td>\n",
       "      <td>0.055777</td>\n",
       "      <td>0.262483</td>\n",
       "      <td>0.222786</td>\n",
       "    </tr>\n",
       "    <tr>\n",
       "      <th>3</th>\n",
       "      <td>0.065959</td>\n",
       "      <td>0.167225</td>\n",
       "      <td>0.038996</td>\n",
       "      <td>0.312263</td>\n",
       "      <td>0.415557</td>\n",
       "      <td>0.223134</td>\n",
       "      <td>0.256867</td>\n",
       "    </tr>\n",
       "    <tr>\n",
       "      <th>4</th>\n",
       "      <td>0.207978</td>\n",
       "      <td>0.038523</td>\n",
       "      <td>0.248420</td>\n",
       "      <td>0.133435</td>\n",
       "      <td>0.371644</td>\n",
       "      <td>0.225547</td>\n",
       "      <td>0.218830</td>\n",
       "    </tr>\n",
       "    <tr>\n",
       "      <th>...</th>\n",
       "      <td>...</td>\n",
       "      <td>...</td>\n",
       "      <td>...</td>\n",
       "      <td>...</td>\n",
       "      <td>...</td>\n",
       "      <td>...</td>\n",
       "      <td>...</td>\n",
       "    </tr>\n",
       "    <tr>\n",
       "      <th>9995</th>\n",
       "      <td>0.281840</td>\n",
       "      <td>0.317404</td>\n",
       "      <td>0.012784</td>\n",
       "      <td>0.345744</td>\n",
       "      <td>0.042229</td>\n",
       "      <td>0.301338</td>\n",
       "      <td>0.263691</td>\n",
       "    </tr>\n",
       "    <tr>\n",
       "      <th>9996</th>\n",
       "      <td>0.132946</td>\n",
       "      <td>0.085808</td>\n",
       "      <td>0.174351</td>\n",
       "      <td>0.242180</td>\n",
       "      <td>0.364714</td>\n",
       "      <td>0.221774</td>\n",
       "      <td>0.234987</td>\n",
       "    </tr>\n",
       "    <tr>\n",
       "      <th>9997</th>\n",
       "      <td>0.371949</td>\n",
       "      <td>0.097703</td>\n",
       "      <td>0.008563</td>\n",
       "      <td>0.128143</td>\n",
       "      <td>0.393643</td>\n",
       "      <td>0.263886</td>\n",
       "      <td>0.243245</td>\n",
       "    </tr>\n",
       "    <tr>\n",
       "      <th>9998</th>\n",
       "      <td>0.257134</td>\n",
       "      <td>0.375975</td>\n",
       "      <td>0.125846</td>\n",
       "      <td>0.229071</td>\n",
       "      <td>0.011974</td>\n",
       "      <td>0.307806</td>\n",
       "      <td>0.241194</td>\n",
       "    </tr>\n",
       "    <tr>\n",
       "      <th>9999</th>\n",
       "      <td>0.154199</td>\n",
       "      <td>0.000788</td>\n",
       "      <td>0.294271</td>\n",
       "      <td>0.414451</td>\n",
       "      <td>0.136291</td>\n",
       "      <td>0.219753</td>\n",
       "      <td>0.257213</td>\n",
       "    </tr>\n",
       "  </tbody>\n",
       "</table>\n",
       "<p>10000 rows × 7 columns</p>\n",
       "</div>"
      ],
      "text/plain": [
       "        w_AAPL    w_AMZN     w_DFS    w_COST    w_SBUX     media       vol\n",
       "0     0.083631  0.179851  0.252779  0.248532  0.235208  0.234626  0.223961\n",
       "1     0.084088  0.223383  0.319342  0.368710  0.004476  0.251585  0.238340\n",
       "2     0.198594  0.186953  0.312949  0.245727  0.055777  0.262483  0.222786\n",
       "3     0.065959  0.167225  0.038996  0.312263  0.415557  0.223134  0.256867\n",
       "4     0.207978  0.038523  0.248420  0.133435  0.371644  0.225547  0.218830\n",
       "...        ...       ...       ...       ...       ...       ...       ...\n",
       "9995  0.281840  0.317404  0.012784  0.345744  0.042229  0.301338  0.263691\n",
       "9996  0.132946  0.085808  0.174351  0.242180  0.364714  0.221774  0.234987\n",
       "9997  0.371949  0.097703  0.008563  0.128143  0.393643  0.263886  0.243245\n",
       "9998  0.257134  0.375975  0.125846  0.229071  0.011974  0.307806  0.241194\n",
       "9999  0.154199  0.000788  0.294271  0.414451  0.136291  0.219753  0.257213\n",
       "\n",
       "[10000 rows x 7 columns]"
      ]
     },
     "execution_count": 90,
     "metadata": {},
     "output_type": "execute_result"
    }
   ],
   "source": [
    "df_markowitz"
   ]
  },
  {
   "cell_type": "markdown",
   "id": "fe74e663",
   "metadata": {},
   "source": [
    "## GRAFICA POSIBLES PORTAFOLIOS"
   ]
  },
  {
   "cell_type": "code",
   "execution_count": 91,
   "id": "765a8689",
   "metadata": {},
   "outputs": [
    {
     "data": {
      "text/plain": [
       "Text(0, 0.5, 'Valor esperado')"
      ]
     },
     "execution_count": 91,
     "metadata": {},
     "output_type": "execute_result"
    },
    {
     "data": {
      "image/png": "[encoded data removed]",
      "text/plain": [
       "<Figure size 432x288 with 1 Axes>"
      ]
     },
     "metadata": {
      "needs_background": "light"
     },
     "output_type": "display_data"
    }
   ],
   "source": [
    "plt.scatter(df_markowitz.vol, df_markowitz.media, alpha = 0.1)\n",
    "plt.scatter(rt.std() * np.sqrt(252), rt.mean() * 252)\n",
    "plt.grid()\n",
    "plt.xlabel(\"Volatilidad\")\n",
    "plt.ylabel(\"Valor esperado\")"
   ]
  },
  {
   "cell_type": "markdown",
   "id": "7ddf4efe",
   "metadata": {},
   "source": [
    "## MIN VAR DEL PORTAFOLIO"
   ]
  },
  {
   "cell_type": "code",
   "execution_count": 92,
   "id": "591fc732",
   "metadata": {},
   "outputs": [
    {
     "data": {
      "text/plain": [
       "9673    0.193229\n",
       "Name: vol, dtype: float64"
      ]
     },
     "execution_count": 92,
     "metadata": {},
     "output_type": "execute_result"
    }
   ],
   "source": [
    "min_variance_portafolio = df_markowitz[df_markowitz.vol == df_markowitz.vol.min()]\n",
    "min_variance_portafolio.vol"
   ]
  },
  {
   "cell_type": "code",
   "execution_count": 93,
   "id": "7900f3a6",
   "metadata": {},
   "outputs": [
    {
     "name": "stdout",
     "output_type": "stream",
     "text": [
      "el portafolio de minima varianza es el 9673    0.193229\n",
      "Name: vol, dtype: float64\n"
     ]
    }
   ],
   "source": [
    "min_variance_portafolio = df_markowitz[df_markowitz.vol == df_markowitz.vol.min()]\n",
    "print('el portafolio de minima varianza es el', min_variance_portafolio.vol)"
   ]
  },
  {
   "cell_type": "code",
   "execution_count": 94,
   "id": "de9ed8e1",
   "metadata": {},
   "outputs": [
    {
     "name": "stdout",
     "output_type": "stream",
     "text": [
      "[*********************100%***********************]  6 of 6 completed\n"
     ]
    }
   ],
   "source": [
    "tickers = ['VTI','AAPL', 'AMZN', 'DFS', 'COST','SBUX']\n",
    "start_date = '2016-01-01'\n",
    "end_date = '2021-01-01'\n",
    "St = yf.download(tickers, start=start_date, end=end_date)['Close']\n",
    "St.head()\n",
    "rt = St.pct_change().dropna()"
   ]
  },
  {
   "cell_type": "markdown",
   "id": "e33b4896",
   "metadata": {},
   "source": [
    "## BETA, R2 y rendimiento"
   ]
  },
  {
   "cell_type": "code",
   "execution_count": 95,
   "id": "fe76218c",
   "metadata": {},
   "outputs": [],
   "source": [
    "# Calculemos beta, rendimiento y R2 de cada acción \n",
    "import warnings\n",
    "warnings.filterwarnings('ignore')\n",
    "\n",
    "betas = {}\n",
    "for i in tickers: \n",
    "    if i != 'VTI':\n",
    "        flag_df = rt[[i,'VTI']]\n",
    "        y = flag_df[[i]]\n",
    "        X = flag_df[['VTI']]\n",
    "\n",
    "\n",
    "    #CALCULO DE LA BETA \n",
    "        model = LinearRegression()\n",
    "        model.fit(X,y)\n",
    "        beta = model.coef_[0][0]\n",
    "\n",
    "    #CALCULO R2\n",
    "        predictions = model.predict(X)\n",
    "        promedio = np.mean(y)\n",
    "\n",
    "        var_predictions = np.var(y-predictions)\n",
    "        var_promedio = np.var(y-promedio)\n",
    "        r2 = (var_promedio - var_predictions)/var_promedio\n",
    "\n",
    "        #promedio accion \n",
    "        promedio_accion = np.mean(y)\n",
    "\n",
    "        #agregamos todo el json de betas\n",
    "        betas[i] = [beta, r2[0],promedio_accion[0] * 252]\n",
    "        \n",
    "        df = pd.DataFrame()\n",
    "        df['Acción'] = [i for i in betas]\n",
    "        df['betas'] = [betas[i][0] for i in betas]\n",
    "        df['R2'] = [betas[i][1] for i in betas]\n",
    "        df['Promedio_acción'] = [betas[i][1] for i in betas]\n",
    "        df\n"
   ]
  },
  {
   "cell_type": "code",
   "execution_count": 96,
   "id": "e87c35e8",
   "metadata": {},
   "outputs": [
    {
     "data": {
      "text/html": [
       "<div>\n",
       "<style scoped>\n",
       "    .dataframe tbody tr th:only-of-type {\n",
       "        vertical-align: middle;\n",
       "    }\n",
       "\n",
       "    .dataframe tbody tr th {\n",
       "        vertical-align: top;\n",
       "    }\n",
       "\n",
       "    .dataframe thead th {\n",
       "        text-align: right;\n",
       "    }\n",
       "</style>\n",
       "<table border=\"1\" class=\"dataframe\">\n",
       "  <thead>\n",
       "    <tr style=\"text-align: right;\">\n",
       "      <th></th>\n",
       "      <th>Acción</th>\n",
       "      <th>betas</th>\n",
       "      <th>R2</th>\n",
       "      <th>Promedio_acción</th>\n",
       "    </tr>\n",
       "  </thead>\n",
       "  <tbody>\n",
       "    <tr>\n",
       "      <th>0</th>\n",
       "      <td>AAPL</td>\n",
       "      <td>1.157332</td>\n",
       "      <td>0.542836</td>\n",
       "      <td>0.542836</td>\n",
       "    </tr>\n",
       "    <tr>\n",
       "      <th>1</th>\n",
       "      <td>AMZN</td>\n",
       "      <td>0.918500</td>\n",
       "      <td>0.339262</td>\n",
       "      <td>0.339262</td>\n",
       "    </tr>\n",
       "    <tr>\n",
       "      <th>2</th>\n",
       "      <td>DFS</td>\n",
       "      <td>1.645870</td>\n",
       "      <td>0.549291</td>\n",
       "      <td>0.549291</td>\n",
       "    </tr>\n",
       "    <tr>\n",
       "      <th>3</th>\n",
       "      <td>COST</td>\n",
       "      <td>0.629181</td>\n",
       "      <td>0.320103</td>\n",
       "      <td>0.320103</td>\n",
       "    </tr>\n",
       "    <tr>\n",
       "      <th>4</th>\n",
       "      <td>SBUX</td>\n",
       "      <td>0.997771</td>\n",
       "      <td>0.499313</td>\n",
       "      <td>0.499313</td>\n",
       "    </tr>\n",
       "  </tbody>\n",
       "</table>\n",
       "</div>"
      ],
      "text/plain": [
       "  Acción     betas        R2  Promedio_acción\n",
       "0   AAPL  1.157332  0.542836         0.542836\n",
       "1   AMZN  0.918500  0.339262         0.339262\n",
       "2    DFS  1.645870  0.549291         0.549291\n",
       "3   COST  0.629181  0.320103         0.320103\n",
       "4   SBUX  0.997771  0.499313         0.499313"
      ]
     },
     "execution_count": 96,
     "metadata": {},
     "output_type": "execute_result"
    }
   ],
   "source": [
    "df"
   ]
  },
  {
   "cell_type": "markdown",
   "id": "7fa4ad70",
   "metadata": {},
   "source": [
    "## COEFICIENTES"
   ]
  },
  {
   "cell_type": "code",
   "execution_count": 97,
   "id": "3385e058",
   "metadata": {},
   "outputs": [
    {
     "name": "stdout",
     "output_type": "stream",
     "text": [
      "[*********************100%***********************]  5 of 5 completed\n"
     ]
    }
   ],
   "source": [
    "tickers = ['AAPL', 'AMZN', 'DFS', 'COST','SBUX']\n",
    "start_date = '2016-01-01'\n",
    "end_date = '2021-01-01'\n",
    "St = yf.download(tickers, start=start_date, end=end_date)['Close']\n",
    "St.head()\n",
    "rt = St.pct_change().dropna()"
   ]
  },
  {
   "cell_type": "code",
   "execution_count": 98,
   "id": "59debb51",
   "metadata": {},
   "outputs": [],
   "source": [
    "# Resumen: rendimiento medio mensual y volatilidad\n",
    "resumen = pd.DataFrame()\n",
    "resumen['media'] = rt.mean() * 252\n",
    "resumen['vol'] = rt.std() *np.sqrt(252)\n",
    "\n",
    "# Matriz de covarianza\n",
    "sigma = rt.cov()\n",
    "\n",
    "# Tasa libre de riesgo\n",
    "rf = 0.02\n",
    "\n",
    "# Definimos el número de portafolios que simularemos, y la cantidad de activos que tenemos\n",
    "n_port = 5000\n",
    "n_act = len(rt.keys())\n",
    "\n",
    "# Generar una matriz de pesos de n_portafolios x n_activos,\n",
    "# tal que cada fila sume uno (recordar restricción)\n",
    "W = np.random.dirichlet((1,) * n_act, size=n_port)\n",
    "W\n",
    "\n",
    "# Rendimientos y volatilidad de cada portafolios\n",
    "valor_esperado = W.dot(resumen['media'])\n",
    "\n",
    "# Calcula la volatilidad del portafolio, DOT ES MULTIPLICACION DE MATRICES \n",
    "volatilidad = []\n",
    "for i in range(len(W)):\n",
    "    varianza = W[i].T.dot(sigma).dot(W[i])\n",
    "    vol = np.sqrt(varianza)\n",
    "    volatilidad.append(vol * np.sqrt(252))\n",
    "    \n",
    "# Radio de Sharpe\n",
    "rs = (valor_esperado - rf) / volatilidad\n",
    "\n"
   ]
  },
  {
   "cell_type": "code",
   "execution_count": 99,
   "id": "02236a5a",
   "metadata": {},
   "outputs": [
    {
     "data": {
      "text/html": [
       "<div>\n",
       "<style scoped>\n",
       "    .dataframe tbody tr th:only-of-type {\n",
       "        vertical-align: middle;\n",
       "    }\n",
       "\n",
       "    .dataframe tbody tr th {\n",
       "        vertical-align: top;\n",
       "    }\n",
       "\n",
       "    .dataframe thead th {\n",
       "        text-align: right;\n",
       "    }\n",
       "</style>\n",
       "<table border=\"1\" class=\"dataframe\">\n",
       "  <thead>\n",
       "    <tr style=\"text-align: right;\">\n",
       "      <th></th>\n",
       "      <th>AAPL</th>\n",
       "      <th>AMZN</th>\n",
       "      <th>DFS</th>\n",
       "      <th>COST</th>\n",
       "      <th>SBUX</th>\n",
       "      <th>rendimientos</th>\n",
       "      <th>vol</th>\n",
       "      <th>sharpe</th>\n",
       "    </tr>\n",
       "  </thead>\n",
       "  <tbody>\n",
       "    <tr>\n",
       "      <th>0</th>\n",
       "      <td>0.061768</td>\n",
       "      <td>0.107705</td>\n",
       "      <td>0.139802</td>\n",
       "      <td>0.631171</td>\n",
       "      <td>0.059554</td>\n",
       "      <td>0.226754</td>\n",
       "      <td>0.310147</td>\n",
       "      <td>0.666632</td>\n",
       "    </tr>\n",
       "    <tr>\n",
       "      <th>1</th>\n",
       "      <td>0.287497</td>\n",
       "      <td>0.047487</td>\n",
       "      <td>0.065191</td>\n",
       "      <td>0.192292</td>\n",
       "      <td>0.407533</td>\n",
       "      <td>0.240097</td>\n",
       "      <td>0.243530</td>\n",
       "      <td>0.903776</td>\n",
       "    </tr>\n",
       "    <tr>\n",
       "      <th>2</th>\n",
       "      <td>0.153835</td>\n",
       "      <td>0.104389</td>\n",
       "      <td>0.268211</td>\n",
       "      <td>0.039267</td>\n",
       "      <td>0.434299</td>\n",
       "      <td>0.224931</td>\n",
       "      <td>0.208739</td>\n",
       "      <td>0.981755</td>\n",
       "    </tr>\n",
       "    <tr>\n",
       "      <th>3</th>\n",
       "      <td>0.047260</td>\n",
       "      <td>0.355714</td>\n",
       "      <td>0.260280</td>\n",
       "      <td>0.260324</td>\n",
       "      <td>0.076422</td>\n",
       "      <td>0.265385</td>\n",
       "      <td>0.225785</td>\n",
       "      <td>1.086809</td>\n",
       "    </tr>\n",
       "    <tr>\n",
       "      <th>4</th>\n",
       "      <td>0.221221</td>\n",
       "      <td>0.005431</td>\n",
       "      <td>0.497460</td>\n",
       "      <td>0.122553</td>\n",
       "      <td>0.153335</td>\n",
       "      <td>0.229847</td>\n",
       "      <td>0.205447</td>\n",
       "      <td>1.021419</td>\n",
       "    </tr>\n",
       "    <tr>\n",
       "      <th>...</th>\n",
       "      <td>...</td>\n",
       "      <td>...</td>\n",
       "      <td>...</td>\n",
       "      <td>...</td>\n",
       "      <td>...</td>\n",
       "      <td>...</td>\n",
       "      <td>...</td>\n",
       "      <td>...</td>\n",
       "    </tr>\n",
       "    <tr>\n",
       "      <th>4995</th>\n",
       "      <td>0.470405</td>\n",
       "      <td>0.090356</td>\n",
       "      <td>0.014226</td>\n",
       "      <td>0.151193</td>\n",
       "      <td>0.273820</td>\n",
       "      <td>0.284283</td>\n",
       "      <td>0.249002</td>\n",
       "      <td>1.061368</td>\n",
       "    </tr>\n",
       "    <tr>\n",
       "      <th>4996</th>\n",
       "      <td>0.346170</td>\n",
       "      <td>0.210790</td>\n",
       "      <td>0.401809</td>\n",
       "      <td>0.007447</td>\n",
       "      <td>0.033783</td>\n",
       "      <td>0.291819</td>\n",
       "      <td>0.214455</td>\n",
       "      <td>1.267487</td>\n",
       "    </tr>\n",
       "    <tr>\n",
       "      <th>4997</th>\n",
       "      <td>0.035756</td>\n",
       "      <td>0.048243</td>\n",
       "      <td>0.675784</td>\n",
       "      <td>0.063128</td>\n",
       "      <td>0.177089</td>\n",
       "      <td>0.203818</td>\n",
       "      <td>0.195588</td>\n",
       "      <td>0.939823</td>\n",
       "    </tr>\n",
       "    <tr>\n",
       "      <th>4998</th>\n",
       "      <td>0.233462</td>\n",
       "      <td>0.079988</td>\n",
       "      <td>0.470878</td>\n",
       "      <td>0.079776</td>\n",
       "      <td>0.135896</td>\n",
       "      <td>0.245609</td>\n",
       "      <td>0.202262</td>\n",
       "      <td>1.115429</td>\n",
       "    </tr>\n",
       "    <tr>\n",
       "      <th>4999</th>\n",
       "      <td>0.273915</td>\n",
       "      <td>0.073831</td>\n",
       "      <td>0.074565</td>\n",
       "      <td>0.475519</td>\n",
       "      <td>0.102170</td>\n",
       "      <td>0.255278</td>\n",
       "      <td>0.284601</td>\n",
       "      <td>0.826695</td>\n",
       "    </tr>\n",
       "  </tbody>\n",
       "</table>\n",
       "<p>5000 rows × 8 columns</p>\n",
       "</div>"
      ],
      "text/plain": [
       "          AAPL      AMZN       DFS      COST      SBUX  rendimientos  \\\n",
       "0     0.061768  0.107705  0.139802  0.631171  0.059554      0.226754   \n",
       "1     0.287497  0.047487  0.065191  0.192292  0.407533      0.240097   \n",
       "2     0.153835  0.104389  0.268211  0.039267  0.434299      0.224931   \n",
       "3     0.047260  0.355714  0.260280  0.260324  0.076422      0.265385   \n",
       "4     0.221221  0.005431  0.497460  0.122553  0.153335      0.229847   \n",
       "...        ...       ...       ...       ...       ...           ...   \n",
       "4995  0.470405  0.090356  0.014226  0.151193  0.273820      0.284283   \n",
       "4996  0.346170  0.210790  0.401809  0.007447  0.033783      0.291819   \n",
       "4997  0.035756  0.048243  0.675784  0.063128  0.177089      0.203818   \n",
       "4998  0.233462  0.079988  0.470878  0.079776  0.135896      0.245609   \n",
       "4999  0.273915  0.073831  0.074565  0.475519  0.102170      0.255278   \n",
       "\n",
       "           vol    sharpe  \n",
       "0     0.310147  0.666632  \n",
       "1     0.243530  0.903776  \n",
       "2     0.208739  0.981755  \n",
       "3     0.225785  1.086809  \n",
       "4     0.205447  1.021419  \n",
       "...        ...       ...  \n",
       "4995  0.249002  1.061368  \n",
       "4996  0.214455  1.267487  \n",
       "4997  0.195588  0.939823  \n",
       "4998  0.202262  1.115429  \n",
       "4999  0.284601  0.826695  \n",
       "\n",
       "[5000 rows x 8 columns]"
      ]
     },
     "execution_count": 99,
     "metadata": {},
     "output_type": "execute_result"
    }
   ],
   "source": [
    "# Data frame de resultados\n",
    "resultados = pd.DataFrame(W)\n",
    "resultados.columns = tickers\n",
    "resultados['rendimientos'] = valor_esperado\n",
    "resultados['vol'] = volatilidad\n",
    "resultados['sharpe'] = rs\n",
    "resultados"
   ]
  },
  {
   "cell_type": "code",
   "execution_count": 100,
   "id": "89c07133",
   "metadata": {},
   "outputs": [
    {
     "data": {
      "text/html": [
       "<div>\n",
       "<style scoped>\n",
       "    .dataframe tbody tr th:only-of-type {\n",
       "        vertical-align: middle;\n",
       "    }\n",
       "\n",
       "    .dataframe tbody tr th {\n",
       "        vertical-align: top;\n",
       "    }\n",
       "\n",
       "    .dataframe thead th {\n",
       "        text-align: right;\n",
       "    }\n",
       "</style>\n",
       "<table border=\"1\" class=\"dataframe\">\n",
       "  <thead>\n",
       "    <tr style=\"text-align: right;\">\n",
       "      <th></th>\n",
       "      <th>aversion</th>\n",
       "      <th>acciones</th>\n",
       "      <th>bonos</th>\n",
       "    </tr>\n",
       "  </thead>\n",
       "  <tbody>\n",
       "    <tr>\n",
       "      <th>0</th>\n",
       "      <td>1.0</td>\n",
       "      <td>5.416677</td>\n",
       "      <td>-4.416677</td>\n",
       "    </tr>\n",
       "    <tr>\n",
       "      <th>1</th>\n",
       "      <td>2.0</td>\n",
       "      <td>2.708338</td>\n",
       "      <td>-1.708338</td>\n",
       "    </tr>\n",
       "    <tr>\n",
       "      <th>2</th>\n",
       "      <td>3.0</td>\n",
       "      <td>1.805559</td>\n",
       "      <td>-0.805559</td>\n",
       "    </tr>\n",
       "    <tr>\n",
       "      <th>3</th>\n",
       "      <td>4.0</td>\n",
       "      <td>1.354169</td>\n",
       "      <td>-0.354169</td>\n",
       "    </tr>\n",
       "    <tr>\n",
       "      <th>4</th>\n",
       "      <td>5.0</td>\n",
       "      <td>1.083335</td>\n",
       "      <td>-0.083335</td>\n",
       "    </tr>\n",
       "    <tr>\n",
       "      <th>5</th>\n",
       "      <td>6.0</td>\n",
       "      <td>0.902779</td>\n",
       "      <td>0.097221</td>\n",
       "    </tr>\n",
       "    <tr>\n",
       "      <th>6</th>\n",
       "      <td>7.0</td>\n",
       "      <td>0.773811</td>\n",
       "      <td>0.226189</td>\n",
       "    </tr>\n",
       "    <tr>\n",
       "      <th>7</th>\n",
       "      <td>8.0</td>\n",
       "      <td>0.677085</td>\n",
       "      <td>0.322915</td>\n",
       "    </tr>\n",
       "  </tbody>\n",
       "</table>\n",
       "</div>"
      ],
      "text/plain": [
       "   aversion  acciones     bonos\n",
       "0       1.0  5.416677 -4.416677\n",
       "1       2.0  2.708338 -1.708338\n",
       "2       3.0  1.805559 -0.805559\n",
       "3       4.0  1.354169 -0.354169\n",
       "4       5.0  1.083335 -0.083335\n",
       "5       6.0  0.902779  0.097221\n",
       "6       7.0  0.773811  0.226189\n",
       "7       8.0  0.677085  0.322915"
      ]
     },
     "execution_count": 100,
     "metadata": {},
     "output_type": "execute_result"
    },
    {
     "data": {
      "image/png": "[encoded data removed]",
      "text/plain": [
       "<Figure size 432x288 with 1 Axes>"
      ]
     },
     "metadata": {
      "needs_background": "light"
     },
     "output_type": "display_data"
    }
   ],
   "source": [
    "# Portafolio EMV\n",
    "max_sharpe = resultados[resultados.sharpe == resultados.sharpe.max()]\n",
    "max_sharpe\n",
    "\n",
    "# Gráfica portafolios de markowitz \n",
    "plt.scatter(resultados.vol, resultados.rendimientos)\n",
    "plt.scatter(max_sharpe.vol, max_sharpe.rendimientos, lw=20)\n",
    "plt.grid()\n",
    "\n",
    "emv = max_sharpe.rendimientos.values[0]\n",
    "s_emv = max_sharpe.vol.values[0]\n",
    "(emv, s_emv)\n",
    "\n",
    "# Calcula la LAC\n",
    "wp = np.linspace(0, 1.5, 20)\n",
    "lac = pd.DataFrame()\n",
    "lac['rendimientos'] = wp * emv + (1-wp) * rf\n",
    "lac['vol'] = wp * s_emv\n",
    "lac['w_acciones'] = wp\n",
    "lac['w_cetes'] = 1-wp\n",
    "\n",
    "# ¿Cuanto invertir según la aversión al riego?\n",
    "g = np.linspace(1,8,8)\n",
    "\n",
    "df_alocacion = pd.DataFrame()\n",
    "df_alocacion['aversion'] = g\n",
    "df_alocacion['acciones'] = (emv - rf) / (g* s_emv**2)\n",
    "df_alocacion['bonos'] = 1 - df_alocacion['acciones']\n",
    "df_alocacion\n",
    "\n",
    "\n",
    "\n"
   ]
  },
  {
   "cell_type": "markdown",
   "id": "0bfcae9f",
   "metadata": {},
   "source": [
    "## BOOTSTRAP"
   ]
  },
  {
   "cell_type": "code",
   "execution_count": 101,
   "id": "31a84f38",
   "metadata": {},
   "outputs": [
    {
     "name": "stdout",
     "output_type": "stream",
     "text": [
      "[*********************100%***********************]  6 of 6 completed\n"
     ]
    }
   ],
   "source": [
    "tickers = ['AAPL', 'AMZN', 'DFS', 'COST','SBUX','VTI']\n",
    "start_date = '2016-01-01'\n",
    "end_date = '2021-01-01'\n",
    "St = yf.download(tickers, start=start_date, end=end_date)['Close']\n",
    "St.head()\n",
    "rt = St.pct_change().dropna()"
   ]
  },
  {
   "cell_type": "markdown",
   "id": "c27a1acb",
   "metadata": {},
   "source": [
    "## BOOTSTRAP Betas y R2 AAPL"
   ]
  },
  {
   "cell_type": "code",
   "execution_count": 102,
   "id": "fab67a49",
   "metadata": {},
   "outputs": [],
   "source": [
    "# bootstrap, betas y R2\n",
    "n = 5000\n",
    "betas = []\n",
    "r2 = []\n",
    "for i in range(n):\n",
    "    bootstrape_df = rt.sample(len(rt), replace=True)\n",
    "    X = bootstrape_df[['VTI']]\n",
    "    y = bootstrape_df[['AAPL']]\n",
    "    \n",
    "    \n",
    "    #Tomar betas\n",
    "    model = LinearRegression().fit(X,y)\n",
    "    betas.append(model.coef_[0][0])\n",
    "    \n",
    "    #Calcular R2\n",
    "    predictions = model.predict(X)\n",
    "    promedio = bootstrape_df['VTI'].mean()\n",
    "    calculated_r2 = r2_score(y_true = y, y_pred=predictions)\n",
    "    r2.append(calculated_r2)\n",
    "    \n",
    "    df = pd.DataFrame()\n",
    "    df['r2'] = r2\n",
    "    df['betas']=betas"
   ]
  },
  {
   "cell_type": "code",
   "execution_count": 103,
   "id": "8cff1a41",
   "metadata": {},
   "outputs": [
    {
     "data": {
      "image/png": "[encoded data removed]",
      "text/plain": [
       "<Figure size 432x288 with 1 Axes>"
      ]
     },
     "metadata": {
      "needs_background": "light"
     },
     "output_type": "display_data"
    }
   ],
   "source": [
    "# Histograma de las betas\n",
    "plt.hist(betas, bins=50)\n",
    "plt.show()"
   ]
  },
  {
   "cell_type": "markdown",
   "id": "12205a34",
   "metadata": {},
   "source": [
    "## ¿Cuál es la probabilidad de que el beta sea mayor a 1?"
   ]
  },
  {
   "cell_type": "code",
   "execution_count": 104,
   "id": "d49a28f0",
   "metadata": {},
   "outputs": [
    {
     "data": {
      "text/plain": [
       "1.0"
      ]
     },
     "execution_count": 104,
     "metadata": {},
     "output_type": "execute_result"
    }
   ],
   "source": [
    "np.mean([ i > 1 for i in betas])"
   ]
  },
  {
   "cell_type": "code",
   "execution_count": 105,
   "id": "c090b4eb",
   "metadata": {},
   "outputs": [
    {
     "data": {
      "image/png": "[encoded data removed]",
      "text/plain": [
       "<Figure size 432x288 with 1 Axes>"
      ]
     },
     "metadata": {
      "needs_background": "light"
     },
     "output_type": "display_data"
    }
   ],
   "source": [
    "# Histograma del R2\n",
    "plt.hist(r2, bins = 50)\n",
    "plt.show()"
   ]
  },
  {
   "cell_type": "markdown",
   "id": "b8502d17",
   "metadata": {},
   "source": [
    "## Probabilidad de que el 0.5 de la variación este explicado por el modelo "
   ]
  },
  {
   "cell_type": "code",
   "execution_count": 106,
   "id": "22655c40",
   "metadata": {},
   "outputs": [
    {
     "data": {
      "text/plain": [
       "0.87"
      ]
     },
     "execution_count": 106,
     "metadata": {},
     "output_type": "execute_result"
    }
   ],
   "source": [
    "(df.r2 > 0.5).mean()"
   ]
  },
  {
   "cell_type": "markdown",
   "id": "d3fcad1b",
   "metadata": {},
   "source": [
    "## BOOTSTRAP Betas y R2 AMZN"
   ]
  },
  {
   "cell_type": "code",
   "execution_count": 107,
   "id": "8ed9ac8d",
   "metadata": {},
   "outputs": [],
   "source": [
    "# bootstrap, betas y R2\n",
    "n = 5000\n",
    "betas = []\n",
    "r2 = []\n",
    "for i in range(n):\n",
    "    bootstrape_df = rt.sample(len(rt), replace=True)\n",
    "    X = bootstrape_df[['VTI']]\n",
    "    y = bootstrape_df[['AMZN']]\n",
    "    \n",
    "    \n",
    "    #Tomar betas\n",
    "    model = LinearRegression().fit(X,y)\n",
    "    betas.append(model.coef_[0][0])\n",
    "    \n",
    "    #Calcular R2\n",
    "    predictions = model.predict(X)\n",
    "    promedio = bootstrape_df['VTI'].mean()\n",
    "    calculated_r2 = r2_score(y_true = y, y_pred=predictions)\n",
    "    r2.append(calculated_r2)\n",
    "    \n",
    "    df = pd.DataFrame()\n",
    "    df['r2'] = r2\n",
    "    df['betas']=betas"
   ]
  },
  {
   "cell_type": "code",
   "execution_count": 108,
   "id": "1362db65",
   "metadata": {},
   "outputs": [
    {
     "data": {
      "image/png": "[encoded data removed]",
      "text/plain": [
       "<Figure size 432x288 with 1 Axes>"
      ]
     },
     "metadata": {
      "needs_background": "light"
     },
     "output_type": "display_data"
    }
   ],
   "source": [
    "# Histograma de las betas\n",
    "plt.hist(betas, bins=50)\n",
    "plt.show()"
   ]
  },
  {
   "cell_type": "markdown",
   "id": "6e03859a",
   "metadata": {},
   "source": [
    "## ¿Cuál es la probabilidad de que el beta sea mayor a 1?"
   ]
  },
  {
   "cell_type": "code",
   "execution_count": 109,
   "id": "76b3c34c",
   "metadata": {},
   "outputs": [
    {
     "data": {
      "text/plain": [
       "0.1372"
      ]
     },
     "execution_count": 109,
     "metadata": {},
     "output_type": "execute_result"
    }
   ],
   "source": [
    "np.mean([ i > 1 for i in betas])"
   ]
  },
  {
   "cell_type": "code",
   "execution_count": 110,
   "id": "acd89387",
   "metadata": {},
   "outputs": [
    {
     "data": {
      "image/png": "[encoded data removed]",
      "text/plain": [
       "<Figure size 432x288 with 1 Axes>"
      ]
     },
     "metadata": {
      "needs_background": "light"
     },
     "output_type": "display_data"
    }
   ],
   "source": [
    "# Histograma del R2\n",
    "plt.hist(r2, bins = 50)\n",
    "plt.show()"
   ]
  },
  {
   "cell_type": "markdown",
   "id": "bbee7a59",
   "metadata": {},
   "source": [
    "## Probabilidad de que el 0.5 de la variación este explicado por el modelo "
   ]
  },
  {
   "cell_type": "code",
   "execution_count": 111,
   "id": "faf410e0",
   "metadata": {},
   "outputs": [
    {
     "data": {
      "text/plain": [
       "0.0"
      ]
     },
     "execution_count": 111,
     "metadata": {},
     "output_type": "execute_result"
    }
   ],
   "source": [
    "(df.r2 > 0.5).mean()"
   ]
  },
  {
   "cell_type": "markdown",
   "id": "ef3a00bd",
   "metadata": {},
   "source": [
    "## BOOTSTRAP Betas y R2 DFS"
   ]
  },
  {
   "cell_type": "code",
   "execution_count": 112,
   "id": "85b18180",
   "metadata": {},
   "outputs": [],
   "source": [
    "# bootstrap, betas y R2\n",
    "n = 5000\n",
    "betas = []\n",
    "r2 = []\n",
    "for i in range(n):\n",
    "    bootstrape_df = rt.sample(len(rt), replace=True)\n",
    "    X = bootstrape_df[['VTI']]\n",
    "    y = bootstrape_df[['DFS']]\n",
    "    \n",
    "    \n",
    "    #Tomar betas\n",
    "    model = LinearRegression().fit(X,y)\n",
    "    betas.append(model.coef_[0][0])\n",
    "    \n",
    "    #Calcular R2\n",
    "    predictions = model.predict(X)\n",
    "    promedio = bootstrape_df['VTI'].mean()\n",
    "    calculated_r2 = r2_score(y_true = y, y_pred=predictions)\n",
    "    r2.append(calculated_r2)\n",
    "    \n",
    "    df = pd.DataFrame()\n",
    "    df['r2'] = r2\n",
    "    df['betas']=betas"
   ]
  },
  {
   "cell_type": "code",
   "execution_count": 113,
   "id": "8206ea2f",
   "metadata": {},
   "outputs": [
    {
     "data": {
      "image/png": "[encoded data removed]",
      "text/plain": [
       "<Figure size 432x288 with 1 Axes>"
      ]
     },
     "metadata": {
      "needs_background": "light"
     },
     "output_type": "display_data"
    }
   ],
   "source": [
    "# Histograma de las betas\n",
    "plt.hist(betas, bins=50)\n",
    "plt.show()"
   ]
  },
  {
   "cell_type": "markdown",
   "id": "b243f43c",
   "metadata": {},
   "source": [
    "## ¿Cuál es la probabilidad de que el beta sea mayor a 1?"
   ]
  },
  {
   "cell_type": "code",
   "execution_count": 114,
   "id": "535f4760",
   "metadata": {},
   "outputs": [
    {
     "data": {
      "text/plain": [
       "1.0"
      ]
     },
     "execution_count": 114,
     "metadata": {},
     "output_type": "execute_result"
    }
   ],
   "source": [
    "np.mean([ i >1 for i in betas])"
   ]
  },
  {
   "cell_type": "code",
   "execution_count": 115,
   "id": "b7b514bb",
   "metadata": {},
   "outputs": [
    {
     "data": {
      "image/png": "[encoded data removed]",
      "text/plain": [
       "<Figure size 432x288 with 1 Axes>"
      ]
     },
     "metadata": {
      "needs_background": "light"
     },
     "output_type": "display_data"
    }
   ],
   "source": [
    "# Histograma del R2\n",
    "plt.hist(r2, bins = 50)\n",
    "plt.show()"
   ]
  },
  {
   "cell_type": "markdown",
   "id": "edc03493",
   "metadata": {},
   "source": [
    "## Probabilidad de que el 0.5 de la variación este explicado por el modelo "
   ]
  },
  {
   "cell_type": "code",
   "execution_count": 116,
   "id": "b0f919f6",
   "metadata": {},
   "outputs": [
    {
     "data": {
      "text/plain": [
       "0.8234"
      ]
     },
     "execution_count": 116,
     "metadata": {},
     "output_type": "execute_result"
    }
   ],
   "source": [
    "(df.r2 > 0.5).mean()"
   ]
  },
  {
   "cell_type": "markdown",
   "id": "3404549a",
   "metadata": {},
   "source": [
    "## BOOTSTRAP Betas y R2 COST"
   ]
  },
  {
   "cell_type": "code",
   "execution_count": 117,
   "id": "42639e9e",
   "metadata": {},
   "outputs": [],
   "source": [
    "# bootstrap, betas y R2\n",
    "n = 5000\n",
    "betas = []\n",
    "r2 = []\n",
    "for i in range(n):\n",
    "    bootstrape_df = rt.sample(len(rt), replace=True)\n",
    "    X = bootstrape_df[['VTI']]\n",
    "    y = bootstrape_df[['COST']]\n",
    "    \n",
    "    \n",
    "    #Tomar betas\n",
    "    model = LinearRegression().fit(X,y)\n",
    "    betas.append(model.coef_[0][0])\n",
    "    \n",
    "    #Calcular R2\n",
    "    predictions = model.predict(X)\n",
    "    promedio = bootstrape_df['VTI'].mean()\n",
    "    calculated_r2 = r2_score(y_true = y, y_pred=predictions)\n",
    "    r2.append(calculated_r2)\n",
    "    \n",
    "    df = pd.DataFrame()\n",
    "    df['r2'] = r2\n",
    "    df['betas']=betas"
   ]
  },
  {
   "cell_type": "code",
   "execution_count": 118,
   "id": "1d72ec67",
   "metadata": {},
   "outputs": [
    {
     "data": {
      "image/png": "[encoded data removed]",
      "text/plain": [
       "<Figure size 432x288 with 1 Axes>"
      ]
     },
     "metadata": {
      "needs_background": "light"
     },
     "output_type": "display_data"
    }
   ],
   "source": [
    "# Histograma de las betas\n",
    "plt.hist(betas, bins=50)\n",
    "plt.show()"
   ]
  },
  {
   "cell_type": "markdown",
   "id": "60c69ab6",
   "metadata": {},
   "source": [
    "## ¿Cuál es la probabilidad de que el beta sea mayor a 1?"
   ]
  },
  {
   "cell_type": "code",
   "execution_count": 119,
   "id": "5f5f69b8",
   "metadata": {},
   "outputs": [
    {
     "data": {
      "text/plain": [
       "0.0"
      ]
     },
     "execution_count": 119,
     "metadata": {},
     "output_type": "execute_result"
    }
   ],
   "source": [
    "np.mean([ i >1 for i in betas])"
   ]
  },
  {
   "cell_type": "code",
   "execution_count": 120,
   "id": "19641657",
   "metadata": {},
   "outputs": [
    {
     "data": {
      "image/png": "[encoded data removed]",
      "text/plain": [
       "<Figure size 432x288 with 1 Axes>"
      ]
     },
     "metadata": {
      "needs_background": "light"
     },
     "output_type": "display_data"
    }
   ],
   "source": [
    "# Histograma del R2\n",
    "plt.hist(r2, bins = 50)\n",
    "plt.show()"
   ]
  },
  {
   "cell_type": "markdown",
   "id": "044fd1d1",
   "metadata": {},
   "source": [
    "## Probabilidad de que el 0.5 de la variación este explicado por el modelo "
   ]
  },
  {
   "cell_type": "code",
   "execution_count": 121,
   "id": "e776cbeb",
   "metadata": {},
   "outputs": [
    {
     "data": {
      "text/plain": [
       "0.0"
      ]
     },
     "execution_count": 121,
     "metadata": {},
     "output_type": "execute_result"
    }
   ],
   "source": [
    "(df.r2 > 0.5).mean()"
   ]
  },
  {
   "cell_type": "markdown",
   "id": "738f2fc5",
   "metadata": {},
   "source": [
    "## BOOTSTRAP Betas y R2 SBUX"
   ]
  },
  {
   "cell_type": "code",
   "execution_count": 122,
   "id": "345187fb",
   "metadata": {},
   "outputs": [],
   "source": [
    "# bootstrap, betas y R2\n",
    "n = 5000\n",
    "betas = []\n",
    "r2 = []\n",
    "for i in range(n):\n",
    "    bootstrape_df = rt.sample(len(rt), replace=True)\n",
    "    X = bootstrape_df[['VTI']]\n",
    "    y = bootstrape_df[['SBUX']]\n",
    "    \n",
    "    \n",
    "    #Tomar betas\n",
    "    model = LinearRegression().fit(X,y)\n",
    "    betas.append(model.coef_[0][0])\n",
    "    \n",
    "    #Calcular R2\n",
    "    predictions = model.predict(X)\n",
    "    promedio = bootstrape_df['VTI'].mean()\n",
    "    calculated_r2 = r2_score(y_true = y, y_pred=predictions)\n",
    "    r2.append(calculated_r2)\n",
    "    \n",
    "    df = pd.DataFrame()\n",
    "    df['r2'] = r2\n",
    "    df['betas']=betas"
   ]
  },
  {
   "cell_type": "code",
   "execution_count": 123,
   "id": "27f2b9dc",
   "metadata": {},
   "outputs": [
    {
     "data": {
      "image/png": "[encoded data removed]",
      "text/plain": [
       "<Figure size 432x288 with 1 Axes>"
      ]
     },
     "metadata": {
      "needs_background": "light"
     },
     "output_type": "display_data"
    }
   ],
   "source": [
    "# Histograma de las betas\n",
    "plt.hist(betas, bins=50)\n",
    "plt.show()"
   ]
  },
  {
   "cell_type": "markdown",
   "id": "c6d5d091",
   "metadata": {},
   "source": [
    "## ¿Cuál es la probabilidad de que el beta sea menor a 1?"
   ]
  },
  {
   "cell_type": "code",
   "execution_count": 124,
   "id": "54250425",
   "metadata": {},
   "outputs": [
    {
     "data": {
      "text/plain": [
       "0.4522"
      ]
     },
     "execution_count": 124,
     "metadata": {},
     "output_type": "execute_result"
    }
   ],
   "source": [
    "np.mean([ i >1 for i in betas])"
   ]
  },
  {
   "cell_type": "code",
   "execution_count": 125,
   "id": "ff4d3041",
   "metadata": {},
   "outputs": [
    {
     "data": {
      "image/png": "[encoded data removed]",
      "text/plain": [
       "<Figure size 432x288 with 1 Axes>"
      ]
     },
     "metadata": {
      "needs_background": "light"
     },
     "output_type": "display_data"
    }
   ],
   "source": [
    "# Histograma del R2\n",
    "plt.hist(r2, bins = 50)\n",
    "plt.show()"
   ]
  },
  {
   "cell_type": "markdown",
   "id": "0c21d1f4",
   "metadata": {},
   "source": [
    "## Probabilidad de que el 0.5 de la variación este explicado por el modelo "
   ]
  },
  {
   "cell_type": "code",
   "execution_count": 126,
   "id": "a09cc5f5",
   "metadata": {},
   "outputs": [
    {
     "data": {
      "text/plain": [
       "0.4826"
      ]
     },
     "execution_count": 126,
     "metadata": {},
     "output_type": "execute_result"
    }
   ],
   "source": [
    "(df.r2 > 0.5).mean()"
   ]
  },
  {
   "cell_type": "markdown",
   "id": "16cb22f2",
   "metadata": {},
   "source": [
    "## Analisis de estilo\n",
    "\n",
    "### 20%\n",
    "\n",
    "Sobre el portafoli optimo, realiza un analisis de estilo con:\n",
    "\n",
    "Russell 1000 Growth (^RLG)\n",
    "\n",
    "Russell 1000 Value (^RLV)\n",
    "\n",
    "Russell 2000 Growth (^RUO)\n",
    "\n",
    "Russell 2000 Value (^RUJ)\n",
    "\n",
    "¿cuál es el R2?"
   ]
  },
  {
   "cell_type": "code",
   "execution_count": 127,
   "id": "11166cce",
   "metadata": {},
   "outputs": [
    {
     "data": {
      "text/html": [
       "<div>\n",
       "<style scoped>\n",
       "    .dataframe tbody tr th:only-of-type {\n",
       "        vertical-align: middle;\n",
       "    }\n",
       "\n",
       "    .dataframe tbody tr th {\n",
       "        vertical-align: top;\n",
       "    }\n",
       "\n",
       "    .dataframe thead th {\n",
       "        text-align: right;\n",
       "    }\n",
       "</style>\n",
       "<table border=\"1\" class=\"dataframe\">\n",
       "  <thead>\n",
       "    <tr style=\"text-align: right;\">\n",
       "      <th></th>\n",
       "      <th>AAPL</th>\n",
       "      <th>AMZN</th>\n",
       "      <th>COST</th>\n",
       "      <th>DFS</th>\n",
       "      <th>SBUX</th>\n",
       "      <th>VTI</th>\n",
       "    </tr>\n",
       "    <tr>\n",
       "      <th>Date</th>\n",
       "      <th></th>\n",
       "      <th></th>\n",
       "      <th></th>\n",
       "      <th></th>\n",
       "      <th></th>\n",
       "      <th></th>\n",
       "    </tr>\n",
       "  </thead>\n",
       "  <tbody>\n",
       "    <tr>\n",
       "      <th>2016-01-05 00:00:00-05:00</th>\n",
       "      <td>-0.025059</td>\n",
       "      <td>-0.005024</td>\n",
       "      <td>0.002445</td>\n",
       "      <td>-0.002277</td>\n",
       "      <td>0.006694</td>\n",
       "      <td>0.002239</td>\n",
       "    </tr>\n",
       "    <tr>\n",
       "      <th>2016-01-06 00:00:00-05:00</th>\n",
       "      <td>-0.019570</td>\n",
       "      <td>-0.001799</td>\n",
       "      <td>-0.009254</td>\n",
       "      <td>-0.019585</td>\n",
       "      <td>-0.008866</td>\n",
       "      <td>-0.013402</td>\n",
       "    </tr>\n",
       "    <tr>\n",
       "      <th>2016-01-07 00:00:00-05:00</th>\n",
       "      <td>-0.042205</td>\n",
       "      <td>-0.039058</td>\n",
       "      <td>-0.022909</td>\n",
       "      <td>-0.018619</td>\n",
       "      <td>-0.024772</td>\n",
       "      <td>-0.024510</td>\n",
       "    </tr>\n",
       "    <tr>\n",
       "      <th>2016-01-08 00:00:00-05:00</th>\n",
       "      <td>0.005288</td>\n",
       "      <td>-0.001464</td>\n",
       "      <td>-0.017504</td>\n",
       "      <td>-0.012451</td>\n",
       "      <td>-0.001058</td>\n",
       "      <td>-0.011403</td>\n",
       "    </tr>\n",
       "    <tr>\n",
       "      <th>2016-01-11 00:00:00-05:00</th>\n",
       "      <td>0.016192</td>\n",
       "      <td>0.017610</td>\n",
       "      <td>0.017159</td>\n",
       "      <td>0.010406</td>\n",
       "      <td>0.021014</td>\n",
       "      <td>-0.000612</td>\n",
       "    </tr>\n",
       "    <tr>\n",
       "      <th>...</th>\n",
       "      <td>...</td>\n",
       "      <td>...</td>\n",
       "      <td>...</td>\n",
       "      <td>...</td>\n",
       "      <td>...</td>\n",
       "      <td>...</td>\n",
       "    </tr>\n",
       "    <tr>\n",
       "      <th>2020-12-24 00:00:00-05:00</th>\n",
       "      <td>0.007712</td>\n",
       "      <td>-0.003949</td>\n",
       "      <td>0.007433</td>\n",
       "      <td>-0.000905</td>\n",
       "      <td>-0.000490</td>\n",
       "      <td>-0.002380</td>\n",
       "    </tr>\n",
       "    <tr>\n",
       "      <th>2020-12-28 00:00:00-05:00</th>\n",
       "      <td>0.035766</td>\n",
       "      <td>0.035071</td>\n",
       "      <td>0.017774</td>\n",
       "      <td>0.000000</td>\n",
       "      <td>0.022841</td>\n",
       "      <td>0.006327</td>\n",
       "    </tr>\n",
       "    <tr>\n",
       "      <th>2020-12-29 00:00:00-05:00</th>\n",
       "      <td>-0.013315</td>\n",
       "      <td>0.011584</td>\n",
       "      <td>0.004474</td>\n",
       "      <td>-0.003058</td>\n",
       "      <td>0.012363</td>\n",
       "      <td>-0.004174</td>\n",
       "    </tr>\n",
       "    <tr>\n",
       "      <th>2020-12-30 00:00:00-05:00</th>\n",
       "      <td>-0.008527</td>\n",
       "      <td>-0.010882</td>\n",
       "      <td>0.004642</td>\n",
       "      <td>0.014542</td>\n",
       "      <td>0.003219</td>\n",
       "      <td>0.002691</td>\n",
       "    </tr>\n",
       "    <tr>\n",
       "      <th>2020-12-31 00:00:00-05:00</th>\n",
       "      <td>-0.007703</td>\n",
       "      <td>-0.008801</td>\n",
       "      <td>0.006222</td>\n",
       "      <td>0.013774</td>\n",
       "      <td>0.009531</td>\n",
       "      <td>0.004594</td>\n",
       "    </tr>\n",
       "  </tbody>\n",
       "</table>\n",
       "<p>1258 rows × 6 columns</p>\n",
       "</div>"
      ],
      "text/plain": [
       "                               AAPL      AMZN      COST       DFS      SBUX  \\\n",
       "Date                                                                          \n",
       "2016-01-05 00:00:00-05:00 -0.025059 -0.005024  0.002445 -0.002277  0.006694   \n",
       "2016-01-06 00:00:00-05:00 -0.019570 -0.001799 -0.009254 -0.019585 -0.008866   \n",
       "2016-01-07 00:00:00-05:00 -0.042205 -0.039058 -0.022909 -0.018619 -0.024772   \n",
       "2016-01-08 00:00:00-05:00  0.005288 -0.001464 -0.017504 -0.012451 -0.001058   \n",
       "2016-01-11 00:00:00-05:00  0.016192  0.017610  0.017159  0.010406  0.021014   \n",
       "...                             ...       ...       ...       ...       ...   \n",
       "2020-12-24 00:00:00-05:00  0.007712 -0.003949  0.007433 -0.000905 -0.000490   \n",
       "2020-12-28 00:00:00-05:00  0.035766  0.035071  0.017774  0.000000  0.022841   \n",
       "2020-12-29 00:00:00-05:00 -0.013315  0.011584  0.004474 -0.003058  0.012363   \n",
       "2020-12-30 00:00:00-05:00 -0.008527 -0.010882  0.004642  0.014542  0.003219   \n",
       "2020-12-31 00:00:00-05:00 -0.007703 -0.008801  0.006222  0.013774  0.009531   \n",
       "\n",
       "                                VTI  \n",
       "Date                                 \n",
       "2016-01-05 00:00:00-05:00  0.002239  \n",
       "2016-01-06 00:00:00-05:00 -0.013402  \n",
       "2016-01-07 00:00:00-05:00 -0.024510  \n",
       "2016-01-08 00:00:00-05:00 -0.011403  \n",
       "2016-01-11 00:00:00-05:00 -0.000612  \n",
       "...                             ...  \n",
       "2020-12-24 00:00:00-05:00 -0.002380  \n",
       "2020-12-28 00:00:00-05:00  0.006327  \n",
       "2020-12-29 00:00:00-05:00 -0.004174  \n",
       "2020-12-30 00:00:00-05:00  0.002691  \n",
       "2020-12-31 00:00:00-05:00  0.004594  \n",
       "\n",
       "[1258 rows x 6 columns]"
      ]
     },
     "execution_count": 127,
     "metadata": {},
     "output_type": "execute_result"
    }
   ],
   "source": [
    "rt"
   ]
  },
  {
   "cell_type": "code",
   "execution_count": 128,
   "id": "403e6a45",
   "metadata": {},
   "outputs": [
    {
     "name": "stdout",
     "output_type": "stream",
     "text": [
      "[*********************100%***********************]  4 of 4 completed\n"
     ]
    },
    {
     "data": {
      "text/html": [
       "<div>\n",
       "<style scoped>\n",
       "    .dataframe tbody tr th:only-of-type {\n",
       "        vertical-align: middle;\n",
       "    }\n",
       "\n",
       "    .dataframe tbody tr th {\n",
       "        vertical-align: top;\n",
       "    }\n",
       "\n",
       "    .dataframe thead th {\n",
       "        text-align: right;\n",
       "    }\n",
       "</style>\n",
       "<table border=\"1\" class=\"dataframe\">\n",
       "  <thead>\n",
       "    <tr style=\"text-align: right;\">\n",
       "      <th></th>\n",
       "      <th>VTI</th>\n",
       "      <th>^RLG</th>\n",
       "      <th>^RLV</th>\n",
       "      <th>^RUJ</th>\n",
       "      <th>^RUO</th>\n",
       "    </tr>\n",
       "    <tr>\n",
       "      <th>Date</th>\n",
       "      <th></th>\n",
       "      <th></th>\n",
       "      <th></th>\n",
       "      <th></th>\n",
       "      <th></th>\n",
       "    </tr>\n",
       "  </thead>\n",
       "  <tbody>\n",
       "    <tr>\n",
       "      <th>2016-01-05 00:00:00-05:00</th>\n",
       "      <td>0.002239</td>\n",
       "      <td>0.000966</td>\n",
       "      <td>0.002636</td>\n",
       "      <td>0.003358</td>\n",
       "      <td>-0.000058</td>\n",
       "    </tr>\n",
       "    <tr>\n",
       "      <th>2016-01-06 00:00:00-05:00</th>\n",
       "      <td>-0.013402</td>\n",
       "      <td>-0.010995</td>\n",
       "      <td>-0.016080</td>\n",
       "      <td>-0.011132</td>\n",
       "      <td>-0.017787</td>\n",
       "    </tr>\n",
       "    <tr>\n",
       "      <th>2016-01-07 00:00:00-05:00</th>\n",
       "      <td>-0.024510</td>\n",
       "      <td>-0.025163</td>\n",
       "      <td>-0.022901</td>\n",
       "      <td>-0.026690</td>\n",
       "      <td>-0.027771</td>\n",
       "    </tr>\n",
       "    <tr>\n",
       "      <th>2016-01-08 00:00:00-05:00</th>\n",
       "      <td>-0.011403</td>\n",
       "      <td>-0.009613</td>\n",
       "      <td>-0.012302</td>\n",
       "      <td>-0.016354</td>\n",
       "      <td>-0.018140</td>\n",
       "    </tr>\n",
       "    <tr>\n",
       "      <th>2016-01-11 00:00:00-05:00</th>\n",
       "      <td>-0.000612</td>\n",
       "      <td>0.000447</td>\n",
       "      <td>-0.000309</td>\n",
       "      <td>-0.000413</td>\n",
       "      <td>-0.007812</td>\n",
       "    </tr>\n",
       "    <tr>\n",
       "      <th>...</th>\n",
       "      <td>...</td>\n",
       "      <td>...</td>\n",
       "      <td>...</td>\n",
       "      <td>...</td>\n",
       "      <td>...</td>\n",
       "    </tr>\n",
       "    <tr>\n",
       "      <th>2020-12-24 00:00:00-05:00</th>\n",
       "      <td>-0.002380</td>\n",
       "      <td>0.003933</td>\n",
       "      <td>0.001992</td>\n",
       "      <td>-0.000425</td>\n",
       "      <td>-0.002598</td>\n",
       "    </tr>\n",
       "    <tr>\n",
       "      <th>2020-12-28 00:00:00-05:00</th>\n",
       "      <td>0.006327</td>\n",
       "      <td>0.008857</td>\n",
       "      <td>0.003226</td>\n",
       "      <td>0.001512</td>\n",
       "      <td>-0.008665</td>\n",
       "    </tr>\n",
       "    <tr>\n",
       "      <th>2020-12-29 00:00:00-05:00</th>\n",
       "      <td>-0.004174</td>\n",
       "      <td>-0.002450</td>\n",
       "      <td>-0.003440</td>\n",
       "      <td>-0.015212</td>\n",
       "      <td>-0.021448</td>\n",
       "    </tr>\n",
       "    <tr>\n",
       "      <th>2020-12-30 00:00:00-05:00</th>\n",
       "      <td>0.002691</td>\n",
       "      <td>-0.000520</td>\n",
       "      <td>0.004788</td>\n",
       "      <td>0.010780</td>\n",
       "      <td>0.010300</td>\n",
       "    </tr>\n",
       "    <tr>\n",
       "      <th>2020-12-31 00:00:00-05:00</th>\n",
       "      <td>0.004594</td>\n",
       "      <td>0.002714</td>\n",
       "      <td>0.008052</td>\n",
       "      <td>0.000746</td>\n",
       "      <td>-0.005651</td>\n",
       "    </tr>\n",
       "  </tbody>\n",
       "</table>\n",
       "<p>1257 rows × 5 columns</p>\n",
       "</div>"
      ],
      "text/plain": [
       "                                VTI      ^RLG      ^RLV      ^RUJ      ^RUO\n",
       "Date                                                                       \n",
       "2016-01-05 00:00:00-05:00  0.002239  0.000966  0.002636  0.003358 -0.000058\n",
       "2016-01-06 00:00:00-05:00 -0.013402 -0.010995 -0.016080 -0.011132 -0.017787\n",
       "2016-01-07 00:00:00-05:00 -0.024510 -0.025163 -0.022901 -0.026690 -0.027771\n",
       "2016-01-08 00:00:00-05:00 -0.011403 -0.009613 -0.012302 -0.016354 -0.018140\n",
       "2016-01-11 00:00:00-05:00 -0.000612  0.000447 -0.000309 -0.000413 -0.007812\n",
       "...                             ...       ...       ...       ...       ...\n",
       "2020-12-24 00:00:00-05:00 -0.002380  0.003933  0.001992 -0.000425 -0.002598\n",
       "2020-12-28 00:00:00-05:00  0.006327  0.008857  0.003226  0.001512 -0.008665\n",
       "2020-12-29 00:00:00-05:00 -0.004174 -0.002450 -0.003440 -0.015212 -0.021448\n",
       "2020-12-30 00:00:00-05:00  0.002691 -0.000520  0.004788  0.010780  0.010300\n",
       "2020-12-31 00:00:00-05:00  0.004594  0.002714  0.008052  0.000746 -0.005651\n",
       "\n",
       "[1257 rows x 5 columns]"
      ]
     },
     "execution_count": 128,
     "metadata": {},
     "output_type": "execute_result"
    }
   ],
   "source": [
    "w_AAPL = max_sharpe.AAPL.values[0]\n",
    "w_AMZN = max_sharpe.AMZN.values[0]\n",
    "w_DFS = max_sharpe.DFS.values[0]\n",
    "w_COST = max_sharpe.COST.values[0]\n",
    "w_SBUX = max_sharpe.SBUX.values[0]\n",
    "\n",
    "tickers_analisis_estilo = ['^RLG', '^RLV', '^RUO', '^RUJ']\n",
    "closes = yf.download(tickers_analisis_estilo, start=start_date, end = end_date)['Close']\n",
    "ret = closes.pct_change().dropna()\n",
    "ret.head()\n",
    "\n",
    "\n",
    "rt_drop_VTI = rt.drop('VTI', axis = 1)\n",
    "rt_drop_VTI['portafolio_sharpe'] = w_AAPL * rt_drop_VTI['AAPL'] + w_AMZN * rt_drop_VTI['AMZN'] + w_DFS * rt_drop_VTI['DFS'] + w_COST * rt_drop_VTI['COST'] + w_SBUX * rt_drop_VTI['SBUX']\n",
    "rt_ponderado = rt.drop(['AAPL','AMZN','DFS','COST','SBUX'], axis = 1)\n",
    "rt_ponderado.head()\n",
    "\n",
    "rt_oficial = rt_ponderado.merge(ret, on = 'Date')\n",
    "rt_oficial"
   ]
  },
  {
   "cell_type": "code",
   "execution_count": 129,
   "id": "961294cb",
   "metadata": {},
   "outputs": [
    {
     "ename": "KeyError",
     "evalue": "'portafolio_sharpe'",
     "output_type": "error",
     "traceback": [
      "\u001b[1;31m---------------------------------------------------------------------------\u001b[0m",
      "\u001b[1;31mKeyError\u001b[0m                                  Traceback (most recent call last)",
      "File \u001b[1;32m~\\anaconda3\\lib\\site-packages\\pandas\\core\\indexes\\base.py:3621\u001b[0m, in \u001b[0;36mIndex.get_loc\u001b[1;34m(self, key, method, tolerance)\u001b[0m\n\u001b[0;32m   3620\u001b[0m \u001b[38;5;28;01mtry\u001b[39;00m:\n\u001b[1;32m-> 3621\u001b[0m     \u001b[38;5;28;01mreturn\u001b[39;00m \u001b[38;5;28;43mself\u001b[39;49m\u001b[38;5;241;43m.\u001b[39;49m\u001b[43m_engine\u001b[49m\u001b[38;5;241;43m.\u001b[39;49m\u001b[43mget_loc\u001b[49m\u001b[43m(\u001b[49m\u001b[43mcasted_key\u001b[49m\u001b[43m)\u001b[49m\n\u001b[0;32m   3622\u001b[0m \u001b[38;5;28;01mexcept\u001b[39;00m \u001b[38;5;167;01mKeyError\u001b[39;00m \u001b[38;5;28;01mas\u001b[39;00m err:\n",
      "File \u001b[1;32m~\\anaconda3\\lib\\site-packages\\pandas\\_libs\\index.pyx:136\u001b[0m, in \u001b[0;36mpandas._libs.index.IndexEngine.get_loc\u001b[1;34m()\u001b[0m\n",
      "File \u001b[1;32m~\\anaconda3\\lib\\site-packages\\pandas\\_libs\\index.pyx:163\u001b[0m, in \u001b[0;36mpandas._libs.index.IndexEngine.get_loc\u001b[1;34m()\u001b[0m\n",
      "File \u001b[1;32mpandas\\_libs\\hashtable_class_helper.pxi:5198\u001b[0m, in \u001b[0;36mpandas._libs.hashtable.PyObjectHashTable.get_item\u001b[1;34m()\u001b[0m\n",
      "File \u001b[1;32mpandas\\_libs\\hashtable_class_helper.pxi:5206\u001b[0m, in \u001b[0;36mpandas._libs.hashtable.PyObjectHashTable.get_item\u001b[1;34m()\u001b[0m\n",
      "\u001b[1;31mKeyError\u001b[0m: 'portafolio_sharpe'",
      "\nThe above exception was the direct cause of the following exception:\n",
      "\u001b[1;31mKeyError\u001b[0m                                  Traceback (most recent call last)",
      "Input \u001b[1;32mIn [129]\u001b[0m, in \u001b[0;36m<cell line: 26>\u001b[1;34m()\u001b[0m\n\u001b[0;32m     23\u001b[0m     \u001b[38;5;28;01mreturn\u001b[39;00m style\n\u001b[0;32m     25\u001b[0m \u001b[38;5;66;03m# Datos\u001b[39;00m\n\u001b[1;32m---> 26\u001b[0m y \u001b[38;5;241m=\u001b[39m \u001b[43mrt_oficial\u001b[49m\u001b[43m[\u001b[49m\u001b[38;5;124;43m'\u001b[39;49m\u001b[38;5;124;43mportafolio_sharpe\u001b[39;49m\u001b[38;5;124;43m'\u001b[39;49m\u001b[43m]\u001b[49m\n\u001b[0;32m     27\u001b[0m X \u001b[38;5;241m=\u001b[39m rt_oficial[[\u001b[38;5;124m'\u001b[39m\u001b[38;5;124m^RLG\u001b[39m\u001b[38;5;124m'\u001b[39m, \u001b[38;5;124m'\u001b[39m\u001b[38;5;124m^RLV\u001b[39m\u001b[38;5;124m'\u001b[39m, \u001b[38;5;124m'\u001b[39m\u001b[38;5;124m^RUO\u001b[39m\u001b[38;5;124m'\u001b[39m, \u001b[38;5;124m'\u001b[39m\u001b[38;5;124m^RUJ\u001b[39m\u001b[38;5;124m'\u001b[39m]]\n",
      "File \u001b[1;32m~\\anaconda3\\lib\\site-packages\\pandas\\core\\frame.py:3505\u001b[0m, in \u001b[0;36mDataFrame.__getitem__\u001b[1;34m(self, key)\u001b[0m\n\u001b[0;32m   3503\u001b[0m \u001b[38;5;28;01mif\u001b[39;00m \u001b[38;5;28mself\u001b[39m\u001b[38;5;241m.\u001b[39mcolumns\u001b[38;5;241m.\u001b[39mnlevels \u001b[38;5;241m>\u001b[39m \u001b[38;5;241m1\u001b[39m:\n\u001b[0;32m   3504\u001b[0m     \u001b[38;5;28;01mreturn\u001b[39;00m \u001b[38;5;28mself\u001b[39m\u001b[38;5;241m.\u001b[39m_getitem_multilevel(key)\n\u001b[1;32m-> 3505\u001b[0m indexer \u001b[38;5;241m=\u001b[39m \u001b[38;5;28;43mself\u001b[39;49m\u001b[38;5;241;43m.\u001b[39;49m\u001b[43mcolumns\u001b[49m\u001b[38;5;241;43m.\u001b[39;49m\u001b[43mget_loc\u001b[49m\u001b[43m(\u001b[49m\u001b[43mkey\u001b[49m\u001b[43m)\u001b[49m\n\u001b[0;32m   3506\u001b[0m \u001b[38;5;28;01mif\u001b[39;00m is_integer(indexer):\n\u001b[0;32m   3507\u001b[0m     indexer \u001b[38;5;241m=\u001b[39m [indexer]\n",
      "File \u001b[1;32m~\\anaconda3\\lib\\site-packages\\pandas\\core\\indexes\\base.py:3623\u001b[0m, in \u001b[0;36mIndex.get_loc\u001b[1;34m(self, key, method, tolerance)\u001b[0m\n\u001b[0;32m   3621\u001b[0m     \u001b[38;5;28;01mreturn\u001b[39;00m \u001b[38;5;28mself\u001b[39m\u001b[38;5;241m.\u001b[39m_engine\u001b[38;5;241m.\u001b[39mget_loc(casted_key)\n\u001b[0;32m   3622\u001b[0m \u001b[38;5;28;01mexcept\u001b[39;00m \u001b[38;5;167;01mKeyError\u001b[39;00m \u001b[38;5;28;01mas\u001b[39;00m err:\n\u001b[1;32m-> 3623\u001b[0m     \u001b[38;5;28;01mraise\u001b[39;00m \u001b[38;5;167;01mKeyError\u001b[39;00m(key) \u001b[38;5;28;01mfrom\u001b[39;00m \u001b[38;5;21;01merr\u001b[39;00m\n\u001b[0;32m   3624\u001b[0m \u001b[38;5;28;01mexcept\u001b[39;00m \u001b[38;5;167;01mTypeError\u001b[39;00m:\n\u001b[0;32m   3625\u001b[0m     \u001b[38;5;66;03m# If we have a listlike key, _check_indexing_error will raise\u001b[39;00m\n\u001b[0;32m   3626\u001b[0m     \u001b[38;5;66;03m#  InvalidIndexError. Otherwise we fall through and re-raise\u001b[39;00m\n\u001b[0;32m   3627\u001b[0m     \u001b[38;5;66;03m#  the TypeError.\u001b[39;00m\n\u001b[0;32m   3628\u001b[0m     \u001b[38;5;28mself\u001b[39m\u001b[38;5;241m.\u001b[39m_check_indexing_error(key)\n",
      "\u001b[1;31mKeyError\u001b[0m: 'portafolio_sharpe'"
     ]
    }
   ],
   "source": [
    "# Importamos la librería optimize de scipy\n",
    "def model_fit(X, y):\n",
    "    def obj(coef, r_fondo, r_estilos):\n",
    "        alpha = coef[0]\n",
    "        w = coef[1:]\n",
    "        modelo = alpha + r_estilos.dot(w)\n",
    "        residuales = r_fondo - modelo\n",
    "        return (residuales**2).mean()\n",
    "\n",
    "\n",
    "    coef0 = [0, 0.25, 0.25, 0.25, 0.25]\n",
    "    cons = {'type': 'eq', 'fun': lambda coef: coef[1:].sum() - 1}\n",
    "    bnds = ((None, None),) + ((0, None),) * 4\n",
    "    # Resolvemos\n",
    "    style = minimize(\n",
    "        fun=obj,\n",
    "        x0=coef0,\n",
    "        args=(y, X),\n",
    "        bounds=bnds,\n",
    "        constraints=cons,\n",
    "        tol=1e-10\n",
    "    )\n",
    "    return style\n",
    "\n",
    "# Datos\n",
    "y = rt_oficial['portafolio_sharpe']\n",
    "X = rt_oficial[['^RLG', '^RLV', '^RUO', '^RUJ']]"
   ]
  },
  {
   "cell_type": "code",
   "execution_count": null,
   "id": "7dfab18d",
   "metadata": {},
   "outputs": [],
   "source": [
    "model = model_fit(X,y)\n",
    "model['x'][0]"
   ]
  },
  {
   "cell_type": "code",
   "execution_count": null,
   "id": "3cf0c987",
   "metadata": {},
   "outputs": [],
   "source": [
    "# Pesos\n",
    "w = model.x\n",
    "w"
   ]
  },
  {
   "cell_type": "code",
   "execution_count": null,
   "id": "dd2549f8",
   "metadata": {},
   "outputs": [],
   "source": [
    "# Verificamos pesos \n",
    "w.sum()"
   ]
  },
  {
   "cell_type": "markdown",
   "id": "87e6422c",
   "metadata": {},
   "source": [
    "## Entonces, nuestro portafolio optimo, está conformado en un\n"
   ]
  },
  {
   "cell_type": "code",
   "execution_count": null,
   "id": "ef9708e8",
   "metadata": {},
   "outputs": [],
   "source": [
    "w[1]"
   ]
  },
  {
   "cell_type": "markdown",
   "id": "5955138e",
   "metadata": {},
   "source": [
    "## Por activos de alta capialización y con baja diferencia BM (Russell 1000 Growth); está conformado en un"
   ]
  },
  {
   "cell_type": "code",
   "execution_count": null,
   "id": "12232147",
   "metadata": {},
   "outputs": [],
   "source": [
    "w[2]"
   ]
  },
  {
   "cell_type": "markdown",
   "id": "fd65a624",
   "metadata": {},
   "source": [
    "## Por activos de alta capitalización con alta diferencia BM (Russell 1000 Value); está conformado en un"
   ]
  },
  {
   "cell_type": "code",
   "execution_count": null,
   "id": "1c1c3950",
   "metadata": {},
   "outputs": [],
   "source": [
    "w[3]"
   ]
  },
  {
   "cell_type": "markdown",
   "id": "ae92e379",
   "metadata": {},
   "source": [
    "## Por activos de baja capitalización con baja diferencia BM (Russell 2000 Growth); y está conformado en un"
   ]
  },
  {
   "cell_type": "code",
   "execution_count": null,
   "id": "24b4a0d0",
   "metadata": {},
   "outputs": [],
   "source": [
    "w[4]"
   ]
  },
  {
   "cell_type": "markdown",
   "id": "69fa3728",
   "metadata": {},
   "source": [
    "## Por activos de baja capitalización con alta diferencia BM (Russell 2000 Value). El restante"
   ]
  },
  {
   "cell_type": "markdown",
   "id": "dc22e4fe",
   "metadata": {},
   "source": [
    "El estilo predominante del portafolio es de alta capitalización.\n"
   ]
  },
  {
   "cell_type": "code",
   "execution_count": null,
   "id": "6147acbf",
   "metadata": {},
   "outputs": [],
   "source": [
    "# Calculamos residuales (error)\n",
    "predicciones = X.dot(w[1:])\n",
    "predicciones\n",
    "residuales = y - predicciones\n",
    "\n"
   ]
  },
  {
   "cell_type": "code",
   "execution_count": null,
   "id": "eafe86d3",
   "metadata": {},
   "outputs": [],
   "source": [
    "\n",
    "# Calculamos Rsq\n",
    "Rsq = round((1 - np.var(residuales) / np.var(y)), 3)\n",
    "print( 'Estadísticamente, el modelo propuesto explica el',Rsq,' de la variación total de los rendimientos del  portafolio.')"
   ]
  }
 ],
 "metadata": {
  "kernelspec": {
   "display_name": "Python 3 (ipykernel)",
   "language": "python",
   "name": "python3"
  },
  "language_info": {
   "codemirror_mode": {
    "name": "ipython",
    "version": 3
   },
   "file_extension": ".py",
   "mimetype": "text/x-python",
   "name": "python",
   "nbconvert_exporter": "python",
   "pygments_lexer": "ipython3",
   "version": "3.9.12"
  }
 },
 "nbformat": 4,
 "nbformat_minor": 5
}
