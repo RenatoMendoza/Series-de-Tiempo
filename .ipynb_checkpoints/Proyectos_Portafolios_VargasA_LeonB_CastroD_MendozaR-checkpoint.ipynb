{
 "cells": [
  {
   "cell_type": "markdown",
   "metadata": {},
   "source": [
    "___\n",
    "<img style=\"float: right; margin: 0px 0px 15px 15px;\" src=\"https://upload.wikimedia.org/wikipedia/commons/0/08/Pareto_Efficient_Frontier_for_the_Markowitz_Portfolio_selection_problem..png\" width=\"300px\" height=\"100px\" />\n",
    "\n",
    "\n",
    "# Proyecto Final\n",
    "\n",
    "En el proyecto final diseñarás un portafolio de inversión utilizando activos (o ETFs) reales de tu preferencia. Utilizarás todas las herramientas vistas a lo largo del curso para este fin, y después, evaluarás qué tan buena hubiera sido tu inversión de haber invertido en este portafolio.\n",
    "\n",
    "El proyecto se realizará en equipos de mínimo dos (2) y máximo tres (3) personas. Ni más, ni menos. Para esto, deberán conformar los equipos en este momento, y designar a un miembro del equipo que me envíe un correo con los nombres de los integrantes.\n",
    "___"
   ]
  },
  {
   "cell_type": "markdown",
   "metadata": {},
   "source": [
    "### Integrantes\n",
    "\n",
    "- Renato Gonzalez Mendoza\n",
    "- Dario Castro Gonzalez\n",
    "- Antonio Vargas\n",
    "- Bruno Leon"
   ]
  },
  {
   "cell_type": "markdown",
   "metadata": {},
   "source": [
    "## 1. Elección de activos  (10%)\n",
    "\n",
    "Lo primero es elegir los activos que van a utilizar. \n",
    "\n",
    "Escoger 15 acciones de la bolsa de valores de EUA \n",
    "\n",
    "En cualquiera de los tres casos deben explicar detalladamente la elección de cada uno de los activos y/o ETFs que elijan.\n",
    "\n",
    "Todos estos activos tienen que tener:\n",
    "- Market beta\n",
    "- R2 del beta\n",
    "- Hacer bootstrap de R2 y Beta, ¿Cuál es la probabiliad que la beta de X activo sea > 1? Histograma de R2 y beta\n",
    "- Analisis de la acción, P/E ratio, que clase es, que hace la empresa, cuanto vale la empresa, etc.  \n"
   ]
  },
  {
   "cell_type": "markdown",
   "metadata": {},
   "source": [
    "### Análisis de las acciones"
   ]
  },
  {
   "cell_type": "markdown",
   "metadata": {},
   "source": [
    "- Sector Tecnológico\n",
    "> - **Vanguard Inormation Technology ETF (VGT)**\n",
    "    Este es un fondo de inversión que busca replicar el rendimiento del MSCI US Investable Market Information Technology 25/50 Index, con acciones de multiple capitalización en el sector de tecnologías de la información.\n",
    "\n",
    "    P/E ratio: 34.08    Valor de la empresa: N/A\n",
    "> - **Amazon (AMZN)**\n",
    "    Empresa encargada de venta minorista de productos de consumo y suscripciones a través de tiendas físicas y en línea en América del Norte e internacionalmente. Opera a través de tres segmentos: Norteamérica, Internacional y Amazon Web Services (AWS). Los productos de la empresa que se ofrecen a través de sus tiendas incluyen mercancías y contenidos comprados para reventa; y productos ofrecidos por vendedores externos. También fabrica y vende dispositivos electrónicos, incluidos Kindle, tabletas Fire, Fire TV, Rings, Blink, eero y Echo; y desarrolla y produce contenidos multimedia.\n",
    "\n",
    "    P/E ratio: 77.35    Valor de la empresa: 1.527T\n",
    "> - **Microsoft Corporation (MSFT)** \n",
    "    Esta empresa desarrolla y respalda software, servicios, dispositivos y soluciones en todo el mundo. Se encarga de ofrecer office, exchange, SharePoint, Microsoft Teams, office 365 Security and Compliance, Microsoft viva y Microsoft 365 copiloto; y servicios de oficina para consumidores, como suscripciones para consumidores de Microsoft 365, licencias de Office locales y otros servicios de oficina.\n",
    "\n",
    "    P/E ratio: 36.76    Valor de la empresa: 2.814T\n",
    "\n",
    "- Sector Salud\n",
    "> - **Vanguard Health Care ETF (VHT)** \n",
    "    El fondo emplea un enfoque de inversión indexado diseñado para seguir el desempeño del MSCI US Investable Market Index (IMI)/Health Care 25/50, un índice compuesto por acciones de empresas estadounidenses grandes, medianas y pequeñas dentro del sector de atención médica. clasificado en el GICS.\n",
    "\n",
    "    P/E ratio: 21.48    Valor de la empresa: N/A\n",
    "> - **Pfizer Inc. (PFE)** \n",
    "    Pfizer es una empresa farmaceútica que investiga, fabrica y manufactura y vende productos biofarmaceúticos a nivel mundial. Ofrece medicamentos y vacunas en diversas áreas terapéuticas, incluyendo cardiovascular metabólica, migraña y salud de la mujer bajo las marcas Eliquis, Nurtec ODT/Vydura y la familia Premarin.\n",
    "\n",
    "    P/E ratio: 16.47    Valor de la empresa: 170.183B\n",
    "> - **Johnson & Johnson (JNJ)** \n",
    "    Johnson & Johnson Es una empresa multinacional estadounidense, fabricante de dispositivos médicos, productos farmacéuticos, de cuidado personal e higiene. Por sus ingresos brutos es considerada de las empresas mas grandes de los Estados Unidos.\n",
    "    La corporación está conformada por mas de 200 empresas filiales que operan en casi 60 países cuyos sus productos se venden en más de 175. Las marcas de Johnson & Johnson son numerosas en medicamentos y suministros de primeros auxilios.\n",
    "\n",
    "    P/E ratio: 28.33    Valor de la empresa: 364.173B\n",
    "- Sector Energético\n",
    "> - **Exxon Mobil Corporation (XOM)** \n",
    "    Exxon Mobil Corporation se dedica a la exploración y producción de petróleo crudo y gas natural en los Estados Unidos e internacionalmente. Opera a través de los segmentos Upstream, Productos Energéticos, Productos Químicos y Productos Especiales. El segmento Upstream explora y produce petróleo crudo y gas natural.\n",
    "\n",
    "    P/E ratio: 10.32    Valor de la empresa: 416.477B\n",
    "> - **Chevron Corporation (CVX)** \n",
    "    Chevron Corporation, a través de sus subsidiarias, participa en operaciones integradas de energía y productos químicos en los Estados Unidos e internacionalmente. La empresa opera en dos segmentos, Upstream y Downstream. El segmento Upstream está involucrado en la exploración, desarrollo, producción y transporte de petróleo crudo y gas natural; licuefacción, transporte y regasificación asociados al gas natural licuado; transporte de petróleo crudo a través de oleoductos; y procesamiento, transporte, almacenamiento y comercialización de gas natural, así como una planta de conversión de gas a líquidos. El segmento Downstream refina el petróleo crudo para convertirlo en productos derivados del petróleo.\n",
    "\n",
    "    P/E ratio: 10.71    Valor de la empresa: 272.516B\n",
    "- Sector de Consumo Discrecional\n",
    "> - **Vanguard Consumer Discretionary ETF (VCR)** \n",
    "    El fondo emplea un enfoque de inversión indexado diseñado para seguir el rendimiento del MSCI US Investable Market Index/Consumer Discretionary 25/50, un índice compuesto por acciones de empresas estadounidenses grandes, medianas y pequeñas dentro del sector de consumo discrecional, así como clasificados bajo el GICS.\n",
    "\n",
    "    P/E ratio: 26.18    Valor de la empresa: 4.79B\n",
    "> - **PepsiCo, Inc. (PEP)** \n",
    "    PepsiCo, Inc. fabrica, comercializa, distribuye y vende diversas bebidas y alimentos convenientes en todo el mundo. La empresa opera a través de siete segmentos: Frito-Lay Norteamérica; Quaker Foods Norteamérica; PepsiCo Bebidas Norteamérica; América Latina; Europa; África, Medio Oriente y Asia del Sur; y Región de Asia Pacífico, Australia, Nueva Zelanda y China. Proporciona salsas, refrigerios con sabor a queso y productos para untar, así como chips de maíz, papa y tortilla; cereales, arroz, pasta, etc.\n",
    "\n",
    "    P/E ratio: 28.05    Valor de la empresa: 231.416B\n",
    "- Sector Inmobiliario\n",
    "> - **Prologis, Inc. (PLD)** \n",
    "    Prologis, Inc. es el líder mundial en bienes raíces logísticos con un enfoque en mercados de alto crecimiento y con altas barreras. Al 30 de septiembre de 2023, la compañía poseía o tenía inversiones, de propiedad total o mediante empresas de coinversión, propiedades y proyectos de desarrollo que se esperaba que totalizaran aproximadamente 1,2 mil millones de pies cuadrados (114 millones de metros cuadrados) en 19 países.\n",
    "\n",
    "    P/E ratio: 35.63    Valor de la empresa: 103.365B\n",
    "> - **American Tower Corporation (AMT)** \n",
    "    American Tower, uno de los REIT más grandes del mundo, es un propietario, operador y desarrollador independiente líder de bienes raíces de comunicaciones para múltiples inquilinos con una cartera de casi 225.000 sitios de comunicaciones y una huella altamente interconectada de instalaciones de centros de datos en EE. UU.\n",
    "\n",
    "    P/E ratio: 135.04   Valor de la empresa: 93.797B\n",
    "- Sector Financiero\n",
    "> - **Vanguard Financials ETF (VFH)** \n",
    "    El fondo emplea un enfoque de inversión indexado diseñado para seguir el desempeño del MSCI US Investable Market Index (IMI)/Financials 25/50, un índice compuesto por acciones de empresas estadounidenses grandes, medianas y pequeñas dentro del sector financiero. según la clasificación GICS.\n",
    "\n",
    "    P/E ratio: 12.57    Valor de la empresa: N/A\n",
    "> - **JPMorgan Chase & Co. (JPM)** \n",
    "    JPMorgan Chase & Co. opera como una empresa de servicios financieros a nivel mundial. Opera a través de cuatro segmentos: Banca comunitaria y de consumo (CCB), Banca corporativa y de inversión (CIB), Banca comercial (CB) y Gestión de activos y patrimonio (AWM). El segmento CCB ofrece productos de depósito, inversión y préstamos, gestión de efectivo y pagos y servicios a consumidores y pequeñas empresas; actividades de originación y servicio de hipotecas; hipotecas residenciales y préstamos sobre el valor líquido de la vivienda; y tarjetas de crédito, préstamos para automóviles, arrendamientos y servicios de viajes.\n",
    "\n",
    "    P/E ratio: 9.13     Valor de la empresa: 442.874B\n",
    "> - **Bank of America (BAC)** \n",
    "    Bank of America (BofA) es un banco privado estadounidense. Se trata del segundo más grande del país en manejo de activos, según información de BankRate, con cerca de 2.52 billones de dólares en su sistema en 2023, sólo detrás del conglomerado JP Morgan Chase. A través de sus subsidiarias, ofrece productos y servicios bancarios y financieros para consumidores individuales, pequeñas y medianas empresas, inversores institucionales, grandes corporaciones y gobiernos de todo el mundo.\n",
    "\n",
    "    P/E ratio: 8.28     Valor de la empresa: 233.93B"
   ]
  },
  {
   "cell_type": "code",
   "execution_count": 1,
   "metadata": {},
   "outputs": [],
   "source": [
    "import numpy as np\n",
    "import pandas as pd\n",
    "import matplotlib.pyplot as plt\n",
    "from sklearn.linear_model import LinearRegression\n",
    "from sklearn.metrics import r2_score\n",
    "import yfinance as yf\n",
    "import warnings"
   ]
  },
  {
   "cell_type": "code",
   "execution_count": 2,
   "metadata": {},
   "outputs": [
    {
     "name": "stdout",
     "output_type": "stream",
     "text": [
      "[*********************100%%**********************]  16 of 16 completed\n"
     ]
    }
   ],
   "source": [
    "tickers = [ 'VTI', 'VGT', 'AMZN', 'MSFT', 'VHT', 'PFE', 'JNJ', 'XOM', 'CVX', 'VCR', 'PEP', 'PLD', 'AMT', 'VFH', 'JPM', 'BAC']\n",
    "\n",
    "start_date = '2015-01-01'\n",
    "end_date = \"2021-01-01\"\n",
    "\n",
    "St = yf.download(tickers, start=start_date, end = end_date)['Close']\n",
    "rt = St.pct_change().dropna()"
   ]
  },
  {
   "cell_type": "code",
   "execution_count": null,
   "metadata": {},
   "outputs": [],
   "source": []
  },
  {
   "cell_type": "code",
   "execution_count": 3,
   "metadata": {},
   "outputs": [],
   "source": [
    "betas = {}\n",
    "for i in tickers:\n",
    "    if i != 'VTI':\n",
    "\n",
    "        flag_df = rt[[i, 'VTI']]\n",
    "    \n",
    "        model = LinearRegression()\n",
    "        X = flag_df[['VTI']]\n",
    "        y = flag_df[[i]]\n",
    "        model.fit(X,y)\n",
    "    \n",
    "        beta = model.coef_[0][0]\n",
    "        predicciones = model.predict(X)\n",
    "        resultado_r2 = r2_score(y_pred=predicciones, y_true=y)\n",
    "        \n",
    "        betas[i] = [beta, resultado_r2]"
   ]
  },
  {
   "cell_type": "code",
   "execution_count": 4,
   "metadata": {},
   "outputs": [
    {
     "data": {
      "text/html": [
       "<div>\n",
       "<style scoped>\n",
       "    .dataframe tbody tr th:only-of-type {\n",
       "        vertical-align: middle;\n",
       "    }\n",
       "\n",
       "    .dataframe tbody tr th {\n",
       "        vertical-align: top;\n",
       "    }\n",
       "\n",
       "    .dataframe thead th {\n",
       "        text-align: right;\n",
       "    }\n",
       "</style>\n",
       "<table border=\"1\" class=\"dataframe\">\n",
       "  <thead>\n",
       "    <tr style=\"text-align: right;\">\n",
       "      <th></th>\n",
       "      <th>Tickers</th>\n",
       "      <th>Beta</th>\n",
       "      <th>r2</th>\n",
       "    </tr>\n",
       "  </thead>\n",
       "  <tbody>\n",
       "    <tr>\n",
       "      <th>0</th>\n",
       "      <td>VGT</td>\n",
       "      <td>1.138415</td>\n",
       "      <td>0.862912</td>\n",
       "    </tr>\n",
       "    <tr>\n",
       "      <th>1</th>\n",
       "      <td>AMZN</td>\n",
       "      <td>0.943457</td>\n",
       "      <td>0.322170</td>\n",
       "    </tr>\n",
       "    <tr>\n",
       "      <th>2</th>\n",
       "      <td>MSFT</td>\n",
       "      <td>1.187115</td>\n",
       "      <td>0.631600</td>\n",
       "    </tr>\n",
       "    <tr>\n",
       "      <th>3</th>\n",
       "      <td>VHT</td>\n",
       "      <td>0.892394</td>\n",
       "      <td>0.770482</td>\n",
       "    </tr>\n",
       "    <tr>\n",
       "      <th>4</th>\n",
       "      <td>PFE</td>\n",
       "      <td>0.718404</td>\n",
       "      <td>0.366164</td>\n",
       "    </tr>\n",
       "    <tr>\n",
       "      <th>5</th>\n",
       "      <td>JNJ</td>\n",
       "      <td>0.662835</td>\n",
       "      <td>0.405576</td>\n",
       "    </tr>\n",
       "    <tr>\n",
       "      <th>6</th>\n",
       "      <td>XOM</td>\n",
       "      <td>1.021626</td>\n",
       "      <td>0.467510</td>\n",
       "    </tr>\n",
       "    <tr>\n",
       "      <th>7</th>\n",
       "      <td>CVX</td>\n",
       "      <td>1.207994</td>\n",
       "      <td>0.493244</td>\n",
       "    </tr>\n",
       "    <tr>\n",
       "      <th>8</th>\n",
       "      <td>VCR</td>\n",
       "      <td>0.992846</td>\n",
       "      <td>0.866610</td>\n",
       "    </tr>\n",
       "    <tr>\n",
       "      <th>9</th>\n",
       "      <td>PEP</td>\n",
       "      <td>0.722295</td>\n",
       "      <td>0.452826</td>\n",
       "    </tr>\n",
       "    <tr>\n",
       "      <th>10</th>\n",
       "      <td>PLD</td>\n",
       "      <td>0.964565</td>\n",
       "      <td>0.472805</td>\n",
       "    </tr>\n",
       "    <tr>\n",
       "      <th>11</th>\n",
       "      <td>AMT</td>\n",
       "      <td>0.801573</td>\n",
       "      <td>0.356198</td>\n",
       "    </tr>\n",
       "    <tr>\n",
       "      <th>12</th>\n",
       "      <td>VFH</td>\n",
       "      <td>1.143381</td>\n",
       "      <td>0.782549</td>\n",
       "    </tr>\n",
       "    <tr>\n",
       "      <th>13</th>\n",
       "      <td>JPM</td>\n",
       "      <td>1.242806</td>\n",
       "      <td>0.622256</td>\n",
       "    </tr>\n",
       "    <tr>\n",
       "      <th>14</th>\n",
       "      <td>BAC</td>\n",
       "      <td>1.382528</td>\n",
       "      <td>0.591143</td>\n",
       "    </tr>\n",
       "  </tbody>\n",
       "</table>\n",
       "</div>"
      ],
      "text/plain": [
       "   Tickers      Beta        r2\n",
       "0      VGT  1.138415  0.862912\n",
       "1     AMZN  0.943457  0.322170\n",
       "2     MSFT  1.187115  0.631600\n",
       "3      VHT  0.892394  0.770482\n",
       "4      PFE  0.718404  0.366164\n",
       "5      JNJ  0.662835  0.405576\n",
       "6      XOM  1.021626  0.467510\n",
       "7      CVX  1.207994  0.493244\n",
       "8      VCR  0.992846  0.866610\n",
       "9      PEP  0.722295  0.452826\n",
       "10     PLD  0.964565  0.472805\n",
       "11     AMT  0.801573  0.356198\n",
       "12     VFH  1.143381  0.782549\n",
       "13     JPM  1.242806  0.622256\n",
       "14     BAC  1.382528  0.591143"
      ]
     },
     "execution_count": 4,
     "metadata": {},
     "output_type": "execute_result"
    }
   ],
   "source": [
    "df = pd.DataFrame()\n",
    "df['Tickers'] = [i for i in betas]\n",
    "df['Beta'] = [betas[i][0] for i in betas]\n",
    "df['r2'] = [betas[i][1] for i in betas]\n",
    "df"
   ]
  },
  {
   "cell_type": "markdown",
   "metadata": {},
   "source": [
    "### Bootstrap R2 y beta"
   ]
  },
  {
   "cell_type": "code",
   "execution_count": 5,
   "metadata": {},
   "outputs": [],
   "source": [
    "n = 1500\n",
    "results = pd.DataFrame(columns=['beta_' + i for i in tickers if i != 'VTI'] + ['r2_' + i for i in tickers if i != 'VTI'])\n",
    "\n",
    "for i in tickers:\n",
    "    if i != 'VTI':\n",
    "        betas = []\n",
    "        r2s = []\n",
    "        for j in range(n):\n",
    "            bootstrap_df = rt.sample(len(rt), replace=True)\n",
    "            X = bootstrap_df[['VTI']]\n",
    "            y = bootstrap_df[[i]]\n",
    "            model = LinearRegression().fit(X, y)\n",
    "            beta = model.coef_[0][0]\n",
    "            predictions = model.predict(X)\n",
    "            r2 = r2_score(y_true=y, y_pred=predictions)\n",
    "            betas.append(beta)\n",
    "            r2s.append(r2)\n",
    "        results['beta_' + i] = betas\n",
    "        results['r2_' + i] = r2s   "
   ]
  },
  {
   "cell_type": "code",
   "execution_count": 6,
   "metadata": {},
   "outputs": [
    {
     "data": {
      "text/html": [
       "<div>\n",
       "<style scoped>\n",
       "    .dataframe tbody tr th:only-of-type {\n",
       "        vertical-align: middle;\n",
       "    }\n",
       "\n",
       "    .dataframe tbody tr th {\n",
       "        vertical-align: top;\n",
       "    }\n",
       "\n",
       "    .dataframe thead th {\n",
       "        text-align: right;\n",
       "    }\n",
       "</style>\n",
       "<table border=\"1\" class=\"dataframe\">\n",
       "  <thead>\n",
       "    <tr style=\"text-align: right;\">\n",
       "      <th></th>\n",
       "      <th>ticker</th>\n",
       "      <th>prob_beta&gt;1</th>\n",
       "    </tr>\n",
       "  </thead>\n",
       "  <tbody>\n",
       "    <tr>\n",
       "      <th>0</th>\n",
       "      <td>VGT</td>\n",
       "      <td>1.0</td>\n",
       "    </tr>\n",
       "    <tr>\n",
       "      <th>1</th>\n",
       "      <td>AMZN</td>\n",
       "      <td>0.224667</td>\n",
       "    </tr>\n",
       "    <tr>\n",
       "      <th>2</th>\n",
       "      <td>MSFT</td>\n",
       "      <td>1.0</td>\n",
       "    </tr>\n",
       "    <tr>\n",
       "      <th>3</th>\n",
       "      <td>VHT</td>\n",
       "      <td>0.0</td>\n",
       "    </tr>\n",
       "    <tr>\n",
       "      <th>4</th>\n",
       "      <td>PFE</td>\n",
       "      <td>0.0</td>\n",
       "    </tr>\n",
       "    <tr>\n",
       "      <th>5</th>\n",
       "      <td>JNJ</td>\n",
       "      <td>0.0</td>\n",
       "    </tr>\n",
       "    <tr>\n",
       "      <th>6</th>\n",
       "      <td>XOM</td>\n",
       "      <td>0.656</td>\n",
       "    </tr>\n",
       "    <tr>\n",
       "      <th>7</th>\n",
       "      <td>CVX</td>\n",
       "      <td>0.997333</td>\n",
       "    </tr>\n",
       "    <tr>\n",
       "      <th>8</th>\n",
       "      <td>VCR</td>\n",
       "      <td>0.398</td>\n",
       "    </tr>\n",
       "    <tr>\n",
       "      <th>9</th>\n",
       "      <td>PEP</td>\n",
       "      <td>0.0</td>\n",
       "    </tr>\n",
       "    <tr>\n",
       "      <th>10</th>\n",
       "      <td>PLD</td>\n",
       "      <td>0.258</td>\n",
       "    </tr>\n",
       "    <tr>\n",
       "      <th>11</th>\n",
       "      <td>AMT</td>\n",
       "      <td>0.0</td>\n",
       "    </tr>\n",
       "    <tr>\n",
       "      <th>12</th>\n",
       "      <td>VFH</td>\n",
       "      <td>1.0</td>\n",
       "    </tr>\n",
       "    <tr>\n",
       "      <th>13</th>\n",
       "      <td>JPM</td>\n",
       "      <td>1.0</td>\n",
       "    </tr>\n",
       "    <tr>\n",
       "      <th>14</th>\n",
       "      <td>BAC</td>\n",
       "      <td>1.0</td>\n",
       "    </tr>\n",
       "  </tbody>\n",
       "</table>\n",
       "</div>"
      ],
      "text/plain": [
       "   ticker prob_beta>1\n",
       "0     VGT         1.0\n",
       "1    AMZN    0.224667\n",
       "2    MSFT         1.0\n",
       "3     VHT         0.0\n",
       "4     PFE         0.0\n",
       "5     JNJ         0.0\n",
       "6     XOM       0.656\n",
       "7     CVX    0.997333\n",
       "8     VCR       0.398\n",
       "9     PEP         0.0\n",
       "10    PLD       0.258\n",
       "11    AMT         0.0\n",
       "12    VFH         1.0\n",
       "13    JPM         1.0\n",
       "14    BAC         1.0"
      ]
     },
     "execution_count": 6,
     "metadata": {},
     "output_type": "execute_result"
    }
   ],
   "source": [
    "warnings.filterwarnings('ignore')\n",
    "prob_df = pd.DataFrame(columns=['ticker', 'prob_beta>1'])\n",
    "\n",
    "for i in tickers:\n",
    "    if i != 'VTI':\n",
    "        prob_beta = np.mean([i > 1 for i in results['beta_'+ i]])\n",
    "        prob_df = prob_df.append({'ticker': i, 'prob_beta>1': prob_beta}, ignore_index=True)\n",
    "prob_df"
   ]
  },
  {
   "cell_type": "code",
   "execution_count": 7,
   "metadata": {},
   "outputs": [],
   "source": [
    "t = ['VGT', 'AMZN', 'MSFT', 'VHT', 'PFE', 'JNJ', 'XOM', 'CVX', 'VCR', 'PEP', 'PLD', 'AMT', 'VFH', 'JPM', 'BAC']"
   ]
  },
  {
   "cell_type": "code",
   "execution_count": 8,
   "metadata": {},
   "outputs": [
    {
     "data": {
      "image/png": "[encoded data removed]",
      "text/plain": [
       "<Figure size 432x288 with 1 Axes>"
      ]
     },
     "metadata": {
      "needs_background": "light"
     },
     "output_type": "display_data"
    },
    {
     "data": {
      "image/png": "[encoded data removed]",
      "text/plain": [
       "<Figure size 432x288 with 1 Axes>"
      ]
     },
     "metadata": {
      "needs_background": "light"
     },
     "output_type": "display_data"
    },
    {
     "data": {
      "image/png": "[encoded data removed]",
      "text/plain": [
       "<Figure size 432x288 with 1 Axes>"
      ]
     },
     "metadata": {
      "needs_background": "light"
     },
     "output_type": "display_data"
    },
    {
     "data": {
      "image/png": "[encoded data removed]",
      "text/plain": [
       "<Figure size 432x288 with 1 Axes>"
      ]
     },
     "metadata": {
      "needs_background": "light"
     },
     "output_type": "display_data"
    },
    {
     "data": {
      "image/png": "[encoded data removed]",
      "text/plain": [
       "<Figure size 432x288 with 1 Axes>"
      ]
     },
     "metadata": {
      "needs_background": "light"
     },
     "output_type": "display_data"
    },
    {
     "data": {
      "image/png": "[encoded data removed]",
      "text/plain": [
       "<Figure size 432x288 with 1 Axes>"
      ]
     },
     "metadata": {
      "needs_background": "light"
     },
     "output_type": "display_data"
    },
    {
     "data": {
      "image/png": "[encoded data removed]",
      "text/plain": [
       "<Figure size 432x288 with 1 Axes>"
      ]
     },
     "metadata": {
      "needs_background": "light"
     },
     "output_type": "display_data"
    },
    {
     "data": {
      "image/png": "[encoded data removed]",
      "text/plain": [
       "<Figure size 432x288 with 1 Axes>"
      ]
     },
     "metadata": {
      "needs_background": "light"
     },
     "output_type": "display_data"
    },
    {
     "data": {
      "image/png": "[encoded data removed]",
      "text/plain": [
       "<Figure size 432x288 with 1 Axes>"
      ]
     },
     "metadata": {
      "needs_background": "light"
     },
     "output_type": "display_data"
    },
    {
     "data": {
      "image/png": "[encoded data removed]",
      "text/plain": [
       "<Figure size 432x288 with 1 Axes>"
      ]
     },
     "metadata": {
      "needs_background": "light"
     },
     "output_type": "display_data"
    },
    {
     "data": {
      "image/png": "[encoded data removed]",
      "text/plain": [
       "<Figure size 432x288 with 1 Axes>"
      ]
     },
     "metadata": {
      "needs_background": "light"
     },
     "output_type": "display_data"
    },
    {
     "data": {
      "image/png": "[encoded data removed]",
      "text/plain": [
       "<Figure size 432x288 with 1 Axes>"
      ]
     },
     "metadata": {
      "needs_background": "light"
     },
     "output_type": "display_data"
    },
    {
     "data": {
      "image/png": "[encoded data removed]",
      "text/plain": [
       "<Figure size 432x288 with 1 Axes>"
      ]
     },
     "metadata": {
      "needs_background": "light"
     },
     "output_type": "display_data"
    },
    {
     "data": {
      "image/png": "[encoded data removed]",
      "text/plain": [
       "<Figure size 432x288 with 1 Axes>"
      ]
     },
     "metadata": {
      "needs_background": "light"
     },
     "output_type": "display_data"
    },
    {
     "data": {
      "image/png": "[encoded data removed]",
      "text/plain": [
       "<Figure size 432x288 with 1 Axes>"
      ]
     },
     "metadata": {
      "needs_background": "light"
     },
     "output_type": "display_data"
    }
   ],
   "source": [
    "for i in t:\n",
    "    plt.hist(results['beta_' + i], bins=50)\n",
    "    plt.title('Histograma de Betas para ' + i)\n",
    "    plt.show()"
   ]
  },
  {
   "cell_type": "code",
   "execution_count": 9,
   "metadata": {},
   "outputs": [
    {
     "data": {
      "image/png": "[encoded data removed]",
      "text/plain": [
       "<Figure size 432x288 with 1 Axes>"
      ]
     },
     "metadata": {
      "needs_background": "light"
     },
     "output_type": "display_data"
    },
    {
     "data": {
      "image/png": "[encoded data removed]",
      "text/plain": [
       "<Figure size 432x288 with 1 Axes>"
      ]
     },
     "metadata": {
      "needs_background": "light"
     },
     "output_type": "display_data"
    },
    {
     "data": {
      "image/png": "[encoded data removed]",
      "text/plain": [
       "<Figure size 432x288 with 1 Axes>"
      ]
     },
     "metadata": {
      "needs_background": "light"
     },
     "output_type": "display_data"
    },
    {
     "data": {
      "image/png": "[encoded data removed]",
      "text/plain": [
       "<Figure size 432x288 with 1 Axes>"
      ]
     },
     "metadata": {
      "needs_background": "light"
     },
     "output_type": "display_data"
    },
    {
     "data": {
      "image/png": "[encoded data removed]",
      "text/plain": [
       "<Figure size 432x288 with 1 Axes>"
      ]
     },
     "metadata": {
      "needs_background": "light"
     },
     "output_type": "display_data"
    },
    {
     "data": {
      "image/png": "[encoded data removed]",
      "text/plain": [
       "<Figure size 432x288 with 1 Axes>"
      ]
     },
     "metadata": {
      "needs_background": "light"
     },
     "output_type": "display_data"
    },
    {
     "data": {
      "image/png": "[encoded data removed]",
      "text/plain": [
       "<Figure size 432x288 with 1 Axes>"
      ]
     },
     "metadata": {
      "needs_background": "light"
     },
     "output_type": "display_data"
    },
    {
     "data": {
      "image/png": "[encoded data removed]",
      "text/plain": [
       "<Figure size 432x288 with 1 Axes>"
      ]
     },
     "metadata": {
      "needs_background": "light"
     },
     "output_type": "display_data"
    },
    {
     "data": {
      "image/png": "[encoded data removed]",
      "text/plain": [
       "<Figure size 432x288 with 1 Axes>"
      ]
     },
     "metadata": {
      "needs_background": "light"
     },
     "output_type": "display_data"
    },
    {
     "data": {
      "image/png": "[encoded data removed]",
      "text/plain": [
       "<Figure size 432x288 with 1 Axes>"
      ]
     },
     "metadata": {
      "needs_background": "light"
     },
     "output_type": "display_data"
    },
    {
     "data": {
      "image/png": "[encoded data removed]",
      "text/plain": [
       "<Figure size 432x288 with 1 Axes>"
      ]
     },
     "metadata": {
      "needs_background": "light"
     },
     "output_type": "display_data"
    },
    {
     "data": {
      "image/png": "[encoded data removed]",
      "text/plain": [
       "<Figure size 432x288 with 1 Axes>"
      ]
     },
     "metadata": {
      "needs_background": "light"
     },
     "output_type": "display_data"
    },
    {
     "data": {
      "image/png": "[encoded data removed]",
      "text/plain": [
       "<Figure size 432x288 with 1 Axes>"
      ]
     },
     "metadata": {
      "needs_background": "light"
     },
     "output_type": "display_data"
    },
    {
     "data": {
      "image/png": "[encoded data removed]",
      "text/plain": [
       "<Figure size 432x288 with 1 Axes>"
      ]
     },
     "metadata": {
      "needs_background": "light"
     },
     "output_type": "display_data"
    },
    {
     "data": {
      "image/png": "[encoded data removed]",
      "text/plain": [
       "<Figure size 432x288 with 1 Axes>"
      ]
     },
     "metadata": {
      "needs_background": "light"
     },
     "output_type": "display_data"
    }
   ],
   "source": [
    "for i in t:\n",
    "    plt.hist(results['r2_' + i], bins=50)\n",
    "    plt.title('Histograma de R2 para ' + i)\n",
    "    plt.show()"
   ]
  },
  {
   "cell_type": "markdown",
   "metadata": {},
   "source": [
    "## 2. Selección de portafolios\n",
    "\n",
    "Una vez elegidos los activos y/o ETFs:\n",
    "\n",
    "1. Usando los precios históricos de dichos activos hasta el 2015-12-31 (la fecha inicial es un parámetro que ustedes deberán elegir), diseñarán un portafolio en el que (hipotéticamente) habrían invertido durante todo el 2016. Para esto, deberán suponer un coeficiente de aversión al riesgo.\n",
    "\n",
    "2. Usando los precios históricos de dichos activos hasta el 2016-12-31, diseñarán un portafolio en el que (hipotéticamente) habrían invertido durante todo el 2017.\n",
    "\n",
    "3. Usando los precios históricos de dichos activos hasta el 2017-12-31, diseñarán un portafolio en el que (hipotéticamente) habrían invertido durante todo el 2018.\n",
    "\n",
    "4. Usando los precios históricos de dichos activos hasta el 2018-12-31, diseñarán un portafolio en el que (hipotéticamente) habrían invertido durante todo el 2019.\n",
    "\n",
    "5. Usando los precios históricos de dichos activos hasta el 2019-12-31, diseñarán un portafolio en el que (hipotéticamente) habrían invertido durante todo el 2020.\n",
    "\n",
    "6. Usando los precios históricos de dichos activos hasta el 2020-12-31, diseñarán un portafolio en el que (hipotéticamente) habrían invertido durante todo el 2021.\n",
    "\n",
    "7. Usando los precios históricos de dichos activos hasta el 2021-12-31, diseñarán un portafolio en el que (hipotéticamente) habrían invertido durante todo el 2022.\n",
    "\n",
    "8. Usando los precios históricos de dichos activos hasta el 2022-12-31, diseñarán un portafolio en el que (hipotéticamente) habrían invertido durante todo el 2023."
   ]
  },
  {
   "cell_type": "code",
   "execution_count": 10,
   "metadata": {},
   "outputs": [],
   "source": [
    "def descargar(start_date, end_date):\n",
    "    ticker = ['VGT', 'AMZN', 'MSFT', 'VHT', 'PFE', 'JNJ', 'XOM', 'CVX', 'VCR', 'PEP', 'PLD', 'AMT', 'VFH', 'JPM', 'BAC']\n",
    "    St = yf.download(ticker, start=start_date, end = end_date)['Adj Close']\n",
    "    rt = rt = St.pct_change().dropna()\n",
    "    \n",
    "    return rt\n"
   ]
  },
  {
   "cell_type": "code",
   "execution_count": 11,
   "metadata": {},
   "outputs": [],
   "source": [
    "n_port = 1000\n",
    "def portafolios_max(rf, rt):\n",
    "    sigma = rt.cov()\n",
    "    n_act = len(rt.keys())\n",
    "    W = np.random.dirichlet((1,) * n_act, size = n_port)\n",
    "    valores_esperados_markowitz = W.dot(rt.mean()) * 252\n",
    "    \n",
    "    volatilitys_markowitz = []\n",
    "    for i in W:\n",
    "        variance = i.dot(sigma).dot(i.T)\n",
    "        volatility = np.sqrt(variance) * np.sqrt(252)\n",
    "        volatilitys_markowitz.append(volatility)\n",
    "    \n",
    "    df = pd.DataFrame({\n",
    "    'valor_esperado': valores_esperados_markowitz,\n",
    "    'volatilidad': volatilitys_markowitz\n",
    "    })\n",
    "    \n",
    "    df['w_vgt'] = [i[0] for i in W]\n",
    "    df['w_amzn'] = [i[1] for i in W]\n",
    "    df['w_msft'] = [i[2] for i in W]\n",
    "    df['w_vht'] = [i[3] for i in W]\n",
    "    df['w_pfe'] = [i[4] for i in W]\n",
    "    df['w_jnj'] = [i[5] for i in W]\n",
    "    df['w_xom'] = [i[6] for i in W]\n",
    "    df['w_cvx'] = [i[7] for i in W]\n",
    "    df['w_vcr'] = [i[8] for i in W]\n",
    "    df['w_pep'] = [i[9] for i in W]\n",
    "    df['w_pld'] = [i[10] for i in W]\n",
    "    df['w_amt'] = [i[11] for i in W]\n",
    "    df['w_vfh'] = [i[12] for i in W]\n",
    "    df['w_jpm'] = [i[13] for i in W]\n",
    "    df['w_bac'] = [i[14] for i in W]\n",
    "    \n",
    "    df['sharpe'] = (df.valor_esperado - rf) / df.volatilidad\n",
    "    df_max_sharpe = df[df.sharpe == df.sharpe.max()]\n",
    "    \n",
    "    return df_max_sharpe"
   ]
  },
  {
   "cell_type": "code",
   "execution_count": 12,
   "metadata": {
    "scrolled": true
   },
   "outputs": [],
   "source": [
    "def inversion(aversion, portafolio_sharpe, rf):\n",
    "    aver = np.array([aversion])\n",
    "    e_emv = portafolio_sharpe.valor_esperado.values[0]\n",
    "    s_emv = portafolio_sharpe.volatilidad.values[0]\n",
    "    \n",
    "    asignacion = pd.DataFrame({\n",
    "        'aversion': aver,\n",
    "        'cuanto_acciones': (e_emv - rf) / (s_emv **2 *aver)\n",
    "    })\n",
    "    asignacion['cuanto_bonos'] = 1 - asignacion['cuanto_acciones']\n",
    "    \n",
    "    return asignacion\n",
    "    "
   ]
  },
  {
   "cell_type": "code",
   "execution_count": 13,
   "metadata": {},
   "outputs": [],
   "source": [
    "rf_2016 = 0.0064\n",
    "rf_2017 = 0.0080\n",
    "rf_2018 = 0.0177\n",
    "rf_2019 = 0.0255\n",
    "rf_2020 = 0.0155\n",
    "rf_2021 = 0.0010\n",
    "rf_2022 = 0.0103\n",
    "rf_2023 = 0.0471"
   ]
  },
  {
   "cell_type": "markdown",
   "metadata": {},
   "source": [
    "### Portafolio 2016"
   ]
  },
  {
   "cell_type": "code",
   "execution_count": 14,
   "metadata": {},
   "outputs": [
    {
     "name": "stdout",
     "output_type": "stream",
     "text": [
      "[*********************100%%**********************]  15 of 15 completed\n"
     ]
    }
   ],
   "source": [
    "rt_2016 = descargar('2015-01-01', '2015-12-31')"
   ]
  },
  {
   "cell_type": "code",
   "execution_count": 15,
   "metadata": {},
   "outputs": [
    {
     "data": {
      "text/html": [
       "<div>\n",
       "<style scoped>\n",
       "    .dataframe tbody tr th:only-of-type {\n",
       "        vertical-align: middle;\n",
       "    }\n",
       "\n",
       "    .dataframe tbody tr th {\n",
       "        vertical-align: top;\n",
       "    }\n",
       "\n",
       "    .dataframe thead th {\n",
       "        text-align: right;\n",
       "    }\n",
       "</style>\n",
       "<table border=\"1\" class=\"dataframe\">\n",
       "  <thead>\n",
       "    <tr style=\"text-align: right;\">\n",
       "      <th></th>\n",
       "      <th>valor_esperado</th>\n",
       "      <th>volatilidad</th>\n",
       "      <th>w_vgt</th>\n",
       "      <th>w_amzn</th>\n",
       "      <th>w_msft</th>\n",
       "      <th>w_vht</th>\n",
       "      <th>w_pfe</th>\n",
       "      <th>w_jnj</th>\n",
       "      <th>w_xom</th>\n",
       "      <th>w_cvx</th>\n",
       "      <th>w_vcr</th>\n",
       "      <th>w_pep</th>\n",
       "      <th>w_pld</th>\n",
       "      <th>w_amt</th>\n",
       "      <th>w_vfh</th>\n",
       "      <th>w_jpm</th>\n",
       "      <th>w_bac</th>\n",
       "      <th>sharpe</th>\n",
       "    </tr>\n",
       "  </thead>\n",
       "  <tbody>\n",
       "    <tr>\n",
       "      <th>846</th>\n",
       "      <td>0.401336</td>\n",
       "      <td>0.20303</td>\n",
       "      <td>0.019147</td>\n",
       "      <td>0.419836</td>\n",
       "      <td>0.041536</td>\n",
       "      <td>0.02322</td>\n",
       "      <td>0.09453</td>\n",
       "      <td>0.003169</td>\n",
       "      <td>0.057216</td>\n",
       "      <td>0.052323</td>\n",
       "      <td>0.156673</td>\n",
       "      <td>0.019337</td>\n",
       "      <td>0.002238</td>\n",
       "      <td>0.016604</td>\n",
       "      <td>0.012562</td>\n",
       "      <td>0.040281</td>\n",
       "      <td>0.041329</td>\n",
       "      <td>1.945208</td>\n",
       "    </tr>\n",
       "  </tbody>\n",
       "</table>\n",
       "</div>"
      ],
      "text/plain": [
       "     valor_esperado  volatilidad     w_vgt    w_amzn    w_msft    w_vht  \\\n",
       "846        0.401336      0.20303  0.019147  0.419836  0.041536  0.02322   \n",
       "\n",
       "       w_pfe     w_jnj     w_xom     w_cvx     w_vcr     w_pep     w_pld  \\\n",
       "846  0.09453  0.003169  0.057216  0.052323  0.156673  0.019337  0.002238   \n",
       "\n",
       "        w_amt     w_vfh     w_jpm     w_bac    sharpe  \n",
       "846  0.016604  0.012562  0.040281  0.041329  1.945208  "
      ]
     },
     "execution_count": 15,
     "metadata": {},
     "output_type": "execute_result"
    }
   ],
   "source": [
    "sharpe_2016 = portafolios_max(rf_2016, rt_2016)\n",
    "sharpe_2016"
   ]
  },
  {
   "cell_type": "code",
   "execution_count": 16,
   "metadata": {},
   "outputs": [
    {
     "data": {
      "text/html": [
       "<div>\n",
       "<style scoped>\n",
       "    .dataframe tbody tr th:only-of-type {\n",
       "        vertical-align: middle;\n",
       "    }\n",
       "\n",
       "    .dataframe tbody tr th {\n",
       "        vertical-align: top;\n",
       "    }\n",
       "\n",
       "    .dataframe thead th {\n",
       "        text-align: right;\n",
       "    }\n",
       "</style>\n",
       "<table border=\"1\" class=\"dataframe\">\n",
       "  <thead>\n",
       "    <tr style=\"text-align: right;\">\n",
       "      <th></th>\n",
       "      <th>aversion</th>\n",
       "      <th>cuanto_acciones</th>\n",
       "      <th>cuanto_bonos</th>\n",
       "    </tr>\n",
       "  </thead>\n",
       "  <tbody>\n",
       "    <tr>\n",
       "      <th>0</th>\n",
       "      <td>9</td>\n",
       "      <td>1.064541</td>\n",
       "      <td>-0.064541</td>\n",
       "    </tr>\n",
       "  </tbody>\n",
       "</table>\n",
       "</div>"
      ],
      "text/plain": [
       "   aversion  cuanto_acciones  cuanto_bonos\n",
       "0         9         1.064541     -0.064541"
      ]
     },
     "execution_count": 16,
     "metadata": {},
     "output_type": "execute_result"
    }
   ],
   "source": [
    "div_2016 = inversion(9, sharpe_2016, rf_2016)\n",
    "div_2016"
   ]
  },
  {
   "cell_type": "markdown",
   "metadata": {},
   "source": [
    "### Portafolio 2017"
   ]
  },
  {
   "cell_type": "code",
   "execution_count": 17,
   "metadata": {},
   "outputs": [
    {
     "name": "stdout",
     "output_type": "stream",
     "text": [
      "[*********************100%%**********************]  15 of 15 completed\n"
     ]
    }
   ],
   "source": [
    "rt_2017 = descargar('2016-01-01', '2016-12-31')"
   ]
  },
  {
   "cell_type": "code",
   "execution_count": 18,
   "metadata": {},
   "outputs": [
    {
     "data": {
      "text/html": [
       "<div>\n",
       "<style scoped>\n",
       "    .dataframe tbody tr th:only-of-type {\n",
       "        vertical-align: middle;\n",
       "    }\n",
       "\n",
       "    .dataframe tbody tr th {\n",
       "        vertical-align: top;\n",
       "    }\n",
       "\n",
       "    .dataframe thead th {\n",
       "        text-align: right;\n",
       "    }\n",
       "</style>\n",
       "<table border=\"1\" class=\"dataframe\">\n",
       "  <thead>\n",
       "    <tr style=\"text-align: right;\">\n",
       "      <th></th>\n",
       "      <th>valor_esperado</th>\n",
       "      <th>volatilidad</th>\n",
       "      <th>w_vgt</th>\n",
       "      <th>w_amzn</th>\n",
       "      <th>w_msft</th>\n",
       "      <th>w_vht</th>\n",
       "      <th>w_pfe</th>\n",
       "      <th>w_jnj</th>\n",
       "      <th>w_xom</th>\n",
       "      <th>w_cvx</th>\n",
       "      <th>w_vcr</th>\n",
       "      <th>w_pep</th>\n",
       "      <th>w_pld</th>\n",
       "      <th>w_amt</th>\n",
       "      <th>w_vfh</th>\n",
       "      <th>w_jpm</th>\n",
       "      <th>w_bac</th>\n",
       "      <th>sharpe</th>\n",
       "    </tr>\n",
       "  </thead>\n",
       "  <tbody>\n",
       "    <tr>\n",
       "      <th>933</th>\n",
       "      <td>0.257591</td>\n",
       "      <td>0.14453</td>\n",
       "      <td>0.023727</td>\n",
       "      <td>0.045583</td>\n",
       "      <td>0.053436</td>\n",
       "      <td>0.165343</td>\n",
       "      <td>0.161414</td>\n",
       "      <td>0.104093</td>\n",
       "      <td>0.00264</td>\n",
       "      <td>0.009406</td>\n",
       "      <td>0.033196</td>\n",
       "      <td>0.182565</td>\n",
       "      <td>0.007518</td>\n",
       "      <td>0.054631</td>\n",
       "      <td>0.041754</td>\n",
       "      <td>0.002804</td>\n",
       "      <td>0.11189</td>\n",
       "      <td>1.726921</td>\n",
       "    </tr>\n",
       "  </tbody>\n",
       "</table>\n",
       "</div>"
      ],
      "text/plain": [
       "     valor_esperado  volatilidad     w_vgt    w_amzn    w_msft     w_vht  \\\n",
       "933        0.257591      0.14453  0.023727  0.045583  0.053436  0.165343   \n",
       "\n",
       "        w_pfe     w_jnj    w_xom     w_cvx     w_vcr     w_pep     w_pld  \\\n",
       "933  0.161414  0.104093  0.00264  0.009406  0.033196  0.182565  0.007518   \n",
       "\n",
       "        w_amt     w_vfh     w_jpm    w_bac    sharpe  \n",
       "933  0.054631  0.041754  0.002804  0.11189  1.726921  "
      ]
     },
     "execution_count": 18,
     "metadata": {},
     "output_type": "execute_result"
    }
   ],
   "source": [
    "sharpe_2017 = portafolios_max(rf_2017, rt_2017)\n",
    "sharpe_2017"
   ]
  },
  {
   "cell_type": "code",
   "execution_count": 19,
   "metadata": {},
   "outputs": [
    {
     "data": {
      "text/html": [
       "<div>\n",
       "<style scoped>\n",
       "    .dataframe tbody tr th:only-of-type {\n",
       "        vertical-align: middle;\n",
       "    }\n",
       "\n",
       "    .dataframe tbody tr th {\n",
       "        vertical-align: top;\n",
       "    }\n",
       "\n",
       "    .dataframe thead th {\n",
       "        text-align: right;\n",
       "    }\n",
       "</style>\n",
       "<table border=\"1\" class=\"dataframe\">\n",
       "  <thead>\n",
       "    <tr style=\"text-align: right;\">\n",
       "      <th></th>\n",
       "      <th>aversion</th>\n",
       "      <th>cuanto_acciones</th>\n",
       "      <th>cuanto_bonos</th>\n",
       "    </tr>\n",
       "  </thead>\n",
       "  <tbody>\n",
       "    <tr>\n",
       "      <th>0</th>\n",
       "      <td>10</td>\n",
       "      <td>1.194856</td>\n",
       "      <td>-0.194856</td>\n",
       "    </tr>\n",
       "  </tbody>\n",
       "</table>\n",
       "</div>"
      ],
      "text/plain": [
       "   aversion  cuanto_acciones  cuanto_bonos\n",
       "0        10         1.194856     -0.194856"
      ]
     },
     "execution_count": 19,
     "metadata": {},
     "output_type": "execute_result"
    }
   ],
   "source": [
    "div_2017 = inversion(10, sharpe_2017, rf_2017)\n",
    "div_2017"
   ]
  },
  {
   "cell_type": "markdown",
   "metadata": {},
   "source": [
    "### Portafolio 2018"
   ]
  },
  {
   "cell_type": "code",
   "execution_count": 20,
   "metadata": {},
   "outputs": [
    {
     "name": "stdout",
     "output_type": "stream",
     "text": [
      "[*********************100%%**********************]  15 of 15 completed\n"
     ]
    }
   ],
   "source": [
    "rt_2018 = descargar('2017-01-01', '2017-12-31')"
   ]
  },
  {
   "cell_type": "code",
   "execution_count": 21,
   "metadata": {},
   "outputs": [
    {
     "data": {
      "text/html": [
       "<div>\n",
       "<style scoped>\n",
       "    .dataframe tbody tr th:only-of-type {\n",
       "        vertical-align: middle;\n",
       "    }\n",
       "\n",
       "    .dataframe tbody tr th {\n",
       "        vertical-align: top;\n",
       "    }\n",
       "\n",
       "    .dataframe thead th {\n",
       "        text-align: right;\n",
       "    }\n",
       "</style>\n",
       "<table border=\"1\" class=\"dataframe\">\n",
       "  <thead>\n",
       "    <tr style=\"text-align: right;\">\n",
       "      <th></th>\n",
       "      <th>valor_esperado</th>\n",
       "      <th>volatilidad</th>\n",
       "      <th>w_vgt</th>\n",
       "      <th>w_amzn</th>\n",
       "      <th>w_msft</th>\n",
       "      <th>w_vht</th>\n",
       "      <th>w_pfe</th>\n",
       "      <th>w_jnj</th>\n",
       "      <th>w_xom</th>\n",
       "      <th>w_cvx</th>\n",
       "      <th>w_vcr</th>\n",
       "      <th>w_pep</th>\n",
       "      <th>w_pld</th>\n",
       "      <th>w_amt</th>\n",
       "      <th>w_vfh</th>\n",
       "      <th>w_jpm</th>\n",
       "      <th>w_bac</th>\n",
       "      <th>sharpe</th>\n",
       "    </tr>\n",
       "  </thead>\n",
       "  <tbody>\n",
       "    <tr>\n",
       "      <th>101</th>\n",
       "      <td>0.259044</td>\n",
       "      <td>0.068102</td>\n",
       "      <td>0.164428</td>\n",
       "      <td>0.084979</td>\n",
       "      <td>0.027356</td>\n",
       "      <td>0.023314</td>\n",
       "      <td>0.138044</td>\n",
       "      <td>0.044548</td>\n",
       "      <td>0.095348</td>\n",
       "      <td>0.014156</td>\n",
       "      <td>0.046244</td>\n",
       "      <td>0.040538</td>\n",
       "      <td>0.223682</td>\n",
       "      <td>0.004528</td>\n",
       "      <td>0.008388</td>\n",
       "      <td>0.060321</td>\n",
       "      <td>0.024126</td>\n",
       "      <td>3.543855</td>\n",
       "    </tr>\n",
       "  </tbody>\n",
       "</table>\n",
       "</div>"
      ],
      "text/plain": [
       "     valor_esperado  volatilidad     w_vgt    w_amzn    w_msft     w_vht  \\\n",
       "101        0.259044     0.068102  0.164428  0.084979  0.027356  0.023314   \n",
       "\n",
       "        w_pfe     w_jnj     w_xom     w_cvx     w_vcr     w_pep     w_pld  \\\n",
       "101  0.138044  0.044548  0.095348  0.014156  0.046244  0.040538  0.223682   \n",
       "\n",
       "        w_amt     w_vfh     w_jpm     w_bac    sharpe  \n",
       "101  0.004528  0.008388  0.060321  0.024126  3.543855  "
      ]
     },
     "execution_count": 21,
     "metadata": {},
     "output_type": "execute_result"
    }
   ],
   "source": [
    "sharpe_2018 = portafolios_max(rf_2018, rt_2018)\n",
    "sharpe_2018"
   ]
  },
  {
   "cell_type": "code",
   "execution_count": 22,
   "metadata": {},
   "outputs": [
    {
     "data": {
      "text/html": [
       "<div>\n",
       "<style scoped>\n",
       "    .dataframe tbody tr th:only-of-type {\n",
       "        vertical-align: middle;\n",
       "    }\n",
       "\n",
       "    .dataframe tbody tr th {\n",
       "        vertical-align: top;\n",
       "    }\n",
       "\n",
       "    .dataframe thead th {\n",
       "        text-align: right;\n",
       "    }\n",
       "</style>\n",
       "<table border=\"1\" class=\"dataframe\">\n",
       "  <thead>\n",
       "    <tr style=\"text-align: right;\">\n",
       "      <th></th>\n",
       "      <th>aversion</th>\n",
       "      <th>cuanto_acciones</th>\n",
       "      <th>cuanto_bonos</th>\n",
       "    </tr>\n",
       "  </thead>\n",
       "  <tbody>\n",
       "    <tr>\n",
       "      <th>0</th>\n",
       "      <td>10</td>\n",
       "      <td>5.203732</td>\n",
       "      <td>-4.203732</td>\n",
       "    </tr>\n",
       "  </tbody>\n",
       "</table>\n",
       "</div>"
      ],
      "text/plain": [
       "   aversion  cuanto_acciones  cuanto_bonos\n",
       "0        10         5.203732     -4.203732"
      ]
     },
     "execution_count": 22,
     "metadata": {},
     "output_type": "execute_result"
    }
   ],
   "source": [
    "div_2018 = inversion(10, sharpe_2018, rf_2018)\n",
    "div_2018"
   ]
  },
  {
   "cell_type": "markdown",
   "metadata": {},
   "source": [
    "### Portafolio 2019"
   ]
  },
  {
   "cell_type": "code",
   "execution_count": 23,
   "metadata": {},
   "outputs": [
    {
     "name": "stdout",
     "output_type": "stream",
     "text": [
      "[*********************100%%**********************]  15 of 15 completed\n"
     ]
    }
   ],
   "source": [
    "rt_2019 = descargar('2018-01-01', '2018-12-31')"
   ]
  },
  {
   "cell_type": "code",
   "execution_count": 24,
   "metadata": {},
   "outputs": [
    {
     "data": {
      "text/html": [
       "<div>\n",
       "<style scoped>\n",
       "    .dataframe tbody tr th:only-of-type {\n",
       "        vertical-align: middle;\n",
       "    }\n",
       "\n",
       "    .dataframe tbody tr th {\n",
       "        vertical-align: top;\n",
       "    }\n",
       "\n",
       "    .dataframe thead th {\n",
       "        text-align: right;\n",
       "    }\n",
       "</style>\n",
       "<table border=\"1\" class=\"dataframe\">\n",
       "  <thead>\n",
       "    <tr style=\"text-align: right;\">\n",
       "      <th></th>\n",
       "      <th>valor_esperado</th>\n",
       "      <th>volatilidad</th>\n",
       "      <th>w_vgt</th>\n",
       "      <th>w_amzn</th>\n",
       "      <th>w_msft</th>\n",
       "      <th>w_vht</th>\n",
       "      <th>w_pfe</th>\n",
       "      <th>w_jnj</th>\n",
       "      <th>w_xom</th>\n",
       "      <th>w_cvx</th>\n",
       "      <th>w_vcr</th>\n",
       "      <th>w_pep</th>\n",
       "      <th>w_pld</th>\n",
       "      <th>w_amt</th>\n",
       "      <th>w_vfh</th>\n",
       "      <th>w_jpm</th>\n",
       "      <th>w_bac</th>\n",
       "      <th>sharpe</th>\n",
       "    </tr>\n",
       "  </thead>\n",
       "  <tbody>\n",
       "    <tr>\n",
       "      <th>64</th>\n",
       "      <td>0.179771</td>\n",
       "      <td>0.238119</td>\n",
       "      <td>0.16266</td>\n",
       "      <td>0.499333</td>\n",
       "      <td>0.003239</td>\n",
       "      <td>0.008431</td>\n",
       "      <td>0.010256</td>\n",
       "      <td>0.029407</td>\n",
       "      <td>0.005392</td>\n",
       "      <td>0.003052</td>\n",
       "      <td>0.067332</td>\n",
       "      <td>0.012226</td>\n",
       "      <td>0.084161</td>\n",
       "      <td>0.013917</td>\n",
       "      <td>0.053976</td>\n",
       "      <td>0.04384</td>\n",
       "      <td>0.002778</td>\n",
       "      <td>0.647872</td>\n",
       "    </tr>\n",
       "  </tbody>\n",
       "</table>\n",
       "</div>"
      ],
      "text/plain": [
       "    valor_esperado  volatilidad    w_vgt    w_amzn    w_msft     w_vht  \\\n",
       "64        0.179771     0.238119  0.16266  0.499333  0.003239  0.008431   \n",
       "\n",
       "       w_pfe     w_jnj     w_xom     w_cvx     w_vcr     w_pep     w_pld  \\\n",
       "64  0.010256  0.029407  0.005392  0.003052  0.067332  0.012226  0.084161   \n",
       "\n",
       "       w_amt     w_vfh    w_jpm     w_bac    sharpe  \n",
       "64  0.013917  0.053976  0.04384  0.002778  0.647872  "
      ]
     },
     "execution_count": 24,
     "metadata": {},
     "output_type": "execute_result"
    }
   ],
   "source": [
    "sharpe_2019 = portafolios_max(rf_2019, rt_2019)\n",
    "sharpe_2019"
   ]
  },
  {
   "cell_type": "code",
   "execution_count": 25,
   "metadata": {},
   "outputs": [
    {
     "data": {
      "text/html": [
       "<div>\n",
       "<style scoped>\n",
       "    .dataframe tbody tr th:only-of-type {\n",
       "        vertical-align: middle;\n",
       "    }\n",
       "\n",
       "    .dataframe tbody tr th {\n",
       "        vertical-align: top;\n",
       "    }\n",
       "\n",
       "    .dataframe thead th {\n",
       "        text-align: right;\n",
       "    }\n",
       "</style>\n",
       "<table border=\"1\" class=\"dataframe\">\n",
       "  <thead>\n",
       "    <tr style=\"text-align: right;\">\n",
       "      <th></th>\n",
       "      <th>aversion</th>\n",
       "      <th>cuanto_acciones</th>\n",
       "      <th>cuanto_bonos</th>\n",
       "    </tr>\n",
       "  </thead>\n",
       "  <tbody>\n",
       "    <tr>\n",
       "      <th>0</th>\n",
       "      <td>5</td>\n",
       "      <td>0.544158</td>\n",
       "      <td>0.455842</td>\n",
       "    </tr>\n",
       "  </tbody>\n",
       "</table>\n",
       "</div>"
      ],
      "text/plain": [
       "   aversion  cuanto_acciones  cuanto_bonos\n",
       "0         5         0.544158      0.455842"
      ]
     },
     "execution_count": 25,
     "metadata": {},
     "output_type": "execute_result"
    }
   ],
   "source": [
    "div_2019 = inversion(5, sharpe_2019, rf_2019)\n",
    "div_2019"
   ]
  },
  {
   "cell_type": "markdown",
   "metadata": {},
   "source": [
    "### Portafolio 2020"
   ]
  },
  {
   "cell_type": "code",
   "execution_count": 26,
   "metadata": {},
   "outputs": [
    {
     "name": "stdout",
     "output_type": "stream",
     "text": [
      "[*********************100%%**********************]  15 of 15 completed\n"
     ]
    }
   ],
   "source": [
    "rt_2020 = descargar('2019-01-01', '2019-12-31')"
   ]
  },
  {
   "cell_type": "code",
   "execution_count": 27,
   "metadata": {},
   "outputs": [
    {
     "data": {
      "text/html": [
       "<div>\n",
       "<style scoped>\n",
       "    .dataframe tbody tr th:only-of-type {\n",
       "        vertical-align: middle;\n",
       "    }\n",
       "\n",
       "    .dataframe tbody tr th {\n",
       "        vertical-align: top;\n",
       "    }\n",
       "\n",
       "    .dataframe thead th {\n",
       "        text-align: right;\n",
       "    }\n",
       "</style>\n",
       "<table border=\"1\" class=\"dataframe\">\n",
       "  <thead>\n",
       "    <tr style=\"text-align: right;\">\n",
       "      <th></th>\n",
       "      <th>valor_esperado</th>\n",
       "      <th>volatilidad</th>\n",
       "      <th>w_vgt</th>\n",
       "      <th>w_amzn</th>\n",
       "      <th>w_msft</th>\n",
       "      <th>w_vht</th>\n",
       "      <th>w_pfe</th>\n",
       "      <th>w_jnj</th>\n",
       "      <th>w_xom</th>\n",
       "      <th>w_cvx</th>\n",
       "      <th>w_vcr</th>\n",
       "      <th>w_pep</th>\n",
       "      <th>w_pld</th>\n",
       "      <th>w_amt</th>\n",
       "      <th>w_vfh</th>\n",
       "      <th>w_jpm</th>\n",
       "      <th>w_bac</th>\n",
       "      <th>sharpe</th>\n",
       "    </tr>\n",
       "  </thead>\n",
       "  <tbody>\n",
       "    <tr>\n",
       "      <th>280</th>\n",
       "      <td>0.376413</td>\n",
       "      <td>0.112975</td>\n",
       "      <td>0.307606</td>\n",
       "      <td>0.026729</td>\n",
       "      <td>0.025089</td>\n",
       "      <td>0.00339</td>\n",
       "      <td>0.040071</td>\n",
       "      <td>0.071532</td>\n",
       "      <td>0.006689</td>\n",
       "      <td>0.021562</td>\n",
       "      <td>0.000547</td>\n",
       "      <td>0.229922</td>\n",
       "      <td>0.032577</td>\n",
       "      <td>0.134205</td>\n",
       "      <td>0.059364</td>\n",
       "      <td>0.025501</td>\n",
       "      <td>0.015217</td>\n",
       "      <td>3.194615</td>\n",
       "    </tr>\n",
       "  </tbody>\n",
       "</table>\n",
       "</div>"
      ],
      "text/plain": [
       "     valor_esperado  volatilidad     w_vgt    w_amzn    w_msft    w_vht  \\\n",
       "280        0.376413     0.112975  0.307606  0.026729  0.025089  0.00339   \n",
       "\n",
       "        w_pfe     w_jnj     w_xom     w_cvx     w_vcr     w_pep     w_pld  \\\n",
       "280  0.040071  0.071532  0.006689  0.021562  0.000547  0.229922  0.032577   \n",
       "\n",
       "        w_amt     w_vfh     w_jpm     w_bac    sharpe  \n",
       "280  0.134205  0.059364  0.025501  0.015217  3.194615  "
      ]
     },
     "execution_count": 27,
     "metadata": {},
     "output_type": "execute_result"
    }
   ],
   "source": [
    "sharpe_2020 = portafolios_max(rf_2020, rt_2020)\n",
    "sharpe_2020"
   ]
  },
  {
   "cell_type": "code",
   "execution_count": 28,
   "metadata": {
    "scrolled": true
   },
   "outputs": [
    {
     "data": {
      "text/html": [
       "<div>\n",
       "<style scoped>\n",
       "    .dataframe tbody tr th:only-of-type {\n",
       "        vertical-align: middle;\n",
       "    }\n",
       "\n",
       "    .dataframe tbody tr th {\n",
       "        vertical-align: top;\n",
       "    }\n",
       "\n",
       "    .dataframe thead th {\n",
       "        text-align: right;\n",
       "    }\n",
       "</style>\n",
       "<table border=\"1\" class=\"dataframe\">\n",
       "  <thead>\n",
       "    <tr style=\"text-align: right;\">\n",
       "      <th></th>\n",
       "      <th>aversion</th>\n",
       "      <th>cuanto_acciones</th>\n",
       "      <th>cuanto_bonos</th>\n",
       "    </tr>\n",
       "  </thead>\n",
       "  <tbody>\n",
       "    <tr>\n",
       "      <th>0</th>\n",
       "      <td>5</td>\n",
       "      <td>5.655413</td>\n",
       "      <td>-4.655413</td>\n",
       "    </tr>\n",
       "  </tbody>\n",
       "</table>\n",
       "</div>"
      ],
      "text/plain": [
       "   aversion  cuanto_acciones  cuanto_bonos\n",
       "0         5         5.655413     -4.655413"
      ]
     },
     "execution_count": 28,
     "metadata": {},
     "output_type": "execute_result"
    }
   ],
   "source": [
    "div_2020 = inversion(5, sharpe_2020, rf_2020)\n",
    "div_2020"
   ]
  },
  {
   "cell_type": "markdown",
   "metadata": {},
   "source": [
    "### Portafolio 2021"
   ]
  },
  {
   "cell_type": "code",
   "execution_count": 29,
   "metadata": {},
   "outputs": [
    {
     "name": "stdout",
     "output_type": "stream",
     "text": [
      "[*********************100%%**********************]  15 of 15 completed\n"
     ]
    }
   ],
   "source": [
    "rt_2021 = descargar('2020-01-01', '2020-12-31')"
   ]
  },
  {
   "cell_type": "code",
   "execution_count": 30,
   "metadata": {},
   "outputs": [
    {
     "data": {
      "text/html": [
       "<div>\n",
       "<style scoped>\n",
       "    .dataframe tbody tr th:only-of-type {\n",
       "        vertical-align: middle;\n",
       "    }\n",
       "\n",
       "    .dataframe tbody tr th {\n",
       "        vertical-align: top;\n",
       "    }\n",
       "\n",
       "    .dataframe thead th {\n",
       "        text-align: right;\n",
       "    }\n",
       "</style>\n",
       "<table border=\"1\" class=\"dataframe\">\n",
       "  <thead>\n",
       "    <tr style=\"text-align: right;\">\n",
       "      <th></th>\n",
       "      <th>valor_esperado</th>\n",
       "      <th>volatilidad</th>\n",
       "      <th>w_vgt</th>\n",
       "      <th>w_amzn</th>\n",
       "      <th>w_msft</th>\n",
       "      <th>w_vht</th>\n",
       "      <th>w_pfe</th>\n",
       "      <th>w_jnj</th>\n",
       "      <th>w_xom</th>\n",
       "      <th>w_cvx</th>\n",
       "      <th>w_vcr</th>\n",
       "      <th>w_pep</th>\n",
       "      <th>w_pld</th>\n",
       "      <th>w_amt</th>\n",
       "      <th>w_vfh</th>\n",
       "      <th>w_jpm</th>\n",
       "      <th>w_bac</th>\n",
       "      <th>sharpe</th>\n",
       "    </tr>\n",
       "  </thead>\n",
       "  <tbody>\n",
       "    <tr>\n",
       "      <th>652</th>\n",
       "      <td>0.394332</td>\n",
       "      <td>0.335372</td>\n",
       "      <td>0.002499</td>\n",
       "      <td>0.400776</td>\n",
       "      <td>0.015857</td>\n",
       "      <td>0.020241</td>\n",
       "      <td>0.015876</td>\n",
       "      <td>0.062074</td>\n",
       "      <td>0.090517</td>\n",
       "      <td>0.133441</td>\n",
       "      <td>0.025191</td>\n",
       "      <td>0.042114</td>\n",
       "      <td>0.041189</td>\n",
       "      <td>0.040809</td>\n",
       "      <td>0.096869</td>\n",
       "      <td>0.007011</td>\n",
       "      <td>0.005536</td>\n",
       "      <td>1.172825</td>\n",
       "    </tr>\n",
       "  </tbody>\n",
       "</table>\n",
       "</div>"
      ],
      "text/plain": [
       "     valor_esperado  volatilidad     w_vgt    w_amzn    w_msft     w_vht  \\\n",
       "652        0.394332     0.335372  0.002499  0.400776  0.015857  0.020241   \n",
       "\n",
       "        w_pfe     w_jnj     w_xom     w_cvx     w_vcr     w_pep     w_pld  \\\n",
       "652  0.015876  0.062074  0.090517  0.133441  0.025191  0.042114  0.041189   \n",
       "\n",
       "        w_amt     w_vfh     w_jpm     w_bac    sharpe  \n",
       "652  0.040809  0.096869  0.007011  0.005536  1.172825  "
      ]
     },
     "execution_count": 30,
     "metadata": {},
     "output_type": "execute_result"
    }
   ],
   "source": [
    "sharpe_2021 = portafolios_max(rf_2021, rt_2021)\n",
    "sharpe_2021"
   ]
  },
  {
   "cell_type": "code",
   "execution_count": 31,
   "metadata": {},
   "outputs": [
    {
     "data": {
      "text/html": [
       "<div>\n",
       "<style scoped>\n",
       "    .dataframe tbody tr th:only-of-type {\n",
       "        vertical-align: middle;\n",
       "    }\n",
       "\n",
       "    .dataframe tbody tr th {\n",
       "        vertical-align: top;\n",
       "    }\n",
       "\n",
       "    .dataframe thead th {\n",
       "        text-align: right;\n",
       "    }\n",
       "</style>\n",
       "<table border=\"1\" class=\"dataframe\">\n",
       "  <thead>\n",
       "    <tr style=\"text-align: right;\">\n",
       "      <th></th>\n",
       "      <th>aversion</th>\n",
       "      <th>cuanto_acciones</th>\n",
       "      <th>cuanto_bonos</th>\n",
       "    </tr>\n",
       "  </thead>\n",
       "  <tbody>\n",
       "    <tr>\n",
       "      <th>0</th>\n",
       "      <td>5</td>\n",
       "      <td>0.699418</td>\n",
       "      <td>0.300582</td>\n",
       "    </tr>\n",
       "  </tbody>\n",
       "</table>\n",
       "</div>"
      ],
      "text/plain": [
       "   aversion  cuanto_acciones  cuanto_bonos\n",
       "0         5         0.699418      0.300582"
      ]
     },
     "execution_count": 31,
     "metadata": {},
     "output_type": "execute_result"
    }
   ],
   "source": [
    "div_2021 = inversion(5, sharpe_2021, rf_2021)\n",
    "div_2021"
   ]
  },
  {
   "cell_type": "markdown",
   "metadata": {},
   "source": [
    "### Portafolio 2022"
   ]
  },
  {
   "cell_type": "code",
   "execution_count": 32,
   "metadata": {},
   "outputs": [
    {
     "name": "stdout",
     "output_type": "stream",
     "text": [
      "[*********************100%%**********************]  15 of 15 completed\n"
     ]
    }
   ],
   "source": [
    "rt_2022 = descargar('2021-01-01', '2021-12-31')"
   ]
  },
  {
   "cell_type": "code",
   "execution_count": 33,
   "metadata": {},
   "outputs": [
    {
     "data": {
      "text/html": [
       "<div>\n",
       "<style scoped>\n",
       "    .dataframe tbody tr th:only-of-type {\n",
       "        vertical-align: middle;\n",
       "    }\n",
       "\n",
       "    .dataframe tbody tr th {\n",
       "        vertical-align: top;\n",
       "    }\n",
       "\n",
       "    .dataframe thead th {\n",
       "        text-align: right;\n",
       "    }\n",
       "</style>\n",
       "<table border=\"1\" class=\"dataframe\">\n",
       "  <thead>\n",
       "    <tr style=\"text-align: right;\">\n",
       "      <th></th>\n",
       "      <th>valor_esperado</th>\n",
       "      <th>volatilidad</th>\n",
       "      <th>w_vgt</th>\n",
       "      <th>w_amzn</th>\n",
       "      <th>w_msft</th>\n",
       "      <th>w_vht</th>\n",
       "      <th>w_pfe</th>\n",
       "      <th>w_jnj</th>\n",
       "      <th>w_xom</th>\n",
       "      <th>w_cvx</th>\n",
       "      <th>w_vcr</th>\n",
       "      <th>w_pep</th>\n",
       "      <th>w_pld</th>\n",
       "      <th>w_amt</th>\n",
       "      <th>w_vfh</th>\n",
       "      <th>w_jpm</th>\n",
       "      <th>w_bac</th>\n",
       "      <th>sharpe</th>\n",
       "    </tr>\n",
       "  </thead>\n",
       "  <tbody>\n",
       "    <tr>\n",
       "      <th>84</th>\n",
       "      <td>0.455759</td>\n",
       "      <td>0.120937</td>\n",
       "      <td>0.026403</td>\n",
       "      <td>0.003978</td>\n",
       "      <td>0.042955</td>\n",
       "      <td>0.089456</td>\n",
       "      <td>0.003568</td>\n",
       "      <td>0.007789</td>\n",
       "      <td>0.013604</td>\n",
       "      <td>0.010745</td>\n",
       "      <td>0.266112</td>\n",
       "      <td>0.223427</td>\n",
       "      <td>0.088799</td>\n",
       "      <td>0.071358</td>\n",
       "      <td>0.052608</td>\n",
       "      <td>0.035011</td>\n",
       "      <td>0.064188</td>\n",
       "      <td>3.683406</td>\n",
       "    </tr>\n",
       "  </tbody>\n",
       "</table>\n",
       "</div>"
      ],
      "text/plain": [
       "    valor_esperado  volatilidad     w_vgt    w_amzn    w_msft     w_vht  \\\n",
       "84        0.455759     0.120937  0.026403  0.003978  0.042955  0.089456   \n",
       "\n",
       "       w_pfe     w_jnj     w_xom     w_cvx     w_vcr     w_pep     w_pld  \\\n",
       "84  0.003568  0.007789  0.013604  0.010745  0.266112  0.223427  0.088799   \n",
       "\n",
       "       w_amt     w_vfh     w_jpm     w_bac    sharpe  \n",
       "84  0.071358  0.052608  0.035011  0.064188  3.683406  "
      ]
     },
     "execution_count": 33,
     "metadata": {},
     "output_type": "execute_result"
    }
   ],
   "source": [
    "sharpe_2022 = portafolios_max(rf_2022, rt_2022)\n",
    "sharpe_2022"
   ]
  },
  {
   "cell_type": "code",
   "execution_count": 34,
   "metadata": {},
   "outputs": [
    {
     "data": {
      "text/html": [
       "<div>\n",
       "<style scoped>\n",
       "    .dataframe tbody tr th:only-of-type {\n",
       "        vertical-align: middle;\n",
       "    }\n",
       "\n",
       "    .dataframe tbody tr th {\n",
       "        vertical-align: top;\n",
       "    }\n",
       "\n",
       "    .dataframe thead th {\n",
       "        text-align: right;\n",
       "    }\n",
       "</style>\n",
       "<table border=\"1\" class=\"dataframe\">\n",
       "  <thead>\n",
       "    <tr style=\"text-align: right;\">\n",
       "      <th></th>\n",
       "      <th>aversion</th>\n",
       "      <th>cuanto_acciones</th>\n",
       "      <th>cuanto_bonos</th>\n",
       "    </tr>\n",
       "  </thead>\n",
       "  <tbody>\n",
       "    <tr>\n",
       "      <th>0</th>\n",
       "      <td>10</td>\n",
       "      <td>3.045732</td>\n",
       "      <td>-2.045732</td>\n",
       "    </tr>\n",
       "  </tbody>\n",
       "</table>\n",
       "</div>"
      ],
      "text/plain": [
       "   aversion  cuanto_acciones  cuanto_bonos\n",
       "0        10         3.045732     -2.045732"
      ]
     },
     "execution_count": 34,
     "metadata": {},
     "output_type": "execute_result"
    }
   ],
   "source": [
    "div_2022 = inversion(10, sharpe_2022, rf_2022)\n",
    "div_2022"
   ]
  },
  {
   "cell_type": "markdown",
   "metadata": {},
   "source": [
    "### Portafolio 2023"
   ]
  },
  {
   "cell_type": "code",
   "execution_count": 35,
   "metadata": {},
   "outputs": [
    {
     "name": "stdout",
     "output_type": "stream",
     "text": [
      "[*********************100%%**********************]  15 of 15 completed\n"
     ]
    }
   ],
   "source": [
    "rt_2023 = descargar('2022-01-01', '2022-12-31')"
   ]
  },
  {
   "cell_type": "code",
   "execution_count": 36,
   "metadata": {},
   "outputs": [
    {
     "data": {
      "text/html": [
       "<div>\n",
       "<style scoped>\n",
       "    .dataframe tbody tr th:only-of-type {\n",
       "        vertical-align: middle;\n",
       "    }\n",
       "\n",
       "    .dataframe tbody tr th {\n",
       "        vertical-align: top;\n",
       "    }\n",
       "\n",
       "    .dataframe thead th {\n",
       "        text-align: right;\n",
       "    }\n",
       "</style>\n",
       "<table border=\"1\" class=\"dataframe\">\n",
       "  <thead>\n",
       "    <tr style=\"text-align: right;\">\n",
       "      <th></th>\n",
       "      <th>valor_esperado</th>\n",
       "      <th>volatilidad</th>\n",
       "      <th>w_vgt</th>\n",
       "      <th>w_amzn</th>\n",
       "      <th>w_msft</th>\n",
       "      <th>w_vht</th>\n",
       "      <th>w_pfe</th>\n",
       "      <th>w_jnj</th>\n",
       "      <th>w_xom</th>\n",
       "      <th>w_cvx</th>\n",
       "      <th>w_vcr</th>\n",
       "      <th>w_pep</th>\n",
       "      <th>w_pld</th>\n",
       "      <th>w_amt</th>\n",
       "      <th>w_vfh</th>\n",
       "      <th>w_jpm</th>\n",
       "      <th>w_bac</th>\n",
       "      <th>sharpe</th>\n",
       "    </tr>\n",
       "  </thead>\n",
       "  <tbody>\n",
       "    <tr>\n",
       "      <th>260</th>\n",
       "      <td>0.193612</td>\n",
       "      <td>0.240768</td>\n",
       "      <td>0.062798</td>\n",
       "      <td>0.011311</td>\n",
       "      <td>0.024348</td>\n",
       "      <td>0.031181</td>\n",
       "      <td>0.032391</td>\n",
       "      <td>0.02812</td>\n",
       "      <td>0.123196</td>\n",
       "      <td>0.027853</td>\n",
       "      <td>0.028318</td>\n",
       "      <td>0.014625</td>\n",
       "      <td>0.017498</td>\n",
       "      <td>0.020178</td>\n",
       "      <td>0.124477</td>\n",
       "      <td>0.013505</td>\n",
       "      <td>0.440203</td>\n",
       "      <td>0.60852</td>\n",
       "    </tr>\n",
       "  </tbody>\n",
       "</table>\n",
       "</div>"
      ],
      "text/plain": [
       "     valor_esperado  volatilidad     w_vgt    w_amzn    w_msft     w_vht  \\\n",
       "260        0.193612     0.240768  0.062798  0.011311  0.024348  0.031181   \n",
       "\n",
       "        w_pfe    w_jnj     w_xom     w_cvx     w_vcr     w_pep     w_pld  \\\n",
       "260  0.032391  0.02812  0.123196  0.027853  0.028318  0.014625  0.017498   \n",
       "\n",
       "        w_amt     w_vfh     w_jpm     w_bac   sharpe  \n",
       "260  0.020178  0.124477  0.013505  0.440203  0.60852  "
      ]
     },
     "execution_count": 36,
     "metadata": {},
     "output_type": "execute_result"
    }
   ],
   "source": [
    "sharpe_2023 = portafolios_max(rf_2023, rt_2023)\n",
    "sharpe_2023"
   ]
  },
  {
   "cell_type": "code",
   "execution_count": 37,
   "metadata": {},
   "outputs": [
    {
     "data": {
      "text/html": [
       "<div>\n",
       "<style scoped>\n",
       "    .dataframe tbody tr th:only-of-type {\n",
       "        vertical-align: middle;\n",
       "    }\n",
       "\n",
       "    .dataframe tbody tr th {\n",
       "        vertical-align: top;\n",
       "    }\n",
       "\n",
       "    .dataframe thead th {\n",
       "        text-align: right;\n",
       "    }\n",
       "</style>\n",
       "<table border=\"1\" class=\"dataframe\">\n",
       "  <thead>\n",
       "    <tr style=\"text-align: right;\">\n",
       "      <th></th>\n",
       "      <th>aversion</th>\n",
       "      <th>cuanto_acciones</th>\n",
       "      <th>cuanto_bonos</th>\n",
       "    </tr>\n",
       "  </thead>\n",
       "  <tbody>\n",
       "    <tr>\n",
       "      <th>0</th>\n",
       "      <td>5</td>\n",
       "      <td>0.505483</td>\n",
       "      <td>0.494517</td>\n",
       "    </tr>\n",
       "  </tbody>\n",
       "</table>\n",
       "</div>"
      ],
      "text/plain": [
       "   aversion  cuanto_acciones  cuanto_bonos\n",
       "0         5         0.505483      0.494517"
      ]
     },
     "execution_count": 37,
     "metadata": {},
     "output_type": "execute_result"
    }
   ],
   "source": [
    "div_2023 = inversion(5, sharpe_2023, rf_2023)\n",
    "div_2023"
   ]
  },
  {
   "cell_type": "markdown",
   "metadata": {},
   "source": [
    "## 3. Evaluación del rendimiento (40%)\n",
    "\n",
    "Usando los portafolios que encontraron en el punto anterior, deberán encontrar:\n",
    "\n",
    "1. El rendimiento del portafolio 1 durante el 2016.\n",
    "\n",
    "2. El rendimiento del portafolio 2 durante el 2017.\n",
    "\n",
    "3. El rendimiento del portafolio 3 durante el 2018.\n",
    "\n",
    "4. El rendimiento del portafolio 4 durante el 2019.\n",
    "\n",
    "5. El rendimiento del portafolio 5 durante el 2020.\n",
    "\n",
    "6. El rendimiento del portafolio 6 durante el 2021.\n",
    "\n",
    "7. El rendimiento del portafolio 6 durante el 2022.\n",
    "\n",
    "8. El rendimiento del portafolio 6 durante el 2023.\n",
    "\n",
    "9. El rendimiento total durante  el periodo de tenencia.\n",
    "\n",
    "10. El rendimiento promedio anual durante el periodo de tenencia.\n",
    "\n",
    "11. Si hubieran invertido 10.000 USD en estos portafolios a lo largo del tiempo y nunca hubieran retirado ni adicionado nada más, ¿Cuánto dinero tendrían invertido en este momento?"
   ]
  },
  {
   "cell_type": "markdown",
   "metadata": {},
   "source": [
    "### Rendimiento portafolio 2016"
   ]
  },
  {
   "cell_type": "code",
   "execution_count": 38,
   "metadata": {},
   "outputs": [
    {
     "data": {
      "text/plain": [
       "0.4268258020725641"
      ]
     },
     "execution_count": 38,
     "metadata": {},
     "output_type": "execute_result"
    }
   ],
   "source": [
    "rendimiento_2016 = (div_2016.cuanto_acciones.values[0] * sharpe_2016.valor_esperado.values[0]) + (div_2016.cuanto_bonos.values[0] * rf_2016)\n",
    "rendimiento_2016\n"
   ]
  },
  {
   "cell_type": "markdown",
   "metadata": {},
   "source": [
    "### Rendimiento portafolio 2017"
   ]
  },
  {
   "cell_type": "code",
   "execution_count": 39,
   "metadata": {},
   "outputs": [
    {
     "data": {
      "text/plain": [
       "0.3062254756605933"
      ]
     },
     "execution_count": 39,
     "metadata": {},
     "output_type": "execute_result"
    }
   ],
   "source": [
    "rendimiento_2017 = (div_2017.cuanto_acciones.values[0] * sharpe_2017.valor_esperado.values[0]) + (div_2017.cuanto_bonos.values[0] * rf_2017)\n",
    "rendimiento_2017"
   ]
  },
  {
   "cell_type": "markdown",
   "metadata": {},
   "source": [
    "### Rendimiento portafolio 2018"
   ]
  },
  {
   "cell_type": "code",
   "execution_count": 40,
   "metadata": {},
   "outputs": [
    {
     "data": {
      "text/plain": [
       "1.273591037688673"
      ]
     },
     "execution_count": 40,
     "metadata": {},
     "output_type": "execute_result"
    }
   ],
   "source": [
    "rendimiento_2018 = (div_2018.cuanto_acciones.values[0] * sharpe_2018.valor_esperado.values[0]) + (div_2018.cuanto_bonos.values[0] * rf_2018)\n",
    "rendimiento_2018"
   ]
  },
  {
   "cell_type": "markdown",
   "metadata": {},
   "source": [
    "### Rendimiento portafolio 2019"
   ]
  },
  {
   "cell_type": "code",
   "execution_count": 41,
   "metadata": {},
   "outputs": [
    {
     "data": {
      "text/plain": [
       "0.10944768825484247"
      ]
     },
     "execution_count": 41,
     "metadata": {},
     "output_type": "execute_result"
    }
   ],
   "source": [
    "rendimiento_2019 = (div_2019.cuanto_acciones.values[0] * sharpe_2019.valor_esperado.values[0]) + (div_2019.cuanto_bonos.values[0] * rf_2019)\n",
    "rendimiento_2019"
   ]
  },
  {
   "cell_type": "markdown",
   "metadata": {},
   "source": [
    "### Rendimiento portafolio 2020"
   ]
  },
  {
   "cell_type": "code",
   "execution_count": 42,
   "metadata": {},
   "outputs": [
    {
     "data": {
      "text/plain": [
       "2.0566128401060624"
      ]
     },
     "execution_count": 42,
     "metadata": {},
     "output_type": "execute_result"
    }
   ],
   "source": [
    "rendimiento_2020 = (div_2020.cuanto_acciones.values[0] * sharpe_2020.valor_esperado.values[0]) + (div_2020.cuanto_bonos.values[0] * rf_2020)\n",
    "rendimiento_2020"
   ]
  },
  {
   "cell_type": "markdown",
   "metadata": {},
   "source": [
    "### Rendimiento portafolio 2021"
   ]
  },
  {
   "cell_type": "code",
   "execution_count": 43,
   "metadata": {},
   "outputs": [
    {
     "data": {
      "text/plain": [
       "0.27610363265800025"
      ]
     },
     "execution_count": 43,
     "metadata": {},
     "output_type": "execute_result"
    }
   ],
   "source": [
    "rendimiento_2021 = (div_2021.cuanto_acciones.values[0] * sharpe_2021.valor_esperado.values[0]) + (div_2021.cuanto_bonos.values[0] * rf_2021)\n",
    "rendimiento_2021"
   ]
  },
  {
   "cell_type": "markdown",
   "metadata": {},
   "source": [
    "### Rendimiento portafolio 2022"
   ]
  },
  {
   "cell_type": "code",
   "execution_count": 44,
   "metadata": {},
   "outputs": [
    {
     "data": {
      "text/plain": [
       "1.367048262688478"
      ]
     },
     "execution_count": 44,
     "metadata": {},
     "output_type": "execute_result"
    }
   ],
   "source": [
    "rendimiento_2022 = (div_2022.cuanto_acciones.values[0] * sharpe_2022.valor_esperado.values[0]) + (div_2022.cuanto_bonos.values[0] * rf_2022)\n",
    "rendimiento_2022"
   ]
  },
  {
   "cell_type": "markdown",
   "metadata": {},
   "source": [
    "### Rendimiento portafolio 2023"
   ]
  },
  {
   "cell_type": "code",
   "execution_count": 45,
   "metadata": {},
   "outputs": [
    {
     "data": {
      "text/plain": [
       "0.12115938371478593"
      ]
     },
     "execution_count": 45,
     "metadata": {},
     "output_type": "execute_result"
    }
   ],
   "source": [
    "rendimiento_2023 = (div_2023.cuanto_acciones.values[0] * sharpe_2023.valor_esperado.values[0]) + (div_2023.cuanto_bonos.values[0] * rf_2023)\n",
    "rendimiento_2023"
   ]
  },
  {
   "cell_type": "markdown",
   "metadata": {},
   "source": [
    "# Rendimiento portafolio en $"
   ]
  },
  {
   "cell_type": "code",
   "execution_count": 78,
   "metadata": {},
   "outputs": [
    {
     "data": {
      "text/plain": [
       "14268.258020725641"
      ]
     },
     "execution_count": 78,
     "metadata": {},
     "output_type": "execute_result"
    }
   ],
   "source": [
    "# Rendimiento 2016\n",
    "inversion = 10000\n",
    "wins2016 = inversion * (1 + rendimiento_2016)\n",
    "wins2016"
   ]
  },
  {
   "cell_type": "code",
   "execution_count": 81,
   "metadata": {},
   "outputs": [
    {
     "data": {
      "text/plain": [
       "18637.562119970426"
      ]
     },
     "execution_count": 81,
     "metadata": {},
     "output_type": "execute_result"
    }
   ],
   "source": [
    "# Rendimiento 2017\n",
    "wins2017 = wins2016 * (1 + rendimiento_2017)\n",
    "wins2017"
   ]
  },
  {
   "cell_type": "code",
   "execution_count": 82,
   "metadata": {},
   "outputs": [
    {
     "data": {
      "text/plain": [
       "42374.19420033067"
      ]
     },
     "execution_count": 82,
     "metadata": {},
     "output_type": "execute_result"
    }
   ],
   "source": [
    "# Rendimiento 2018\n",
    "wins2018 = wins2017 * (1 + rendimiento_2018)\n",
    "wins2018"
   ]
  },
  {
   "cell_type": "code",
   "execution_count": 83,
   "metadata": {},
   "outputs": [
    {
     "data": {
      "text/plain": [
       "47011.951797218615"
      ]
     },
     "execution_count": 83,
     "metadata": {},
     "output_type": "execute_result"
    }
   ],
   "source": [
    "# Rendimiento 2019\n",
    "wins2019 = wins2018 * (1 + rendimiento_2019)\n",
    "wins2019"
   ]
  },
  {
   "cell_type": "code",
   "execution_count": 84,
   "metadata": {},
   "outputs": [
    {
     "data": {
      "text/plain": [
       "143697.3355018257"
      ]
     },
     "execution_count": 84,
     "metadata": {},
     "output_type": "execute_result"
    }
   ],
   "source": [
    "# Rendimiento 2020\n",
    "wins2020 = wins2019 * (1 + rendimiento_2020)\n",
    "wins2020"
   ]
  },
  {
   "cell_type": "code",
   "execution_count": 85,
   "metadata": {},
   "outputs": [
    {
     "data": {
      "text/plain": [
       "183372.6918371552"
      ]
     },
     "execution_count": 85,
     "metadata": {},
     "output_type": "execute_result"
    }
   ],
   "source": [
    "# Rendimiento 2021\n",
    "wins2021 = wins2020 * (1 + rendimiento_2021)\n",
    "wins2021"
   ]
  },
  {
   "cell_type": "code",
   "execution_count": 86,
   "metadata": {},
   "outputs": [
    {
     "data": {
      "text/plain": [
       "434052.0116376478"
      ]
     },
     "execution_count": 86,
     "metadata": {},
     "output_type": "execute_result"
    }
   ],
   "source": [
    "# Rendimiento 2022\n",
    "wins2022 = wins2021 * (1 + rendimiento_2022)\n",
    "wins2022"
   ]
  },
  {
   "cell_type": "code",
   "execution_count": 87,
   "metadata": {},
   "outputs": [
    {
     "data": {
      "text/plain": [
       "486641.4858678283"
      ]
     },
     "execution_count": 87,
     "metadata": {},
     "output_type": "execute_result"
    }
   ],
   "source": [
    "# Rendimiento 2023\n",
    "wins2023 = wins2022 * (1 + rendimiento_2023)\n",
    "wins2023"
   ]
  },
  {
   "cell_type": "code",
   "execution_count": 89,
   "metadata": {},
   "outputs": [
    {
     "data": {
      "text/plain": [
       "47.66414858678283"
      ]
     },
     "execution_count": 89,
     "metadata": {},
     "output_type": "execute_result"
    }
   ],
   "source": [
    "(wins2023-inversion)/inversion"
   ]
  },
  {
   "cell_type": "markdown",
   "metadata": {},
   "source": [
    "### Como resultado en nuestro portafolio, podemos ver que a lo largo de este periodo de tiempo hemos obtenido de un capital de 10,000 una ganancia total del 476.64% "
   ]
  },
  {
   "cell_type": "markdown",
   "metadata": {},
   "source": [
    "# 6. Tema extra de la carrera   (40%)\n",
    "En base a investigacón o alguna cosa que vean en sus otras clases de la carrera (no se vale aplicar cosas de meditación, contexto historico, etc.) \n",
    "\n"
   ]
  },
  {
   "cell_type": "code",
   "execution_count": 47,
   "metadata": {},
   "outputs": [],
   "source": [
    "import pandas_datareader.data as web\n",
    "import datetime\n",
    "from sklearn.metrics import r2_score\n",
    "import pandas as pd\n",
    "import yfinance as yf\n",
    "import matplotlib.pyplot as plt\n",
    "from sklearn.linear_model import LinearRegression\n",
    "import numpy as np"
   ]
  },
  {
   "cell_type": "code",
   "execution_count": 48,
   "metadata": {},
   "outputs": [
    {
     "name": "stdout",
     "output_type": "stream",
     "text": [
      "[*********************100%%**********************]  6 of 6 completed\n"
     ]
    }
   ],
   "source": [
    "# Definir las fechas de inicio y fin\n",
    "start_date = datetime.datetime(2022, 1, 1)\n",
    "end_date = datetime.datetime(2023, 11, 27)\n",
    "\n",
    "# Descargar los factores Fama-French desde la web de Ken French\n",
    "#ff_factors = web.DataReader(\"F-F_Research_Data_5_Factors_2x3\", \"famafrench\", start_date, end_date)\n",
    "\n",
    "#ff_factores.head()\n",
    "# Descargar acciones\n",
    "tickers = ['SYM', 'ALNY', 'VFS', 'WDC', 'FUJHY', 'AEG']\n",
    "stock_data = yf.download(tickers, start_date, end_date)['Close']\n",
    "rt = stock_data.pct_change().dropna()"
   ]
  },
  {
   "cell_type": "code",
   "execution_count": 49,
   "metadata": {},
   "outputs": [],
   "source": [
    "#funcion para generar pesos aleatorios\n",
    "def random_list(n_act):\n",
    "    lista = np.random.rand(n_act)\n",
    "    return lista / np.sum(lista)"
   ]
  },
  {
   "cell_type": "code",
   "execution_count": 50,
   "metadata": {},
   "outputs": [],
   "source": [
    "def random_port(returns):\n",
    "    #defines las constantes\n",
    "    sigma = rt.cov()\n",
    "    means = rt.mean()\n",
    "    #obtenemos pesos\n",
    "    n_act = len(rt.keys())\n",
    "    w = random_list(n_act)\n",
    "    #rendimiento esperado\n",
    "    rend_esperado = w.dot(means)*12\n",
    "    #Varianza\n",
    "    varianza_portafolio = w.dot(sigma).dot(w)\n",
    "    vol_portafolio = np.sqrt(varianza_portafolio) * np.sqrt(12)\n",
    "    return rend_esperado , vol_portafolio, w"
   ]
  },
  {
   "cell_type": "code",
   "execution_count": 51,
   "metadata": {},
   "outputs": [
    {
     "data": {
      "text/html": [
       "<div>\n",
       "<style scoped>\n",
       "    .dataframe tbody tr th:only-of-type {\n",
       "        vertical-align: middle;\n",
       "    }\n",
       "\n",
       "    .dataframe tbody tr th {\n",
       "        vertical-align: top;\n",
       "    }\n",
       "\n",
       "    .dataframe thead th {\n",
       "        text-align: right;\n",
       "    }\n",
       "</style>\n",
       "<table border=\"1\" class=\"dataframe\">\n",
       "  <thead>\n",
       "    <tr style=\"text-align: right;\">\n",
       "      <th></th>\n",
       "      <th>expected_returns</th>\n",
       "      <th>volatility</th>\n",
       "    </tr>\n",
       "  </thead>\n",
       "  <tbody>\n",
       "    <tr>\n",
       "      <th>0</th>\n",
       "      <td>0.073839</td>\n",
       "      <td>0.266507</td>\n",
       "    </tr>\n",
       "    <tr>\n",
       "      <th>1</th>\n",
       "      <td>0.151089</td>\n",
       "      <td>0.558246</td>\n",
       "    </tr>\n",
       "    <tr>\n",
       "      <th>2</th>\n",
       "      <td>0.022179</td>\n",
       "      <td>0.077817</td>\n",
       "    </tr>\n",
       "    <tr>\n",
       "      <th>3</th>\n",
       "      <td>0.066469</td>\n",
       "      <td>0.230566</td>\n",
       "    </tr>\n",
       "    <tr>\n",
       "      <th>4</th>\n",
       "      <td>0.051466</td>\n",
       "      <td>0.154091</td>\n",
       "    </tr>\n",
       "    <tr>\n",
       "      <th>...</th>\n",
       "      <td>...</td>\n",
       "      <td>...</td>\n",
       "    </tr>\n",
       "    <tr>\n",
       "      <th>4995</th>\n",
       "      <td>0.081522</td>\n",
       "      <td>0.283840</td>\n",
       "    </tr>\n",
       "    <tr>\n",
       "      <th>4996</th>\n",
       "      <td>0.068827</td>\n",
       "      <td>0.251373</td>\n",
       "    </tr>\n",
       "    <tr>\n",
       "      <th>4997</th>\n",
       "      <td>0.037428</td>\n",
       "      <td>0.143854</td>\n",
       "    </tr>\n",
       "    <tr>\n",
       "      <th>4998</th>\n",
       "      <td>0.068691</td>\n",
       "      <td>0.267090</td>\n",
       "    </tr>\n",
       "    <tr>\n",
       "      <th>4999</th>\n",
       "      <td>0.038553</td>\n",
       "      <td>0.119287</td>\n",
       "    </tr>\n",
       "  </tbody>\n",
       "</table>\n",
       "<p>5000 rows × 2 columns</p>\n",
       "</div>"
      ],
      "text/plain": [
       "      expected_returns  volatility\n",
       "0             0.073839    0.266507\n",
       "1             0.151089    0.558246\n",
       "2             0.022179    0.077817\n",
       "3             0.066469    0.230566\n",
       "4             0.051466    0.154091\n",
       "...                ...         ...\n",
       "4995          0.081522    0.283840\n",
       "4996          0.068827    0.251373\n",
       "4997          0.037428    0.143854\n",
       "4998          0.068691    0.267090\n",
       "4999          0.038553    0.119287\n",
       "\n",
       "[5000 rows x 2 columns]"
      ]
     },
     "execution_count": 51,
     "metadata": {},
     "output_type": "execute_result"
    }
   ],
   "source": [
    "expected_returns = []\n",
    "volatility = []\n",
    "weights = []\n",
    "\n",
    "for i in range(5000):\n",
    "    expected_returns1, volatility1, weights1 = random_port(rt)\n",
    "    expected_returns.append(expected_returns1)\n",
    "    volatility.append(volatility1)\n",
    "    weights.append(weights1)\n",
    "    \n",
    "simulated_df = pd.DataFrame()\n",
    "simulated_df['expected_returns'] = expected_returns\n",
    "simulated_df['volatility'] = volatility\n",
    "simulated_df"
   ]
  },
  {
   "cell_type": "code",
   "execution_count": 52,
   "metadata": {},
   "outputs": [
    {
     "data": {
      "text/plain": [
       "expected_returns    0.238574\n",
       "volatility          0.953071\n",
       "Name: 2190, dtype: float64"
      ]
     },
     "execution_count": 52,
     "metadata": {},
     "output_type": "execute_result"
    }
   ],
   "source": [
    "#Encontrar el portafolio con maximo retorno\n",
    "max_returns_portafolio = simulated_df.loc[simulated_df['expected_returns'].idxmax()]\n",
    "max_returns_portafolio"
   ]
  },
  {
   "cell_type": "code",
   "execution_count": 53,
   "metadata": {},
   "outputs": [
    {
     "data": {
      "image/png": "[encoded data removed]",
      "text/plain": [
       "<Figure size 720x432 with 1 Axes>"
      ]
     },
     "metadata": {
      "needs_background": "light"
     },
     "output_type": "display_data"
    }
   ],
   "source": [
    "# Graficar el gráfico de dispersión\n",
    "plt.figure(figsize=(10, 6))\n",
    "plt.scatter(simulated_df['volatility'], simulated_df['expected_returns'], marker='o', s=10, alpha=0.5)\n",
    "plt.title('Simulación de Portafolios Aleatorios')\n",
    "plt.xlabel('Volatilidad')\n",
    "plt.ylabel('Rendimiento Esperado')\n",
    "plt.grid(True)\n",
    "plt.show()"
   ]
  },
  {
   "cell_type": "code",
   "execution_count": 77,
   "metadata": {},
   "outputs": [
    {
     "data": {
      "image/png": "[encoded data removed]",
      "text/plain": [
       "<Figure size 720x432 with 1 Axes>"
      ]
     },
     "metadata": {
      "needs_background": "light"
     },
     "output_type": "display_data"
    }
   ],
   "source": [
    "# Graficar el gráfico de dispersión con el portafolio de minima varianza\n",
    "plt.figure(figsize=(10, 6))\n",
    "plt.scatter(simulated_df['volatility'], simulated_df['expected_returns'], marker='o', s=10, alpha=0.5)\n",
    "plt.scatter(max_returns_portafolio['volatility'], max_returns_portafolio['expected_returns'], color='red', marker='o', s=50, label='Min Var Portafolio')\n",
    "plt.title('Simulación de Portafolios Aleatorios con Max Rent Portafolio')\n",
    "plt.xlabel('Volatilidad')\n",
    "plt.ylabel('Rendimiento Esperado')\n",
    "plt.legend()\n",
    "plt.grid(True)\n",
    "plt.show()\n"
   ]
  },
  {
   "cell_type": "code",
   "execution_count": 55,
   "metadata": {},
   "outputs": [
    {
     "name": "stdout",
     "output_type": "stream",
     "text": [
      "[*********************100%%**********************]  7 of 7 completed\n"
     ]
    },
    {
     "data": {
      "text/html": [
       "<div>\n",
       "<style scoped>\n",
       "    .dataframe tbody tr th:only-of-type {\n",
       "        vertical-align: middle;\n",
       "    }\n",
       "\n",
       "    .dataframe tbody tr th {\n",
       "        vertical-align: top;\n",
       "    }\n",
       "\n",
       "    .dataframe thead th {\n",
       "        text-align: right;\n",
       "    }\n",
       "</style>\n",
       "<table border=\"1\" class=\"dataframe\">\n",
       "  <thead>\n",
       "    <tr style=\"text-align: right;\">\n",
       "      <th></th>\n",
       "      <th>AEG</th>\n",
       "      <th>ALNY</th>\n",
       "      <th>FUJHY</th>\n",
       "      <th>SYM</th>\n",
       "      <th>VFS</th>\n",
       "      <th>VTI</th>\n",
       "      <th>WDC</th>\n",
       "    </tr>\n",
       "    <tr>\n",
       "      <th>Date</th>\n",
       "      <th></th>\n",
       "      <th></th>\n",
       "      <th></th>\n",
       "      <th></th>\n",
       "      <th></th>\n",
       "      <th></th>\n",
       "      <th></th>\n",
       "    </tr>\n",
       "  </thead>\n",
       "  <tbody>\n",
       "    <tr>\n",
       "      <th>2023-08-15</th>\n",
       "      <td>-0.020073</td>\n",
       "      <td>-0.006727</td>\n",
       "      <td>-0.015538</td>\n",
       "      <td>-0.097638</td>\n",
       "      <td>2.546412</td>\n",
       "      <td>-0.011350</td>\n",
       "      <td>-0.036385</td>\n",
       "    </tr>\n",
       "    <tr>\n",
       "      <th>2023-08-16</th>\n",
       "      <td>-0.001862</td>\n",
       "      <td>0.012768</td>\n",
       "      <td>-0.002255</td>\n",
       "      <td>-0.019696</td>\n",
       "      <td>-0.216946</td>\n",
       "      <td>-0.008259</td>\n",
       "      <td>-0.015347</td>\n",
       "    </tr>\n",
       "    <tr>\n",
       "      <th>2023-08-17</th>\n",
       "      <td>-0.055970</td>\n",
       "      <td>0.008003</td>\n",
       "      <td>0.023729</td>\n",
       "      <td>-0.023398</td>\n",
       "      <td>-0.310820</td>\n",
       "      <td>-0.008190</td>\n",
       "      <td>-0.003216</td>\n",
       "    </tr>\n",
       "    <tr>\n",
       "      <th>2023-08-18</th>\n",
       "      <td>0.005929</td>\n",
       "      <td>0.011637</td>\n",
       "      <td>-0.008830</td>\n",
       "      <td>-0.019792</td>\n",
       "      <td>-0.230000</td>\n",
       "      <td>0.001153</td>\n",
       "      <td>-0.013651</td>\n",
       "    </tr>\n",
       "    <tr>\n",
       "      <th>2023-08-21</th>\n",
       "      <td>0.021611</td>\n",
       "      <td>0.014514</td>\n",
       "      <td>0.004454</td>\n",
       "      <td>-0.032678</td>\n",
       "      <td>0.141558</td>\n",
       "      <td>0.005760</td>\n",
       "      <td>0.016608</td>\n",
       "    </tr>\n",
       "  </tbody>\n",
       "</table>\n",
       "</div>"
      ],
      "text/plain": [
       "                 AEG      ALNY     FUJHY       SYM       VFS       VTI  \\\n",
       "Date                                                                     \n",
       "2023-08-15 -0.020073 -0.006727 -0.015538 -0.097638  2.546412 -0.011350   \n",
       "2023-08-16 -0.001862  0.012768 -0.002255 -0.019696 -0.216946 -0.008259   \n",
       "2023-08-17 -0.055970  0.008003  0.023729 -0.023398 -0.310820 -0.008190   \n",
       "2023-08-18  0.005929  0.011637 -0.008830 -0.019792 -0.230000  0.001153   \n",
       "2023-08-21  0.021611  0.014514  0.004454 -0.032678  0.141558  0.005760   \n",
       "\n",
       "                 WDC  \n",
       "Date                  \n",
       "2023-08-15 -0.036385  \n",
       "2023-08-16 -0.015347  \n",
       "2023-08-17 -0.003216  \n",
       "2023-08-18 -0.013651  \n",
       "2023-08-21  0.016608  "
      ]
     },
     "execution_count": 55,
     "metadata": {},
     "output_type": "execute_result"
    }
   ],
   "source": [
    "tickersbeta = ['SYM', 'ALNY', 'VFS', 'WDC', 'FUJHY', 'AEG', 'VTI']\n",
    "# Descargar precios y graficar\n",
    "St = yf.download(tickersbeta, start=start_date, end=end_date)['Close']\n",
    "\n",
    "returns = St.pct_change().dropna()\n",
    "returns.head()"
   ]
  },
  {
   "cell_type": "code",
   "execution_count": 56,
   "metadata": {},
   "outputs": [
    {
     "name": "stdout",
     "output_type": "stream",
     "text": [
      "  Ticker      Beta       R^2\n",
      "0    SYM  3.017642  0.146965\n",
      "1   ALNY  0.592763  0.054943\n",
      "2    VFS -5.447478  0.018162\n",
      "3    WDC  1.205192  0.183888\n",
      "4  FUJHY  0.591555  0.089458\n",
      "5    AEG  0.998617  0.290644\n",
      "6    VTI       1.0       1.0\n"
     ]
    }
   ],
   "source": [
    "# Crear un DataFrame para almacenar los resultados\n",
    "resultados_df = pd.DataFrame(columns=['Ticker', 'Beta', 'R^2'])\n",
    "\n",
    "# Bucle for para calcular beta y R^2 para cada ticker\n",
    "for ticker in tickersbeta:\n",
    "    model = LinearRegression()\n",
    "\n",
    "    # Matriz de diseño (variable independiente)\n",
    "    X = returns[['VTI']]\n",
    "\n",
    "    # Variable dependiente\n",
    "    y = returns[[ticker]]\n",
    "\n",
    "    # Ajustar el modelo\n",
    "    model.fit(X, y)\n",
    "\n",
    "    # Obtener el coeficiente (beta)\n",
    "    beta = model.coef_[0][0]\n",
    "\n",
    "    # Hacer predicciones\n",
    "    predicciones = model.predict(X)\n",
    "\n",
    "    # Calcular R^2\n",
    "    r2 = r2_score(y_true=y, y_pred=predicciones)\n",
    "\n",
    "    # Almacenar resultados en el DataFrame\n",
    "    resultados_df = resultados_df.append({'Ticker': ticker, 'Beta': beta, 'R^2': r2}, ignore_index=True)\n",
    "\n",
    "# Imprimir el DataFrame de resultados\n",
    "print(resultados_df)\n"
   ]
  },
  {
   "cell_type": "code",
   "execution_count": 57,
   "metadata": {},
   "outputs": [],
   "source": [
    "# Bootstrap AEG\n",
    "import random\n",
    "n=1500\n",
    "betas = []\n",
    "r2 = []\n",
    "for i in range(n):\n",
    "    flag_df = returns.sample(len(returns), replace=True)\n",
    "    model = LinearRegression()\n",
    "    X = flag_df[['VTI']]\n",
    "    y = flag_df[['AEG']]\n",
    "    model.fit(X, y)\n",
    "    beta = model.coef_[0][0]\n",
    "    rf = random.choice([0.012, 0.0155, 0.017])\n",
    "    mercado = random.choice([0.08, 0.09, 0.1])\n",
    "    beta_bootstrap = rf + beta *(mercado - rf)\n",
    "    betas.append(beta_bootstrap)\n",
    "    # codigo nuevo\n",
    "    predicciones = model.predict(X)\n",
    "    bootstrap_r2 = r2_score(y_pred=predicciones, y_true=y)\n",
    "    r2.append(bootstrap_r2)"
   ]
  },
  {
   "cell_type": "code",
   "execution_count": 58,
   "metadata": {},
   "outputs": [
    {
     "data": {
      "text/plain": [
       "0.30145907495456953"
      ]
     },
     "execution_count": 58,
     "metadata": {},
     "output_type": "execute_result"
    }
   ],
   "source": [
    "np.mean(r2)"
   ]
  },
  {
   "cell_type": "code",
   "execution_count": 59,
   "metadata": {},
   "outputs": [
    {
     "data": {
      "text/plain": [
       "0.009333333333333334"
      ]
     },
     "execution_count": 59,
     "metadata": {},
     "output_type": "execute_result"
    }
   ],
   "source": [
    "#Convertimos los datos a un DF\n",
    "df = pd.DataFrame()\n",
    "df['betas'] = betas\n",
    "df['r2'] = r2\n",
    "# probabilidad r2 > 0.5 DFS\n",
    "np.mean(df.r2 > 0.5)"
   ]
  },
  {
   "cell_type": "code",
   "execution_count": 60,
   "metadata": {},
   "outputs": [
    {
     "data": {
      "text/plain": [
       "(array([ 1.,  3.,  5.,  7.,  9.,  8.,  8., 22., 12., 17., 26., 30., 36.,\n",
       "        39., 52., 52., 57., 68., 57., 52., 56., 67., 81., 71., 69., 49.,\n",
       "        53., 51., 48., 52., 41., 52., 41., 36., 22., 29., 27., 25., 14.,\n",
       "        11.,  7.,  8.,  6.,  3.,  9.,  3.,  1.,  1.,  4.,  2.]),\n",
       " array([0.08494603, 0.09429585, 0.10364566, 0.11299547, 0.12234528,\n",
       "        0.1316951 , 0.14104491, 0.15039472, 0.15974454, 0.16909435,\n",
       "        0.17844416, 0.18779397, 0.19714379, 0.2064936 , 0.21584341,\n",
       "        0.22519323, 0.23454304, 0.24389285, 0.25324266, 0.26259248,\n",
       "        0.27194229, 0.2812921 , 0.29064192, 0.29999173, 0.30934154,\n",
       "        0.31869135, 0.32804117, 0.33739098, 0.34674079, 0.35609061,\n",
       "        0.36544042, 0.37479023, 0.38414004, 0.39348986, 0.40283967,\n",
       "        0.41218948, 0.4215393 , 0.43088911, 0.44023892, 0.44958873,\n",
       "        0.45893855, 0.46828836, 0.47763817, 0.48698799, 0.4963378 ,\n",
       "        0.50568761, 0.51503742, 0.52438724, 0.53373705, 0.54308686,\n",
       "        0.55243668]),\n",
       " <BarContainer object of 50 artists>)"
      ]
     },
     "execution_count": 60,
     "metadata": {},
     "output_type": "execute_result"
    },
    {
     "data": {
      "image/png": "[encoded data removed]",
      "text/plain": [
       "<Figure size 432x288 with 1 Axes>"
      ]
     },
     "metadata": {
      "needs_background": "light"
     },
     "output_type": "display_data"
    }
   ],
   "source": [
    "plt.hist(df.r2, bins=50)"
   ]
  },
  {
   "cell_type": "code",
   "execution_count": 61,
   "metadata": {},
   "outputs": [
    {
     "data": {
      "text/plain": [
       "expected_returns    0.238574\n",
       "volatility          0.953071\n",
       "Name: 2190, dtype: float64"
      ]
     },
     "execution_count": 61,
     "metadata": {},
     "output_type": "execute_result"
    }
   ],
   "source": [
    "max_returns_portafolio"
   ]
  },
  {
   "cell_type": "code",
   "execution_count": 62,
   "metadata": {},
   "outputs": [
    {
     "data": {
      "text/plain": [
       "array([0.0063527 , 0.04023016, 0.08490097, 0.05583714, 0.78321956,\n",
       "       0.02945947])"
      ]
     },
     "execution_count": 62,
     "metadata": {},
     "output_type": "execute_result"
    }
   ],
   "source": [
    "max_returns_weights = weights[simulated_df['expected_returns'].idxmax()]\n",
    "max_returns_weights"
   ]
  },
  {
   "cell_type": "markdown",
   "metadata": {},
   "source": [
    "# Esto nos indica una ponderacion de \n",
    "0    SYM  0.0063527\n",
    "\n",
    "1   ALNY  0.04023016\n",
    "\n",
    "2    VFS  0.08490097\n",
    "\n",
    "3    WDC  0.05583714\n",
    "\n",
    "4  FUJHY  0.78321956\n",
    "\n",
    "5    AEG  0.02945947"
   ]
  },
  {
   "cell_type": "code",
   "execution_count": 64,
   "metadata": {},
   "outputs": [],
   "source": [
    "e_emv = max_returns_portafolio['expected_returns']\n",
    "s_emv = max_returns_portafolio['volatility']"
   ]
  },
  {
   "cell_type": "markdown",
   "metadata": {},
   "source": [
    "# Cuanto debes invertir en ese portafolio dado los cooeficientes de aversión"
   ]
  },
  {
   "cell_type": "code",
   "execution_count": 65,
   "metadata": {},
   "outputs": [
    {
     "data": {
      "text/html": [
       "<div>\n",
       "<style scoped>\n",
       "    .dataframe tbody tr th:only-of-type {\n",
       "        vertical-align: middle;\n",
       "    }\n",
       "\n",
       "    .dataframe tbody tr th {\n",
       "        vertical-align: top;\n",
       "    }\n",
       "\n",
       "    .dataframe thead th {\n",
       "        text-align: right;\n",
       "    }\n",
       "</style>\n",
       "<table border=\"1\" class=\"dataframe\">\n",
       "  <thead>\n",
       "    <tr style=\"text-align: right;\">\n",
       "      <th></th>\n",
       "      <th>aversion</th>\n",
       "      <th>cuanto_acciones</th>\n",
       "      <th>cuanto_bonos</th>\n",
       "    </tr>\n",
       "  </thead>\n",
       "  <tbody>\n",
       "    <tr>\n",
       "      <th>0</th>\n",
       "      <td>1</td>\n",
       "      <td>0.245583</td>\n",
       "      <td>0.754417</td>\n",
       "    </tr>\n",
       "    <tr>\n",
       "      <th>1</th>\n",
       "      <td>2</td>\n",
       "      <td>0.122792</td>\n",
       "      <td>0.877208</td>\n",
       "    </tr>\n",
       "    <tr>\n",
       "      <th>2</th>\n",
       "      <td>3</td>\n",
       "      <td>0.081861</td>\n",
       "      <td>0.918139</td>\n",
       "    </tr>\n",
       "    <tr>\n",
       "      <th>3</th>\n",
       "      <td>4</td>\n",
       "      <td>0.061396</td>\n",
       "      <td>0.938604</td>\n",
       "    </tr>\n",
       "    <tr>\n",
       "      <th>4</th>\n",
       "      <td>5</td>\n",
       "      <td>0.049117</td>\n",
       "      <td>0.950883</td>\n",
       "    </tr>\n",
       "    <tr>\n",
       "      <th>5</th>\n",
       "      <td>6</td>\n",
       "      <td>0.040931</td>\n",
       "      <td>0.959069</td>\n",
       "    </tr>\n",
       "    <tr>\n",
       "      <th>6</th>\n",
       "      <td>6</td>\n",
       "      <td>0.040931</td>\n",
       "      <td>0.959069</td>\n",
       "    </tr>\n",
       "    <tr>\n",
       "      <th>7</th>\n",
       "      <td>7</td>\n",
       "      <td>0.035083</td>\n",
       "      <td>0.964917</td>\n",
       "    </tr>\n",
       "    <tr>\n",
       "      <th>8</th>\n",
       "      <td>10</td>\n",
       "      <td>0.024558</td>\n",
       "      <td>0.975442</td>\n",
       "    </tr>\n",
       "  </tbody>\n",
       "</table>\n",
       "</div>"
      ],
      "text/plain": [
       "   aversion  cuanto_acciones  cuanto_bonos\n",
       "0         1         0.245583      0.754417\n",
       "1         2         0.122792      0.877208\n",
       "2         3         0.081861      0.918139\n",
       "3         4         0.061396      0.938604\n",
       "4         5         0.049117      0.950883\n",
       "5         6         0.040931      0.959069\n",
       "6         6         0.040931      0.959069\n",
       "7         7         0.035083      0.964917\n",
       "8        10         0.024558      0.975442"
      ]
     },
     "execution_count": 65,
     "metadata": {},
     "output_type": "execute_result"
    }
   ],
   "source": [
    "aversion = np.array([1, 2, 3, 4, 5, 6, 6, 7, 10])\n",
    "asignacion = pd.DataFrame({\n",
    "    'aversion': aversion,\n",
    "    'cuanto_acciones': (e_emv - rf) / (s_emv **2 *aversion)\n",
    "})\n",
    "asignacion['cuanto_bonos'] = 1 -asignacion['cuanto_acciones']\n",
    "asignacion"
   ]
  },
  {
   "cell_type": "markdown",
   "metadata": {},
   "source": [
    "Nuestro portafolio es muy volatil por lo tanto recomienda una alta cantidad a bonos. Dependiendo del perfil del inversionista\n"
   ]
  },
  {
   "cell_type": "code",
   "execution_count": 66,
   "metadata": {},
   "outputs": [
    {
     "name": "stdout",
     "output_type": "stream",
     "text": [
      "[*********************100%%**********************]  6 of 6 completed\n"
     ]
    }
   ],
   "source": [
    "# Descargar los factores Fama-French desde la web de Ken French\n",
    "ff_factors = web.DataReader(\"F-F_Research_Data_5_Factors_2x3\", \"famafrench\", start_date, end_date)\n",
    "tickers = ['SYM', 'ALNY', 'VFS', 'WDC', 'FUJHY', 'AEG']\n",
    "stock_data = yf.download(tickers, start_date, end_date, interval='1mo')['Adj Close']\n",
    "rt = stock_data.pct_change().dropna()"
   ]
  },
  {
   "cell_type": "code",
   "execution_count": 67,
   "metadata": {},
   "outputs": [
    {
     "data": {
      "text/plain": [
       "{0:          Mkt-RF   SMB    HML   RMW   CMA    RF\n",
       " Date                                          \n",
       " 2022-01   -6.25 -4.06  12.75  0.84  7.72  0.00\n",
       " 2022-02   -2.29  2.92   3.08 -2.09  3.12  0.00\n",
       " 2022-03    3.05 -2.17  -1.81 -1.53  3.14  0.01\n",
       " 2022-04   -9.46 -0.39   6.17  3.52  5.89  0.01\n",
       " 2022-05   -0.34 -0.06   8.39  1.56  3.97  0.03\n",
       " 2022-06   -8.43  1.30  -5.97  1.81 -4.69  0.06\n",
       " 2022-07    9.57  1.82  -4.05  0.82 -6.83  0.08\n",
       " 2022-08   -3.77  1.52   0.29 -4.75  1.29  0.19\n",
       " 2022-09   -9.35 -1.05   0.05 -1.51 -0.80  0.19\n",
       " 2022-10    7.83  1.89   8.01  3.34  6.64  0.23\n",
       " 2022-11    4.60 -2.74   1.38  6.38  3.18  0.29\n",
       " 2022-12   -6.41 -0.15   1.37  0.25  4.20  0.33\n",
       " 2023-01    6.65  4.41  -4.01 -2.44 -4.47  0.35\n",
       " 2023-02   -2.58  0.66  -0.81  1.01 -1.33  0.34\n",
       " 2023-03    2.51 -6.94  -8.85  2.24 -2.37  0.36\n",
       " 2023-04    0.61 -2.56  -0.04  2.42  2.86  0.35\n",
       " 2023-05    0.35 -0.38  -7.72 -1.81 -7.22  0.36\n",
       " 2023-06    6.46  1.34  -0.26  2.18 -1.62  0.40\n",
       " 2023-07    3.21  2.86   4.11 -0.57  0.57  0.45\n",
       " 2023-08   -2.39 -3.65  -1.06  3.43 -2.37  0.45\n",
       " 2023-09   -5.24 -1.79   1.52  1.87 -0.82  0.43,\n",
       " 1:       Mkt-RF   SMB    HML   RMW    CMA    RF\n",
       " Date                                        \n",
       " 2022   -21.6 -1.61  25.81  6.67  22.43  1.43,\n",
       " 'DESCR': 'F-F Research Data 5 Factors 2x3\\n-------------------------------\\n\\nThis file was created by CMPT_ME_BEME_OP_INV_RETS using the 202309 CRSP database. The 1-month TBill return is from Ibbotson and Associates Inc.\\n\\n  0 : (21 rows x 6 cols)\\n  1 : Annual Factors: January-December (1 rows x 6 cols)'}"
      ]
     },
     "execution_count": 67,
     "metadata": {},
     "output_type": "execute_result"
    }
   ],
   "source": [
    "ff_factors"
   ]
  },
  {
   "cell_type": "code",
   "execution_count": 68,
   "metadata": {},
   "outputs": [],
   "source": [
    "# Correr todos los modelos\n",
    "def run_all_models(data, ticker):\n",
    "    flag_data = data.copy()\n",
    "    flag_data[ticker + '_minus_RF'] = data[ticker] - data['RF']\n",
    "    y = flag_data[[ticker + '_minus_RF']] \n",
    "\n",
    "    # CAPM \n",
    "    X_capm = flag_data[['Mkt-RF']]\n",
    "    model_capm = LinearRegression().fit(X_capm, y)\n",
    "    prediction_capm = model_capm.predict(X_capm)\n",
    "    r2_capm = r2_score(y_pred=prediction_capm, y_true=y)\n",
    "    summary_capm = {str(X_capm.keys().values): list(model_capm.coef_[0])}\n",
    "\n",
    "    # 3 factor model \n",
    "    X_3factor = flag_data[['Mkt-RF', 'SMB', 'HML']]\n",
    "    model_3factor = LinearRegression().fit(X_3factor, y)\n",
    "    prediction_3factor = model_3factor.predict(X_3factor)\n",
    "    r2_3factor = r2_score(y_pred=prediction_3factor, y_true=y)\n",
    "    summary_3factor = {str(X_3factor.keys().values): list(model_3factor.coef_[0])}\n",
    "    \n",
    "    \n",
    "    # 5 factor\n",
    "    X_5factor = flag_data[['Mkt-RF', 'SMB', 'HML', 'RMW', 'CMA']]\n",
    "    model_5factor = LinearRegression().fit(X_5factor, y)\n",
    "    prediction_5factor = model_5factor.predict(X_5factor)\n",
    "    r2_5factor = r2_score(y_pred=prediction_5factor, y_true=y)\n",
    "    summary_5factor = {str(X_5factor.keys().values): list(model_5factor.coef_[0])}\n",
    "    \n",
    "    summary = {\n",
    "        'CAPM': {'BETAS': summary_capm, 'R2': r2_capm},\n",
    "        '3 factor': {'BETAS': summary_3factor, 'R2': r2_3factor},\n",
    "        '5 factor': {'BETAS': summary_5factor, 'R2': r2_5factor}\n",
    "\n",
    "    }\n",
    "    return summary\n"
   ]
  },
  {
   "cell_type": "code",
   "execution_count": 69,
   "metadata": {},
   "outputs": [],
   "source": [
    "#Necesitamos los pesos de cada activo (w) en el portafolio con la minima varianza\n",
    "max_returns_weights = weights[simulated_df['expected_returns'].idxmax()]\n",
    "#Sacamos el rend espereado \n",
    "portfolio_returns = (rt * max_returns_weights).sum(axis=1)\n",
    "\n",
    "portfolio_returns.name = 'Portfolio_Returns'"
   ]
  },
  {
   "cell_type": "code",
   "execution_count": 70,
   "metadata": {},
   "outputs": [
    {
     "data": {
      "text/plain": [
       "1.0"
      ]
     },
     "execution_count": 70,
     "metadata": {},
     "output_type": "execute_result"
    }
   ],
   "source": [
    "sum(max_returns_weights)"
   ]
  },
  {
   "cell_type": "code",
   "execution_count": null,
   "metadata": {},
   "outputs": [],
   "source": []
  },
  {
   "cell_type": "code",
   "execution_count": null,
   "metadata": {},
   "outputs": [],
   "source": []
  },
  {
   "cell_type": "code",
   "execution_count": null,
   "metadata": {},
   "outputs": [],
   "source": []
  },
  {
   "cell_type": "code",
   "execution_count": null,
   "metadata": {},
   "outputs": [],
   "source": []
  }
 ],
 "metadata": {
  "kernelspec": {
   "display_name": "Python 3 (ipykernel)",
   "language": "python",
   "name": "python3"
  },
  "language_info": {
   "codemirror_mode": {
    "name": "ipython",
    "version": 3
   },
   "file_extension": ".py",
   "mimetype": "text/x-python",
   "name": "python",
   "nbconvert_exporter": "python",
   "pygments_lexer": "ipython3",
   "version": "3.9.12"
  }
 },
 "nbformat": 4,
 "nbformat_minor": 4
}
