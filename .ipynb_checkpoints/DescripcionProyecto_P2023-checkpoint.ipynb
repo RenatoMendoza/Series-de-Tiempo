{
 "cells": [
  {
   "cell_type": "markdown",
   "metadata": {},
   "source": [
    "___\n",
    "<img style=\"float: right; margin: 0px 0px 15px 15px;\" src=\"https://upload.wikimedia.org/wikipedia/commons/0/08/Pareto_Efficient_Frontier_for_the_Markowitz_Portfolio_selection_problem..png\" width=\"300px\" height=\"100px\" />\n",
    "\n",
    "\n",
    "# Proyecto Final\n",
    "\n",
    "En el proyecto final diseñarás un portafolio de inversión utilizando activos (o ETFs) reales de tu preferencia. Utilizarás todas las herramientas vistas a lo largo del curso para este fin, y después, evaluarás qué tan buena hubiera sido tu inversión de haber invertido en este portafolio.\n",
    "\n",
    "El proyecto se realizará en equipos de mínimo dos (2) y máximo tres (3) personas. Ni más, ni menos. Para esto, deberán conformar los equipos en este momento, y designar a un miembro del equipo que me envíe un correo con los nombres de los integrantes.\n",
    "___"
   ]
  },
  {
   "cell_type": "markdown",
   "metadata": {},
   "source": [
    "## 1. Elección de activos  (10%)\n",
    "\n",
    "Lo primero es elegir los activos que van a utilizar. \n",
    "\n",
    "Escoger 15 acciones de la bolsa de valores de EUA \n",
    "\n",
    "En cualquiera de los tres casos deben explicar detalladamente la elección de cada uno de los activos y/o ETFs que elijan.\n",
    "\n",
    "Todos estos activos tienen que tener:\n",
    "- Market beta\n",
    "- R2 del beta\n",
    "- Hacer bootstrap de R2 y Beta, ¿Cuál es la probabiliad que la beta de X activo sea > 1? Histograma de R2 y beta\n",
    "- Analisis de la acción, P/E ratio, que clase es, que hace la empresa, cuanto vale la empresa, etc.  \n"
   ]
  },
  {
   "cell_type": "code",
   "execution_count": 5,
   "metadata": {},
   "outputs": [],
   "source": [
    "import numpy as np\n",
    "import pandas as pd\n",
    "import pandas_datareader.data as web\n",
    "import matplotlib.pyplot as plt\n",
    "from sklearn.linear_model import LinearRegression\n",
    "import random\n",
    "import datetime\n",
    "import yfinance as yf"
   ]
  },
  {
   "cell_type": "code",
   "execution_count": 9,
   "metadata": {},
   "outputs": [
    {
     "name": "stdout",
     "output_type": "stream",
     "text": [
      "[*********************100%%**********************]  15 of 15 completed\n"
     ]
    }
   ],
   "source": [
    "start_date = datetime.datetime(2015, 1, 1)\n",
    "end_date = datetime.datetime(2023, 12, 31)\n",
    "\n",
    "tickers = ['VTI', 'VGT', 'VCR', 'VFH', 'VHT', 'AAPL', 'AMZN', 'GOOGL', 'COST', 'MSFT', 'TSLA', 'META', 'NVDA', 'DIS', 'NFLX']\n",
    "stock_data = yf.download(tickers, start=start_date, interval='1mo')['Close']\n",
    "stock_data.head()\n",
    "rt = stock_data.pct_change().dropna()"
   ]
  },
  {
   "cell_type": "code",
   "execution_count": 10,
   "metadata": {},
   "outputs": [],
   "source": [
    "stocks=list(rt.keys())\n",
    "betas= {}\n",
    "for i in stocks:\n",
    "    Y = rt[[i]]\n",
    "    X = rt[['VTI']]\n",
    "    model = LinearRegression().fit(X,Y)\n",
    "    beta_coefficient = model.coef_[0][0]\n",
    "    betas[i] = [beta_coefficient, Y.mean()[0]]"
   ]
  },
  {
   "cell_type": "code",
   "execution_count": 11,
   "metadata": {},
   "outputs": [
    {
     "data": {
      "text/html": [
       "<div>\n",
       "<style scoped>\n",
       "    .dataframe tbody tr th:only-of-type {\n",
       "        vertical-align: middle;\n",
       "    }\n",
       "\n",
       "    .dataframe tbody tr th {\n",
       "        vertical-align: top;\n",
       "    }\n",
       "\n",
       "    .dataframe thead th {\n",
       "        text-align: right;\n",
       "    }\n",
       "</style>\n",
       "<table border=\"1\" class=\"dataframe\">\n",
       "  <thead>\n",
       "    <tr style=\"text-align: right;\">\n",
       "      <th></th>\n",
       "      <th>stocks</th>\n",
       "      <th>beta</th>\n",
       "      <th>returns</th>\n",
       "    </tr>\n",
       "  </thead>\n",
       "  <tbody>\n",
       "    <tr>\n",
       "      <th>0</th>\n",
       "      <td>AAPL</td>\n",
       "      <td>1.221531</td>\n",
       "      <td>0.021172</td>\n",
       "    </tr>\n",
       "    <tr>\n",
       "      <th>1</th>\n",
       "      <td>AMZN</td>\n",
       "      <td>1.231172</td>\n",
       "      <td>0.024011</td>\n",
       "    </tr>\n",
       "    <tr>\n",
       "      <th>2</th>\n",
       "      <td>COST</td>\n",
       "      <td>0.749822</td>\n",
       "      <td>0.015084</td>\n",
       "    </tr>\n",
       "    <tr>\n",
       "      <th>3</th>\n",
       "      <td>DIS</td>\n",
       "      <td>1.266788</td>\n",
       "      <td>0.003810</td>\n",
       "    </tr>\n",
       "    <tr>\n",
       "      <th>4</th>\n",
       "      <td>GOOGL</td>\n",
       "      <td>1.051978</td>\n",
       "      <td>0.017966</td>\n",
       "    </tr>\n",
       "    <tr>\n",
       "      <th>5</th>\n",
       "      <td>META</td>\n",
       "      <td>1.055453</td>\n",
       "      <td>0.019081</td>\n",
       "    </tr>\n",
       "    <tr>\n",
       "      <th>6</th>\n",
       "      <td>MSFT</td>\n",
       "      <td>0.906378</td>\n",
       "      <td>0.023105</td>\n",
       "    </tr>\n",
       "    <tr>\n",
       "      <th>7</th>\n",
       "      <td>NFLX</td>\n",
       "      <td>1.269630</td>\n",
       "      <td>0.027093</td>\n",
       "    </tr>\n",
       "    <tr>\n",
       "      <th>8</th>\n",
       "      <td>NVDA</td>\n",
       "      <td>1.699332</td>\n",
       "      <td>0.053983</td>\n",
       "    </tr>\n",
       "    <tr>\n",
       "      <th>9</th>\n",
       "      <td>TSLA</td>\n",
       "      <td>1.850814</td>\n",
       "      <td>0.042337</td>\n",
       "    </tr>\n",
       "    <tr>\n",
       "      <th>10</th>\n",
       "      <td>VCR</td>\n",
       "      <td>1.230065</td>\n",
       "      <td>0.010521</td>\n",
       "    </tr>\n",
       "    <tr>\n",
       "      <th>11</th>\n",
       "      <td>VFH</td>\n",
       "      <td>1.087803</td>\n",
       "      <td>0.007391</td>\n",
       "    </tr>\n",
       "    <tr>\n",
       "      <th>12</th>\n",
       "      <td>VGT</td>\n",
       "      <td>1.128829</td>\n",
       "      <td>0.016073</td>\n",
       "    </tr>\n",
       "    <tr>\n",
       "      <th>13</th>\n",
       "      <td>VHT</td>\n",
       "      <td>0.750677</td>\n",
       "      <td>0.006734</td>\n",
       "    </tr>\n",
       "    <tr>\n",
       "      <th>14</th>\n",
       "      <td>VTI</td>\n",
       "      <td>1.000000</td>\n",
       "      <td>0.008465</td>\n",
       "    </tr>\n",
       "  </tbody>\n",
       "</table>\n",
       "</div>"
      ],
      "text/plain": [
       "   stocks      beta   returns\n",
       "0    AAPL  1.221531  0.021172\n",
       "1    AMZN  1.231172  0.024011\n",
       "2    COST  0.749822  0.015084\n",
       "3     DIS  1.266788  0.003810\n",
       "4   GOOGL  1.051978  0.017966\n",
       "5    META  1.055453  0.019081\n",
       "6    MSFT  0.906378  0.023105\n",
       "7    NFLX  1.269630  0.027093\n",
       "8    NVDA  1.699332  0.053983\n",
       "9    TSLA  1.850814  0.042337\n",
       "10    VCR  1.230065  0.010521\n",
       "11    VFH  1.087803  0.007391\n",
       "12    VGT  1.128829  0.016073\n",
       "13    VHT  0.750677  0.006734\n",
       "14    VTI  1.000000  0.008465"
      ]
     },
     "execution_count": 11,
     "metadata": {},
     "output_type": "execute_result"
    }
   ],
   "source": [
    "regression_beta = [betas[i][0] for i in betas]\n",
    "#regression_beta\n",
    "returns1 = rt.copy()\n",
    "returns1 = [betas[i][1] for i in betas]\n",
    "df = pd.DataFrame()\n",
    "df['stocks'] = [i for i in betas]\n",
    "df['beta'] = regression_beta\n",
    "df['returns'] = returns1\n",
    "df"
   ]
  },
  {
   "cell_type": "code",
   "execution_count": 15,
   "metadata": {},
   "outputs": [],
   "source": [
    "activos = list(rt.keys())\n",
    "activos.remove('VTI')\n",
    "boot={}\n",
    "betas = []\n",
    "for index, activo in enumerate(activos):\n",
    "    for i in range(10000):\n",
    "        sample_df = rt.sample(len(rt), replace=True)\n",
    "        beta = sample_df.cov().values[index+1][0] / np.var(sample_df['VTI'])\n",
    "        betas.append(beta)\n",
    "    boot[activo] = betas        \n",
    "    betas = []"
   ]
  },
  {
   "cell_type": "code",
   "execution_count": 16,
   "metadata": {},
   "outputs": [
    {
     "data": {
      "image/png": "[encoded data removed]",
      "text/plain": [
       "<Figure size 432x288 with 1 Axes>"
      ]
     },
     "metadata": {
      "needs_background": "light"
     },
     "output_type": "display_data"
    },
    {
     "data": {
      "image/png": "[encoded data removed]",
      "text/plain": [
       "<Figure size 432x288 with 1 Axes>"
      ]
     },
     "metadata": {
      "needs_background": "light"
     },
     "output_type": "display_data"
    },
    {
     "data": {
      "image/png": "[encoded data removed]",
      "text/plain": [
       "<Figure size 432x288 with 1 Axes>"
      ]
     },
     "metadata": {
      "needs_background": "light"
     },
     "output_type": "display_data"
    },
    {
     "data": {
      "image/png": "[encoded data removed]",
      "text/plain": [
       "<Figure size 432x288 with 1 Axes>"
      ]
     },
     "metadata": {
      "needs_background": "light"
     },
     "output_type": "display_data"
    },
    {
     "data": {
      "image/png": "[encoded data removed]",
      "text/plain": [
       "<Figure size 432x288 with 1 Axes>"
      ]
     },
     "metadata": {
      "needs_background": "light"
     },
     "output_type": "display_data"
    },
    {
     "data": {
      "image/png": "[encoded data removed]",
      "text/plain": [
       "<Figure size 432x288 with 1 Axes>"
      ]
     },
     "metadata": {
      "needs_background": "light"
     },
     "output_type": "display_data"
    },
    {
     "data": {
      "image/png": "[encoded data removed]",
      "text/plain": [
       "<Figure size 432x288 with 1 Axes>"
      ]
     },
     "metadata": {
      "needs_background": "light"
     },
     "output_type": "display_data"
    },
    {
     "data": {
      "image/png": "[encoded data removed]",
      "text/plain": [
       "<Figure size 432x288 with 1 Axes>"
      ]
     },
     "metadata": {
      "needs_background": "light"
     },
     "output_type": "display_data"
    },
    {
     "data": {
      "image/png": "[encoded data removed]",
      "text/plain": [
       "<Figure size 432x288 with 1 Axes>"
      ]
     },
     "metadata": {
      "needs_background": "light"
     },
     "output_type": "display_data"
    },
    {
     "data": {
      "image/png": "[encoded data removed]",
      "text/plain": [
       "<Figure size 432x288 with 1 Axes>"
      ]
     },
     "metadata": {
      "needs_background": "light"
     },
     "output_type": "display_data"
    },
    {
     "data": {
      "image/png": "[encoded data removed]",
      "text/plain": [
       "<Figure size 432x288 with 1 Axes>"
      ]
     },
     "metadata": {
      "needs_background": "light"
     },
     "output_type": "display_data"
    },
    {
     "data": {
      "image/png": "[encoded data removed]",
      "text/plain": [
       "<Figure size 432x288 with 1 Axes>"
      ]
     },
     "metadata": {
      "needs_background": "light"
     },
     "output_type": "display_data"
    },
    {
     "data": {
      "image/png": "[encoded data removed]",
      "text/plain": [
       "<Figure size 432x288 with 1 Axes>"
      ]
     },
     "metadata": {
      "needs_background": "light"
     },
     "output_type": "display_data"
    },
    {
     "data": {
      "image/png": "[encoded data removed]",
      "text/plain": [
       "<Figure size 432x288 with 1 Axes>"
      ]
     },
     "metadata": {
      "needs_background": "light"
     },
     "output_type": "display_data"
    }
   ],
   "source": [
    "for activo in activos:\n",
    "    df_betas= pd.DataFrame()\n",
    "    df_betas[f'beta {activo}'] = boot[activo]\n",
    "    df_betas.hist(bins=100)"
   ]
  },
  {
   "cell_type": "code",
   "execution_count": 20,
   "metadata": {},
   "outputs": [],
   "source": [
    "activos = list(rt.keys())\n",
    "r2= {}\n",
    "for i in activos:\n",
    "    X = rt[['VTI']]\n",
    "    Y = rt[[i]]\n",
    "    model = LinearRegression().fit(X,Y)\n",
    "    df_copy = rt.copy()\n",
    "    df_copy['prediction'] = model.predict(X)\n",
    "    df_copy['MEAN'] = df_copy[i].mean()\n",
    "    \n",
    "    var_mean = np.var(df_copy[i] - df_copy.MEAN)\n",
    "    var_model = np.var(df_copy[i] - df_copy.prediction)\n",
    "    r2[i] = (var_mean - var_model) / var_mean"
   ]
  },
  {
   "cell_type": "code",
   "execution_count": 21,
   "metadata": {},
   "outputs": [
    {
     "data": {
      "text/plain": [
       "{'AAPL': 0.4865700869551119,\n",
       " 'AMZN': 0.4008251736965399,\n",
       " 'COST': 0.36353609511246604,\n",
       " 'DIS': 0.5025580118375756,\n",
       " 'GOOGL': 0.48444914772660225,\n",
       " 'META': 0.2557122549622948,\n",
       " 'MSFT': 0.4601436148865895,\n",
       " 'NFLX': 0.2364455138660204,\n",
       " 'NVDA': 0.33965052291012654,\n",
       " 'TSLA': 0.22784222972303977,\n",
       " 'VCR': 0.8709693207970957,\n",
       " 'VFH': 0.7454104754259354,\n",
       " 'VGT': 0.8332282745135317,\n",
       " 'VHT': 0.6664723636649345,\n",
       " 'VTI': 1.0}"
      ]
     },
     "execution_count": 21,
     "metadata": {},
     "output_type": "execute_result"
    }
   ],
   "source": [
    "r2"
   ]
  },
  {
   "cell_type": "markdown",
   "metadata": {},
   "source": [
    "## 2. Selección de portafolios\n",
    "\n",
    "Una vez elegidos los activos y/o ETFs:\n",
    "\n",
    "1. Usando los precios históricos de dichos activos hasta el 2015-12-31 (la fecha inicial es un parámetro que ustedes deberán elegir), diseñarán un portafolio en el que (hipotéticamente) habrían invertido durante todo el 2016. Para esto, deberán suponer un coeficiente de aversión al riesgo.\n",
    "\n",
    "2. Usando los precios históricos de dichos activos hasta el 2016-12-31, diseñarán un portafolio en el que (hipotéticamente) habrían invertido durante todo el 2017.\n",
    "\n",
    "3. Usando los precios históricos de dichos activos hasta el 2017-12-31, diseñarán un portafolio en el que (hipotéticamente) habrían invertido durante todo el 2018.\n",
    "\n",
    "4. Usando los precios históricos de dichos activos hasta el 2018-12-31, diseñarán un portafolio en el que (hipotéticamente) habrían invertido durante todo el 2019.\n",
    "\n",
    "5. Usando los precios históricos de dichos activos hasta el 2019-12-31, diseñarán un portafolio en el que (hipotéticamente) habrían invertido durante todo el 2020.\n",
    "\n",
    "6. Usando los precios históricos de dichos activos hasta el 2020-12-31, diseñarán un portafolio en el que (hipotéticamente) habrían invertido durante todo el 2021.\n",
    "\n",
    "7. Usando los precios históricos de dichos activos hasta el 2021-12-31, diseñarán un portafolio en el que (hipotéticamente) habrían invertido durante todo el 2022.\n",
    "\n",
    "8. Usando los precios históricos de dichos activos hasta el 2022-12-31, diseñarán un portafolio en el que (hipotéticamente) habrían invertido durante todo el 2023."
   ]
  },
  {
   "cell_type": "markdown",
   "metadata": {},
   "source": [
    "1. Usando los precios históricos de dichos activos hasta el 2015-12-31 (la fecha inicial es un parámetro que ustedes deberán elegir), diseñarán un portafolio en el que (hipotéticamente) habrían invertido durante todo el 2016. Para esto, deberán suponer un coeficiente de aversión al riesgo."
   ]
  },
  {
   "cell_type": "code",
   "execution_count": 40,
   "metadata": {},
   "outputs": [
    {
     "name": "stdout",
     "output_type": "stream",
     "text": [
      "[*********************100%%**********************]  15 of 15 completed\n"
     ]
    }
   ],
   "source": [
    "start_date = datetime.datetime(2015, 12, 31)\n",
    "end_date = datetime.datetime(2016, 12, 31)\n",
    "\n",
    "tickers = ['VTI', 'VGT', 'VCR', 'VFH', 'VHT', 'AAPL', 'AMZN', 'GOOGL', 'COST', 'MSFT', 'TSLA', 'META', 'NVDA', 'DIS', 'NFLX']\n",
    "stock_data = yf.download(tickers, start=start_date)['Adj Close']\n",
    "stock_data.head()\n",
    "rt = stock_data.pct_change().dropna()\n",
    "\n",
    "# Tasa libre de riesgo de Bonos del tesoro a un año a día 21/11/2023\n",
    "# https://home.treasury.gov/resource-center/data-chart-center/interest-rates/TextView?type=daily_treasury_yield_curve&field_tdr_date_value=2023\n",
    "\n",
    "rf = 0.0524"
   ]
  },
  {
   "cell_type": "code",
   "execution_count": 41,
   "metadata": {},
   "outputs": [
    {
     "data": {
      "text/html": [
       "<div>\n",
       "<style scoped>\n",
       "    .dataframe tbody tr th:only-of-type {\n",
       "        vertical-align: middle;\n",
       "    }\n",
       "\n",
       "    .dataframe tbody tr th {\n",
       "        vertical-align: top;\n",
       "    }\n",
       "\n",
       "    .dataframe thead th {\n",
       "        text-align: right;\n",
       "    }\n",
       "</style>\n",
       "<table border=\"1\" class=\"dataframe\">\n",
       "  <thead>\n",
       "    <tr style=\"text-align: right;\">\n",
       "      <th></th>\n",
       "      <th>vol</th>\n",
       "      <th>return</th>\n",
       "    </tr>\n",
       "  </thead>\n",
       "  <tbody>\n",
       "    <tr>\n",
       "      <th>AAPL</th>\n",
       "      <td>0.294635</td>\n",
       "      <td>0.306728</td>\n",
       "    </tr>\n",
       "    <tr>\n",
       "      <th>AMZN</th>\n",
       "      <td>0.333630</td>\n",
       "      <td>0.239439</td>\n",
       "    </tr>\n",
       "    <tr>\n",
       "      <th>COST</th>\n",
       "      <td>0.222904</td>\n",
       "      <td>0.205781</td>\n",
       "    </tr>\n",
       "    <tr>\n",
       "      <th>DIS</th>\n",
       "      <td>0.287788</td>\n",
       "      <td>0.035145</td>\n",
       "    </tr>\n",
       "    <tr>\n",
       "      <th>GOOGL</th>\n",
       "      <td>0.285298</td>\n",
       "      <td>0.200527</td>\n",
       "    </tr>\n",
       "    <tr>\n",
       "      <th>META</th>\n",
       "      <td>0.389996</td>\n",
       "      <td>0.225698</td>\n",
       "    </tr>\n",
       "    <tr>\n",
       "      <th>MSFT</th>\n",
       "      <td>0.279140</td>\n",
       "      <td>0.295870</td>\n",
       "    </tr>\n",
       "    <tr>\n",
       "      <th>NFLX</th>\n",
       "      <td>0.443363</td>\n",
       "      <td>0.281293</td>\n",
       "    </tr>\n",
       "    <tr>\n",
       "      <th>NVDA</th>\n",
       "      <td>0.498186</td>\n",
       "      <td>0.647176</td>\n",
       "    </tr>\n",
       "    <tr>\n",
       "      <th>TSLA</th>\n",
       "      <td>0.585002</td>\n",
       "      <td>0.515236</td>\n",
       "    </tr>\n",
       "    <tr>\n",
       "      <th>VCR</th>\n",
       "      <td>0.224736</td>\n",
       "      <td>0.143722</td>\n",
       "    </tr>\n",
       "    <tr>\n",
       "      <th>VFH</th>\n",
       "      <td>0.238525</td>\n",
       "      <td>0.120894</td>\n",
       "    </tr>\n",
       "    <tr>\n",
       "      <th>VGT</th>\n",
       "      <td>0.244297</td>\n",
       "      <td>0.223451</td>\n",
       "    </tr>\n",
       "    <tr>\n",
       "      <th>VHT</th>\n",
       "      <td>0.177466</td>\n",
       "      <td>0.102841</td>\n",
       "    </tr>\n",
       "    <tr>\n",
       "      <th>VTI</th>\n",
       "      <td>0.189196</td>\n",
       "      <td>0.132205</td>\n",
       "    </tr>\n",
       "  </tbody>\n",
       "</table>\n",
       "</div>"
      ],
      "text/plain": [
       "            vol    return\n",
       "AAPL   0.294635  0.306728\n",
       "AMZN   0.333630  0.239439\n",
       "COST   0.222904  0.205781\n",
       "DIS    0.287788  0.035145\n",
       "GOOGL  0.285298  0.200527\n",
       "META   0.389996  0.225698\n",
       "MSFT   0.279140  0.295870\n",
       "NFLX   0.443363  0.281293\n",
       "NVDA   0.498186  0.647176\n",
       "TSLA   0.585002  0.515236\n",
       "VCR    0.224736  0.143722\n",
       "VFH    0.238525  0.120894\n",
       "VGT    0.244297  0.223451\n",
       "VHT    0.177466  0.102841\n",
       "VTI    0.189196  0.132205"
      ]
     },
     "execution_count": 41,
     "metadata": {},
     "output_type": "execute_result"
    }
   ],
   "source": [
    "df = pd.DataFrame()\n",
    "df['vol'] = rt.std() * 252 ** 0.5\n",
    "df['return'] = rt.mean() * 252 \n",
    "df"
   ]
  },
  {
   "cell_type": "code",
   "execution_count": 42,
   "metadata": {},
   "outputs": [],
   "source": [
    "cov = rt.cov()\n",
    "corr = rt.corr()"
   ]
  },
  {
   "cell_type": "code",
   "execution_count": 43,
   "metadata": {},
   "outputs": [
    {
     "data": {
      "text/plain": [
       "array([0.30672806, 0.23943893, 0.20578063, 0.03514464, 0.20052661,\n",
       "       0.22569811, 0.29586996, 0.28129294, 0.64717602, 0.51523625,\n",
       "       0.143722  , 0.12089382, 0.22345139, 0.10284113, 0.13220545])"
      ]
     },
     "execution_count": 43,
     "metadata": {},
     "output_type": "execute_result"
    }
   ],
   "source": [
    "# Eind: rendimientos esperados activos individuales\n",
    "e_rt = df['return'].values \n",
    "# Número de activos\n",
    "n = len(e_rt)\n",
    "e_rt"
   ]
  },
  {
   "cell_type": "code",
   "execution_count": 44,
   "metadata": {},
   "outputs": [],
   "source": [
    "S = np.diag(df['vol']).astype(float) \n",
    "sigma = S.dot(corr).dot(S)"
   ]
  },
  {
   "cell_type": "code",
   "execution_count": 45,
   "metadata": {},
   "outputs": [],
   "source": [
    "def var(w, sigma):\n",
    "    return w.T.dot(sigma).dot(w)"
   ]
  },
  {
   "cell_type": "code",
   "execution_count": 47,
   "metadata": {},
   "outputs": [],
   "source": [
    "n = len(e_rt)\n",
    "# Dato inicial\n",
    "w0 = np.ones(n) / n\n",
    "# Cotas de las variables\n",
    "bnds = ((0, 1),) * n\n",
    "# Restricciones\n",
    "cons = {'type': 'eq', 'fun': lambda w: w.sum() - 1}"
   ]
  },
  {
   "cell_type": "code",
   "execution_count": 49,
   "metadata": {},
   "outputs": [],
   "source": [
    "from scipy.optimize import minimize\n",
    "\n",
    "minvar = minimize(\n",
    "    fun=var,\n",
    "    x0=w0,\n",
    "    args=(sigma,),\n",
    "    bounds=bnds,\n",
    "    constraints=cons\n",
    ")"
   ]
  },
  {
   "cell_type": "code",
   "execution_count": 50,
   "metadata": {},
   "outputs": [
    {
     "data": {
      "text/plain": [
       "array([0.00000000e+00, 0.00000000e+00, 2.57437356e-01, 6.67518018e-02,\n",
       "       0.00000000e+00, 0.00000000e+00, 0.00000000e+00, 1.35393281e-19,\n",
       "       0.00000000e+00, 3.85408149e-18, 0.00000000e+00, 0.00000000e+00,\n",
       "       4.17950609e-18, 6.67844274e-01, 7.96656911e-03])"
      ]
     },
     "execution_count": 50,
     "metadata": {},
     "output_type": "execute_result"
    }
   ],
   "source": [
    "wminvar = minvar.x\n",
    "wminvar"
   ]
  },
  {
   "cell_type": "code",
   "execution_count": 52,
   "metadata": {},
   "outputs": [
    {
     "data": {
      "text/plain": [
       "(0.1250566723608235, 0.16828505275254244, 0.4317476280419432)"
      ]
     },
     "execution_count": 52,
     "metadata": {},
     "output_type": "execute_result"
    }
   ],
   "source": [
    "e_mv = wminvar.dot(e_rt)\n",
    "s_mv = np.sqrt(wminvar.T.dot(sigma).dot(wminvar))\n",
    "sharpe_mv= (e_mv-rf)/ s_mv\n",
    "e_mv, s_mv, sharpe_mv"
   ]
  },
  {
   "cell_type": "code",
   "execution_count": 54,
   "metadata": {},
   "outputs": [],
   "source": [
    "def menos_rs(w, rf, eind, sigma):\n",
    "    sp = (w.T.dot(sigma).dot(w))**0.5\n",
    "    ep = w.dot(e_rt)\n",
    "    rs = (ep - rf) / sp\n",
    "    return -rs"
   ]
  },
  {
   "cell_type": "code",
   "execution_count": 55,
   "metadata": {},
   "outputs": [],
   "source": [
    "n = len(e_rt)\n",
    "# Dato inicial\n",
    "w0 = np.ones(n) / n\n",
    "# Cotas de las variables\n",
    "bnds = ((0, 1),) * n\n",
    "# Restricciones\n",
    "cons = {'type': 'eq', 'fun': lambda w: w.sum() - 1}"
   ]
  },
  {
   "cell_type": "code",
   "execution_count": 57,
   "metadata": {},
   "outputs": [],
   "source": [
    "emv = minimize(\n",
    "    fun=menos_rs,\n",
    "    x0=w0,\n",
    "    args=(rf, e_rt, sigma),\n",
    "    bounds=bnds,\n",
    "    constraints=cons\n",
    ")"
   ]
  },
  {
   "cell_type": "code",
   "execution_count": 59,
   "metadata": {},
   "outputs": [
    {
     "data": {
      "text/plain": [
       "array([9.47904811e-02, 0.00000000e+00, 2.29816088e-01, 2.86012533e-16,\n",
       "       0.00000000e+00, 6.81692116e-17, 5.20417043e-17, 0.00000000e+00,\n",
       "       5.36905149e-01, 1.38488281e-01, 0.00000000e+00, 0.00000000e+00,\n",
       "       2.32019265e-17, 0.00000000e+00, 1.26417973e-16])"
      ]
     },
     "execution_count": 59,
     "metadata": {},
     "output_type": "execute_result"
    }
   ],
   "source": [
    "wemv_1 = emv.x\n",
    "wemv_1"
   ]
  },
  {
   "cell_type": "code",
   "execution_count": 60,
   "metadata": {},
   "outputs": [
    {
     "data": {
      "text/plain": [
       "(0.4951929216789428, 0.355000891059734, 1.247300873970022)"
      ]
     },
     "execution_count": 60,
     "metadata": {},
     "output_type": "execute_result"
    }
   ],
   "source": [
    "e_emv_1 = wemv_1.dot(e_rt)\n",
    "s_emv_1 = np.sqrt(wemv_1.dot(sigma).dot(wemv_1))\n",
    "sharpe_emv_1 = (e_emv_1 - rf) / s_emv_1\n",
    "e_emv_1, s_emv_1, sharpe_emv_1"
   ]
  },
  {
   "cell_type": "code",
   "execution_count": 66,
   "metadata": {},
   "outputs": [
    {
     "name": "stdout",
     "output_type": "stream",
     "text": [
      "Asi se ve con optimización de sharpe\n",
      "0.4951929216789428 0.355000891059734 1.247300873970022\n",
      "Asi se ve con minima varianza\n",
      "0.1250566723608235 0.16828505275254244 0.4317476280419432\n"
     ]
    }
   ],
   "source": [
    "print('Asi se ve con optimización de sharpe')\n",
    "print(e_emv_1, s_emv_1, sharpe_emv_1)\n",
    "\n",
    "print('Asi se ve con minima varianza')\n",
    "print(e_mv, s_mv, sharpe_mv)"
   ]
  },
  {
   "cell_type": "code",
   "execution_count": 67,
   "metadata": {},
   "outputs": [],
   "source": [
    "g = np.linspace(1, 15, 15)"
   ]
  },
  {
   "cell_type": "code",
   "execution_count": 68,
   "metadata": {},
   "outputs": [
    {
     "data": {
      "text/html": [
       "<div>\n",
       "<style scoped>\n",
       "    .dataframe tbody tr th:only-of-type {\n",
       "        vertical-align: middle;\n",
       "    }\n",
       "\n",
       "    .dataframe tbody tr th {\n",
       "        vertical-align: top;\n",
       "    }\n",
       "\n",
       "    .dataframe thead th {\n",
       "        text-align: right;\n",
       "    }\n",
       "</style>\n",
       "<table border=\"1\" class=\"dataframe\">\n",
       "  <thead>\n",
       "    <tr style=\"text-align: right;\">\n",
       "      <th></th>\n",
       "      <th>g</th>\n",
       "      <th>w_opt</th>\n",
       "      <th>1-w_opt</th>\n",
       "    </tr>\n",
       "  </thead>\n",
       "  <tbody>\n",
       "    <tr>\n",
       "      <th>0</th>\n",
       "      <td>1.0</td>\n",
       "      <td>3.513515</td>\n",
       "      <td>-2.513515</td>\n",
       "    </tr>\n",
       "    <tr>\n",
       "      <th>1</th>\n",
       "      <td>2.0</td>\n",
       "      <td>1.756757</td>\n",
       "      <td>-0.756757</td>\n",
       "    </tr>\n",
       "    <tr>\n",
       "      <th>2</th>\n",
       "      <td>3.0</td>\n",
       "      <td>1.171172</td>\n",
       "      <td>-0.171172</td>\n",
       "    </tr>\n",
       "    <tr>\n",
       "      <th>3</th>\n",
       "      <td>4.0</td>\n",
       "      <td>0.878379</td>\n",
       "      <td>0.121621</td>\n",
       "    </tr>\n",
       "    <tr>\n",
       "      <th>4</th>\n",
       "      <td>5.0</td>\n",
       "      <td>0.702703</td>\n",
       "      <td>0.297297</td>\n",
       "    </tr>\n",
       "    <tr>\n",
       "      <th>5</th>\n",
       "      <td>6.0</td>\n",
       "      <td>0.585586</td>\n",
       "      <td>0.414414</td>\n",
       "    </tr>\n",
       "    <tr>\n",
       "      <th>6</th>\n",
       "      <td>7.0</td>\n",
       "      <td>0.501931</td>\n",
       "      <td>0.498069</td>\n",
       "    </tr>\n",
       "    <tr>\n",
       "      <th>7</th>\n",
       "      <td>8.0</td>\n",
       "      <td>0.439189</td>\n",
       "      <td>0.560811</td>\n",
       "    </tr>\n",
       "    <tr>\n",
       "      <th>8</th>\n",
       "      <td>9.0</td>\n",
       "      <td>0.390391</td>\n",
       "      <td>0.609609</td>\n",
       "    </tr>\n",
       "    <tr>\n",
       "      <th>9</th>\n",
       "      <td>10.0</td>\n",
       "      <td>0.351351</td>\n",
       "      <td>0.648649</td>\n",
       "    </tr>\n",
       "    <tr>\n",
       "      <th>10</th>\n",
       "      <td>11.0</td>\n",
       "      <td>0.319410</td>\n",
       "      <td>0.680590</td>\n",
       "    </tr>\n",
       "    <tr>\n",
       "      <th>11</th>\n",
       "      <td>12.0</td>\n",
       "      <td>0.292793</td>\n",
       "      <td>0.707207</td>\n",
       "    </tr>\n",
       "    <tr>\n",
       "      <th>12</th>\n",
       "      <td>13.0</td>\n",
       "      <td>0.270270</td>\n",
       "      <td>0.729730</td>\n",
       "    </tr>\n",
       "    <tr>\n",
       "      <th>13</th>\n",
       "      <td>14.0</td>\n",
       "      <td>0.250965</td>\n",
       "      <td>0.749035</td>\n",
       "    </tr>\n",
       "    <tr>\n",
       "      <th>14</th>\n",
       "      <td>15.0</td>\n",
       "      <td>0.234234</td>\n",
       "      <td>0.765766</td>\n",
       "    </tr>\n",
       "  </tbody>\n",
       "</table>\n",
       "</div>"
      ],
      "text/plain": [
       "       g     w_opt   1-w_opt\n",
       "0    1.0  3.513515 -2.513515\n",
       "1    2.0  1.756757 -0.756757\n",
       "2    3.0  1.171172 -0.171172\n",
       "3    4.0  0.878379  0.121621\n",
       "4    5.0  0.702703  0.297297\n",
       "5    6.0  0.585586  0.414414\n",
       "6    7.0  0.501931  0.498069\n",
       "7    8.0  0.439189  0.560811\n",
       "8    9.0  0.390391  0.609609\n",
       "9   10.0  0.351351  0.648649\n",
       "10  11.0  0.319410  0.680590\n",
       "11  12.0  0.292793  0.707207\n",
       "12  13.0  0.270270  0.729730\n",
       "13  14.0  0.250965  0.749035\n",
       "14  15.0  0.234234  0.765766"
      ]
     },
     "execution_count": 68,
     "metadata": {},
     "output_type": "execute_result"
    }
   ],
   "source": [
    "df = pd.DataFrame({\n",
    "    'g':g, #aversión al riesgo\n",
    "    'w_opt': (e_emv_1 - rf)/(g*s_emv_1**2),\n",
    "    '1-w_opt': 1 - ((e_emv_1 - rf)/(g*s_emv_1**2))\n",
    "})\n",
    "df"
   ]
  },
  {
   "cell_type": "code",
   "execution_count": 69,
   "metadata": {},
   "outputs": [
    {
     "data": {
      "text/html": [
       "<div>\n",
       "<style scoped>\n",
       "    .dataframe tbody tr th:only-of-type {\n",
       "        vertical-align: middle;\n",
       "    }\n",
       "\n",
       "    .dataframe tbody tr th {\n",
       "        vertical-align: top;\n",
       "    }\n",
       "\n",
       "    .dataframe thead th {\n",
       "        text-align: right;\n",
       "    }\n",
       "</style>\n",
       "<table border=\"1\" class=\"dataframe\">\n",
       "  <thead>\n",
       "    <tr style=\"text-align: right;\">\n",
       "      <th></th>\n",
       "      <th>g</th>\n",
       "      <th>w_opt</th>\n",
       "      <th>1-w_opt</th>\n",
       "    </tr>\n",
       "  </thead>\n",
       "  <tbody>\n",
       "    <tr>\n",
       "      <th>0</th>\n",
       "      <td>5.0</td>\n",
       "      <td>0.702703</td>\n",
       "      <td>0.297297</td>\n",
       "    </tr>\n",
       "  </tbody>\n",
       "</table>\n",
       "</div>"
      ],
      "text/plain": [
       "     g     w_opt   1-w_opt\n",
       "0  5.0  0.702703  0.297297"
      ]
     },
     "execution_count": 69,
     "metadata": {},
     "output_type": "execute_result"
    }
   ],
   "source": [
    "g = np.linspace(5,5,1)\n",
    "df = pd.DataFrame({\n",
    "    'g':g, #aversión al riesgo\n",
    "    'w_opt': (e_emv_1 - rf)/(g*s_emv_1**2),\n",
    "    '1-w_opt': 1 - ((e_emv_1 - rf)/(g*s_emv_1**2))\n",
    "})\n",
    "df"
   ]
  },
  {
   "cell_type": "markdown",
   "metadata": {},
   "source": [
    "## 3. Evaluación del rendimiento (40%)\n",
    "\n",
    "Usando los portafolios que encontraron en el punto anterior, deberán encontrar:\n",
    "\n",
    "1. El rendimiento del portafolio 1 durante el 2016.\n",
    "\n",
    "2. El rendimiento del portafolio 2 durante el 2017.\n",
    "\n",
    "3. El rendimiento del portafolio 3 durante el 2018.\n",
    "\n",
    "4. El rendimiento del portafolio 4 durante el 2019.\n",
    "\n",
    "5. El rendimiento del portafolio 5 durante el 2020.\n",
    "\n",
    "6. El rendimiento del portafolio 6 durante el 2021.\n",
    "\n",
    "7. El rendimiento del portafolio 6 durante el 2022.\n",
    "\n",
    "8. El rendimiento del portafolio 6 durante el 2023.\n",
    "\n",
    "9. El rendimiento total durante  el periodo de tenencia.\n",
    "\n",
    "10. El rendimiento promedio anual durante el periodo de tenencia.\n",
    "\n",
    "11. Si hubieran invertido 10.000 USD en estos portafolios a lo largo del tiempo y nunca hubieran retirado ni adicionado nada más, ¿Cuánto dinero tendrían invertido en este momento?"
   ]
  },
  {
   "cell_type": "markdown",
   "metadata": {},
   "source": [
    "# 6. Tema extra de la carrera   (40%)\n",
    "En base a investigacón o alguna cosa que vean en sus otras clases de la carrera (no se vale aplicar cosas de meditación, contexto historico, etc.) \n",
    "\n"
   ]
  },
  {
   "cell_type": "markdown",
   "metadata": {},
   "source": [
    "## 7. Presentación (10%)\n",
    "\n",
    "Presentar punto 6"
   ]
  },
  {
   "cell_type": "code",
   "execution_count": null,
   "metadata": {},
   "outputs": [],
   "source": []
  }
 ],
 "metadata": {
  "kernelspec": {
   "display_name": "Python 3 (ipykernel)",
   "language": "python",
   "name": "python3"
  },
  "language_info": {
   "codemirror_mode": {
    "name": "ipython",
    "version": 3
   },
   "file_extension": ".py",
   "mimetype": "text/x-python",
   "name": "python",
   "nbconvert_exporter": "python",
   "pygments_lexer": "ipython3",
   "version": "3.9.12"
  }
 },
 "nbformat": 4,
 "nbformat_minor": 4
}
