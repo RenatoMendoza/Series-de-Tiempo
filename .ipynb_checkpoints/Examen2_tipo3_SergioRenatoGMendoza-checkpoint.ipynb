{
 "cells": [
  {
   "cell_type": "markdown",
   "id": "1628101f",
   "metadata": {},
   "source": [
    "# Teoría"
   ]
  },
  {
   "cell_type": "markdown",
   "id": "078c9bea",
   "metadata": {},
   "source": [
    "## 1- 10 puntos\n",
    "\n",
    "La formula del R2 es:\n",
    "\n",
    "$$R^2 = \\frac{Var(errorPromedio) - Var(errorModelo)}{Var(errorPromedio)}$$ \n",
    "\n",
    "Convenceme que entiendes esta formula y porque esto tiene sentido\n"
   ]
  },
  {
   "cell_type": "markdown",
   "id": "2ed2621c",
   "metadata": {},
   "source": [
    "Esta fórmula se utiliza en modelos de regresión lineal y mide la proporción de la variación en la variable dependiente que puede ser explicada por la variable independiente en un modelo de regresión.\n",
    "En otras palabras el R2 muestra que tan bien los datos se ajustan al modelo de regresión.\n",
    "\n",
    "La formula se puede interpretar así:\n",
    "\n",
    "- El numerador es la varianza del error del modelo, que es la diferencia entre el valor observado y el valor promedio de la variable dependiente.\n",
    "- El denominador es la varianza del error del modelo, que es la diferencia entre el valor observado y el valor estimado por el modelo de regresión.\n",
    "- La resta entre el numerador y el denominador es la variación explicada por el modelo, que es la parte de la variación total de la variable dependiente que se puede atribuir a la variable independiente.\n",
    "- La división entre la variación explicada y la variación total es el coeficiente de determinación, que indica el porcentaje de la variación en la variable dependiente que se puede predecir a partir de la variable independiente.\n",
    "\n",
    "Esta fórmula tiene sentido porque muestra cómo el modelo de regresión reduce el error al ajustarse a los datos observados. Cuanto más alto sea el R2, menor será el error del modelo y mejor será el ajuste. Cuanto más bajo sea el R2, mayor será el error del modelo y peor será el ajuste"
   ]
  },
  {
   "cell_type": "markdown",
   "id": "25c627ca",
   "metadata": {},
   "source": [
    "# 2- 20 puntos \n",
    "\n",
    "¿Qué es una regresión lineal y para que sirve?\n",
    "¿Qué es el gradiente descendiente? ¿Cómo uso eso para encontrar los mejores coeficientes de una regresión lineal?\n",
    "\n",
    "\n",
    "Responde estas preguntas, convenceme que entiendes que es una regresión lineal y de donde salen los coeficientes"
   ]
  },
  {
   "cell_type": "markdown",
   "id": "b5f3702e",
   "metadata": {},
   "source": [
    "#### 1.  ¿Qué es una regresión lineal y para que sirve?\n",
    "Una regresión lineal es el método que se utiliza en la estadistica para modelar la relacion que existe entre una variable dependiente y una o más variables independientes. Estas regresiones pueden ser buenas para hacer pronósticos, aplicado a lo que nosotros hacemos, podemos utilizar betas, rendimientos, etc.\n",
    "\n",
    "\n",
    "#### 2. ¿Qué es el gradiente descendiente?\n",
    "Es un algoritmo que estima númericamente donde una función genera sus valores más bajos, y es la base de entrenamiento de modelos de Machine Learning, para esto se hace uso del gradiente de la funcion que permite acercarse de manera progresiva al mínimo ideal.\n",
    "\n",
    "#### 3. ¿Cómo uso eso para encontrar los mejores coeficientes de una regresión lineal?\n",
    "Para este caso se utiliza el gradiente descendiente, y para esto es necesario hacer una funcion que obtenga el rendimiento esperado del portafolio, siendo el objetivo la minimización de esta función de costo mediante la modificación de pesos de los activos."
   ]
  },
  {
   "cell_type": "markdown",
   "id": "a8f7789a",
   "metadata": {},
   "source": [
    "# 3- 5 puntos \n",
    "¿Por qué hay empresas con valuaciones bajas respecto a sus ganancias? "
   ]
  },
  {
   "cell_type": "markdown",
   "id": "f5ca22be",
   "metadata": {},
   "source": [
    "Puede haber distintas razones como la volatilidad del mercado, las expectativas de crecimiento, el riesgo percibido, la competencia, la liquidez, entre otras.\n",
    "\n",
    "La valuación de una empresa es el resultado de la estimación del valor presente de sus flujos de efectivo futuros, descontados a una tasa de interés que refleje el riesgo de la inversión.\n",
    "\n",
    "Las ganancias de la empresa son una medida de su rentabilidad, pero no necesariamente del valor que tienen. Las ganancias pueden ser afectadas por distintos factores que no reflejan el potencial de la empresa por lo tanto una empresa puede tener ganancias altas, pero una valuación baja si el mercado espera que sus flujos de efectivo futuros sean menores, más inciertos o más riesgosos que los de otras empresas similares. \n",
    "\n",
    "Esto puede deberse a que la empresa enfrente una mayor competencia, una menor demanda, una mayor regulación, una menor innovación, una mayor deuda, una menor liquidez, entre otros factores que afecten su desempeño y su atractivo para los inversionistas"
   ]
  },
  {
   "cell_type": "markdown",
   "id": "402caf35",
   "metadata": {},
   "source": [
    "## 4- 10 puntos\n",
    "\n",
    "La utilidad de un activo es:\n",
    "\n",
    "$$Utiliad = E[P] - \\alpha *\\frac{1}{2} Var(P) $$\n",
    "\n",
    "Explica porque esto tiene sentido  en el mundo de los econos"
   ]
  },
  {
   "cell_type": "markdown",
   "id": "30e7e604",
   "metadata": {},
   "source": [
    "Dado en este caso $E[P]$ es el valor esperado del precio del activo, $\\alpha$ el coeficiente de adversión al riesgo y $Var(P)$ la varianza del activo.\n",
    "\n",
    "Esta fórmula tiene sentido en el mundo de los economos porque muestra como la utilidad de un activo depende de la relación entre el rendimiento esperado y el riesgo asumido por el inversos, la utilidad del activo aumenta cuando el valor esperado del precio del activo es alto lo que da por consecuencia un mayor beneficio y cuando la varianza del activo es baja implica menores pérdidas.\n"
   ]
  },
  {
   "cell_type": "markdown",
   "id": "18c75549",
   "metadata": {},
   "source": [
    "## 5- 5 puntos \n",
    "Explica en 3 renglones la hopitesis de mercados eficientes"
   ]
  },
  {
   "cell_type": "markdown",
   "id": "44290e67",
   "metadata": {},
   "source": [
    "Esta hipótesis explica que los precios de los activos reglejan toda la información posible, tanto pública como privada y que por lo tanto no es posible generar beneficios extraordinarios al invertir en estos, esta hipótesis también implica que los valores de los activos se ajustan rápidamente a nueva información que pueda afectar su valor y que el análisis técnico y funamental son inútiles ya que toda la información que es relevante esta incorporada en los precios."
   ]
  },
  {
   "cell_type": "markdown",
   "id": "1495fff2",
   "metadata": {},
   "source": [
    "# Práctica"
   ]
  },
  {
   "cell_type": "markdown",
   "id": "87c0fd7c",
   "metadata": {},
   "source": [
    "### 30%\n",
    "\n",
    "Baja del 2016 a 2021, de forma mensual las acciones de:\n",
    "\n",
    "\n",
    "- Apple\n",
    "- Amazon\n",
    "- Discover\n",
    "- Cotsco\n",
    "- Starbucks\n",
    "\n",
    "\n",
    "- Obten el portafolio de mínima varianza\n",
    "- Obten una gráfica de todos los posibles portafolios\n",
    "- Calcula la beta de cada uno de esos activos\n",
    "- Calcula el R2 de cada uno de esos activos\n",
    "- Cuanto debes invertir en ese portafolio dado los cooeficientes de aversión : [1, 2, 3, 4, 5, 6, 6, 7]\n",
    "- Obten el R2 y Beta con bootstrap de cada uno de esos activos\n",
    "  Responde: probabilidad beta > 1  y probabilidad r2 > 0.5\n",
    "  \n",
    "  \n",
    "### CAPM, Fama french y 5 factores (20%)\n",
    "\n",
    "Sobre el portafolio anterior, crea los 3 distintos modelos vistos en clase. \n",
    "\n",
    "¿Cuál es el R2 de cada uno?  Crea un boostrap de cada uno de los R2\n",
    "\n",
    "Explica conclusiones"
   ]
  },
  {
   "cell_type": "code",
   "execution_count": 1,
   "id": "b1001d4f",
   "metadata": {},
   "outputs": [],
   "source": [
    "import pandas as pd \n",
    "import numpy as np \n",
    "import matplotlib.pyplot as plt\n",
    "import yfinance as yf\n",
    "from sklearn.linear_model import LinearRegression\n",
    "import random\n",
    "from sklearn.metrics import r2_score\n",
    "from scipy.optimize import minimize\n",
    "import pandas_datareader.data as web"
   ]
  },
  {
   "cell_type": "code",
   "execution_count": 2,
   "id": "f9b7f88c",
   "metadata": {},
   "outputs": [
    {
     "name": "stdout",
     "output_type": "stream",
     "text": [
      "[*********************100%%**********************]  5 of 5 completed\n"
     ]
    }
   ],
   "source": [
    "tickers = ['AAPL', 'AMZN', 'DFS', 'COST','SBUX']\n",
    "start_date = '2016-12-31'\n",
    "end_date = '2021-12-31'\n",
    "St = yf.download(tickers, start=start_date, end=end_date)['Close']\n",
    "St.head()\n",
    "rt = St.pct_change().dropna()"
   ]
  },
  {
   "cell_type": "code",
   "execution_count": 3,
   "id": "d4811ef8",
   "metadata": {},
   "outputs": [
    {
     "data": {
      "text/plain": [
       "(0.2504306984759962,\n",
       " 0.22381579235563173,\n",
       " array([0.08309672, 0.07832551, 0.35243042, 0.24817872, 0.23796862]))"
      ]
     },
     "execution_count": 3,
     "metadata": {},
     "output_type": "execute_result"
    }
   ],
   "source": [
    "def random_portafolio(returns):\n",
    "    def rand_weights(n):\n",
    "        k = np.random.rand(n)\n",
    "        return k / sum(k)\n",
    "    # Definimos las constantes\n",
    "    means = rt.mean()\n",
    "    sigma = returns.cov()\n",
    "    # Obtenemos pesos\n",
    "    n_act = len(rt.keys())\n",
    "    w = rand_weights(n_act)\n",
    "    # Rendimiento esperado\n",
    "    re = w.dot(means) * 252\n",
    "    # Varianza\n",
    "    variance = w.dot(sigma).dot(w.T) \n",
    "    vol = np.sqrt(variance) * np.sqrt(252)\n",
    "    return re, vol, w                  \n",
    "\n",
    "\n",
    "random_portafolio(rt)"
   ]
  },
  {
   "cell_type": "code",
   "execution_count": 4,
   "id": "5737421b",
   "metadata": {},
   "outputs": [],
   "source": [
    "valores_esperados = []\n",
    "volatilidades = []\n",
    "pesos = []\n",
    "for i in range(10000):\n",
    "    ve1, vol1, w1 = random_portafolio(rt)\n",
    "    \n",
    "    valores_esperados.append(ve1)\n",
    "    volatilidades.append(vol1)\n",
    "    pesos.append(w1)\n",
    "    \n",
    "df_final = pd.DataFrame({\n",
    "    'valor_esperado': valores_esperados,\n",
    "    'volatilidad': volatilidades,\n",
    "    'pesos': pesos\n",
    "})"
   ]
  },
  {
   "cell_type": "markdown",
   "id": "4d8118ab",
   "metadata": {},
   "source": [
    "#### Portafolio de minima varianza"
   ]
  },
  {
   "cell_type": "code",
   "execution_count": 5,
   "id": "794be4a4",
   "metadata": {
    "scrolled": true
   },
   "outputs": [
    {
     "data": {
      "text/html": [
       "<div>\n",
       "<style scoped>\n",
       "    .dataframe tbody tr th:only-of-type {\n",
       "        vertical-align: middle;\n",
       "    }\n",
       "\n",
       "    .dataframe tbody tr th {\n",
       "        vertical-align: top;\n",
       "    }\n",
       "\n",
       "    .dataframe thead th {\n",
       "        text-align: right;\n",
       "    }\n",
       "</style>\n",
       "<table border=\"1\" class=\"dataframe\">\n",
       "  <thead>\n",
       "    <tr style=\"text-align: right;\">\n",
       "      <th></th>\n",
       "      <th>valor_esperado</th>\n",
       "      <th>volatilidad</th>\n",
       "      <th>pesos</th>\n",
       "    </tr>\n",
       "  </thead>\n",
       "  <tbody>\n",
       "    <tr>\n",
       "      <th>6743</th>\n",
       "      <td>0.260592</td>\n",
       "      <td>0.193859</td>\n",
       "      <td>[0.004760771760276435, 0.11613168316041793, 0....</td>\n",
       "    </tr>\n",
       "  </tbody>\n",
       "</table>\n",
       "</div>"
      ],
      "text/plain": [
       "      valor_esperado  volatilidad  \\\n",
       "6743        0.260592     0.193859   \n",
       "\n",
       "                                                  pesos  \n",
       "6743  [0.004760771760276435, 0.11613168316041793, 0....  "
      ]
     },
     "execution_count": 5,
     "metadata": {},
     "output_type": "execute_result"
    }
   ],
   "source": [
    "min_var_portafolio = df_final[df_final.volatilidad== df_final.volatilidad.min()]\n",
    "min_var_portafolio"
   ]
  },
  {
   "cell_type": "markdown",
   "id": "c9211b53",
   "metadata": {},
   "source": [
    "#### Gráfico posibles portafolios"
   ]
  },
  {
   "cell_type": "code",
   "execution_count": 6,
   "id": "77a23ecc",
   "metadata": {
    "scrolled": true
   },
   "outputs": [
    {
     "data": {
      "text/plain": [
       "Text(0, 0.5, 'Valor esperado')"
      ]
     },
     "execution_count": 6,
     "metadata": {},
     "output_type": "execute_result"
    },
    {
     "data": {
      "image/png": "[encoded data removed]",
      "text/plain": [
       "<Figure size 432x288 with 1 Axes>"
      ]
     },
     "metadata": {
      "needs_background": "light"
     },
     "output_type": "display_data"
    }
   ],
   "source": [
    "plt.scatter(df_final.volatilidad, df_final.valor_esperado, alpha= 0.5)\n",
    "plt.scatter(min_var_portafolio.volatilidad, min_var_portafolio.valor_esperado)\n",
    "plt.xlabel(\"Volatilidad\")\n",
    "plt.ylabel(\"Valor esperado\")"
   ]
  },
  {
   "cell_type": "code",
   "execution_count": 7,
   "id": "0250ba96",
   "metadata": {},
   "outputs": [
    {
     "name": "stdout",
     "output_type": "stream",
     "text": [
      "[*********************100%%**********************]  6 of 6 completed\n"
     ]
    }
   ],
   "source": [
    "tickers = ['VTI','AAPL', 'AMZN', 'DFS', 'COST','SBUX']\n",
    "start_date = '2016-12-31'\n",
    "end_date = '2021-12-31'\n",
    "St = yf.download(tickers, start=start_date, end=end_date)['Close']\n",
    "St.head()\n",
    "rt = St.pct_change().dropna()"
   ]
  },
  {
   "cell_type": "markdown",
   "id": "66f8af25",
   "metadata": {},
   "source": [
    "#### Betas y R2"
   ]
  },
  {
   "cell_type": "code",
   "execution_count": 8,
   "id": "e2327f98",
   "metadata": {
    "scrolled": true
   },
   "outputs": [
    {
     "name": "stderr",
     "output_type": "stream",
     "text": [
      "C:\\Users\\renat\\anaconda3\\lib\\site-packages\\numpy\\core\\fromnumeric.py:3438: FutureWarning: In a future version, DataFrame.mean(axis=None) will return a scalar mean over the entire DataFrame. To retain the old behavior, use 'frame.mean(axis=0)' or just 'frame.mean()'\n",
      "  return mean(axis=axis, dtype=dtype, out=out, **kwargs)\n",
      "C:\\Users\\renat\\anaconda3\\lib\\site-packages\\numpy\\core\\fromnumeric.py:3438: FutureWarning: In a future version, DataFrame.mean(axis=None) will return a scalar mean over the entire DataFrame. To retain the old behavior, use 'frame.mean(axis=0)' or just 'frame.mean()'\n",
      "  return mean(axis=axis, dtype=dtype, out=out, **kwargs)\n",
      "C:\\Users\\renat\\anaconda3\\lib\\site-packages\\numpy\\core\\fromnumeric.py:3438: FutureWarning: In a future version, DataFrame.mean(axis=None) will return a scalar mean over the entire DataFrame. To retain the old behavior, use 'frame.mean(axis=0)' or just 'frame.mean()'\n",
      "  return mean(axis=axis, dtype=dtype, out=out, **kwargs)\n",
      "C:\\Users\\renat\\anaconda3\\lib\\site-packages\\numpy\\core\\fromnumeric.py:3438: FutureWarning: In a future version, DataFrame.mean(axis=None) will return a scalar mean over the entire DataFrame. To retain the old behavior, use 'frame.mean(axis=0)' or just 'frame.mean()'\n",
      "  return mean(axis=axis, dtype=dtype, out=out, **kwargs)\n",
      "C:\\Users\\renat\\anaconda3\\lib\\site-packages\\numpy\\core\\fromnumeric.py:3438: FutureWarning: In a future version, DataFrame.mean(axis=None) will return a scalar mean over the entire DataFrame. To retain the old behavior, use 'frame.mean(axis=0)' or just 'frame.mean()'\n",
      "  return mean(axis=axis, dtype=dtype, out=out, **kwargs)\n"
     ]
    },
    {
     "data": {
      "text/html": [
       "<div>\n",
       "<style scoped>\n",
       "    .dataframe tbody tr th:only-of-type {\n",
       "        vertical-align: middle;\n",
       "    }\n",
       "\n",
       "    .dataframe tbody tr th {\n",
       "        vertical-align: top;\n",
       "    }\n",
       "\n",
       "    .dataframe thead th {\n",
       "        text-align: right;\n",
       "    }\n",
       "</style>\n",
       "<table border=\"1\" class=\"dataframe\">\n",
       "  <thead>\n",
       "    <tr style=\"text-align: right;\">\n",
       "      <th></th>\n",
       "      <th>Acción</th>\n",
       "      <th>betas</th>\n",
       "      <th>R2</th>\n",
       "    </tr>\n",
       "  </thead>\n",
       "  <tbody>\n",
       "    <tr>\n",
       "      <th>0</th>\n",
       "      <td>AAPL</td>\n",
       "      <td>1.183593</td>\n",
       "      <td>0.558319</td>\n",
       "    </tr>\n",
       "    <tr>\n",
       "      <th>1</th>\n",
       "      <td>AMZN</td>\n",
       "      <td>0.917452</td>\n",
       "      <td>0.359617</td>\n",
       "    </tr>\n",
       "    <tr>\n",
       "      <th>2</th>\n",
       "      <td>DFS</td>\n",
       "      <td>1.674299</td>\n",
       "      <td>0.538354</td>\n",
       "    </tr>\n",
       "    <tr>\n",
       "      <th>3</th>\n",
       "      <td>COST</td>\n",
       "      <td>0.642229</td>\n",
       "      <td>0.326744</td>\n",
       "    </tr>\n",
       "    <tr>\n",
       "      <th>4</th>\n",
       "      <td>SBUX</td>\n",
       "      <td>1.002263</td>\n",
       "      <td>0.489032</td>\n",
       "    </tr>\n",
       "  </tbody>\n",
       "</table>\n",
       "</div>"
      ],
      "text/plain": [
       "  Acción     betas        R2\n",
       "0   AAPL  1.183593  0.558319\n",
       "1   AMZN  0.917452  0.359617\n",
       "2    DFS  1.674299  0.538354\n",
       "3   COST  0.642229  0.326744\n",
       "4   SBUX  1.002263  0.489032"
      ]
     },
     "execution_count": 8,
     "metadata": {},
     "output_type": "execute_result"
    }
   ],
   "source": [
    "betas = {}\n",
    "for i in tickers: \n",
    "    if i != 'VTI':\n",
    "        flag_df = rt[[i,'VTI']]\n",
    "        y = flag_df[[i]]\n",
    "        X = flag_df[['VTI']]\n",
    "    # Betas\n",
    "        model = LinearRegression()\n",
    "        model.fit(X,y)\n",
    "        beta = model.coef_[0][0]\n",
    "\n",
    "    # R2\n",
    "        predictions = model.predict(X)\n",
    "        promedio = np.mean(y)\n",
    "\n",
    "        var_predictions = np.var(y-predictions)\n",
    "        var_promedio = np.var(y-promedio)\n",
    "        r2 = (var_promedio - var_predictions)/var_promedio\n",
    "\n",
    "        promedio_accion = np.mean(y)\n",
    "        \n",
    "        betas[i] = [beta, r2[0],promedio_accion[0] * 252]\n",
    "        \n",
    "    # Data Frame\n",
    "        df = pd.DataFrame()\n",
    "        df['Acción'] = [i for i in betas]\n",
    "        df['betas'] = [betas[i][0] for i in betas]\n",
    "        df['R2'] = [betas[i][1] for i in betas]\n",
    "df"
   ]
  },
  {
   "cell_type": "markdown",
   "id": "f644f3a1",
   "metadata": {},
   "source": [
    "#### Coeficientes de aversión al riesgo"
   ]
  },
  {
   "cell_type": "code",
   "execution_count": 9,
   "id": "334bdec2",
   "metadata": {},
   "outputs": [
    {
     "name": "stdout",
     "output_type": "stream",
     "text": [
      "[*********************100%%**********************]  5 of 5 completed\n"
     ]
    }
   ],
   "source": [
    "tickers = ['AAPL', 'AMZN', 'DFS', 'COST','SBUX']\n",
    "start_date = '2016-12-31'\n",
    "end_date = '2021-12-31'\n",
    "St = yf.download(tickers, start=start_date, end=end_date)['Close']\n",
    "St.head()\n",
    "rt = St.pct_change().dropna()"
   ]
  },
  {
   "cell_type": "code",
   "execution_count": 10,
   "id": "d15a3170",
   "metadata": {},
   "outputs": [
    {
     "data": {
      "text/html": [
       "<div>\n",
       "<style scoped>\n",
       "    .dataframe tbody tr th:only-of-type {\n",
       "        vertical-align: middle;\n",
       "    }\n",
       "\n",
       "    .dataframe tbody tr th {\n",
       "        vertical-align: top;\n",
       "    }\n",
       "\n",
       "    .dataframe thead th {\n",
       "        text-align: right;\n",
       "    }\n",
       "</style>\n",
       "<table border=\"1\" class=\"dataframe\">\n",
       "  <thead>\n",
       "    <tr style=\"text-align: right;\">\n",
       "      <th></th>\n",
       "      <th>rendimientos</th>\n",
       "      <th>volatilidad</th>\n",
       "      <th>sharpe</th>\n",
       "    </tr>\n",
       "  </thead>\n",
       "  <tbody>\n",
       "    <tr>\n",
       "      <th>0</th>\n",
       "      <td>0.292279</td>\n",
       "      <td>0.218635</td>\n",
       "      <td>1.275089</td>\n",
       "    </tr>\n",
       "    <tr>\n",
       "      <th>1</th>\n",
       "      <td>0.311863</td>\n",
       "      <td>0.261413</td>\n",
       "      <td>1.141345</td>\n",
       "    </tr>\n",
       "    <tr>\n",
       "      <th>2</th>\n",
       "      <td>0.331597</td>\n",
       "      <td>0.234193</td>\n",
       "      <td>1.358271</td>\n",
       "    </tr>\n",
       "    <tr>\n",
       "      <th>3</th>\n",
       "      <td>0.240718</td>\n",
       "      <td>0.291933</td>\n",
       "      <td>0.778322</td>\n",
       "    </tr>\n",
       "    <tr>\n",
       "      <th>4</th>\n",
       "      <td>0.231020</td>\n",
       "      <td>0.231178</td>\n",
       "      <td>0.940919</td>\n",
       "    </tr>\n",
       "    <tr>\n",
       "      <th>...</th>\n",
       "      <td>...</td>\n",
       "      <td>...</td>\n",
       "      <td>...</td>\n",
       "    </tr>\n",
       "    <tr>\n",
       "      <th>9995</th>\n",
       "      <td>0.340171</td>\n",
       "      <td>0.256883</td>\n",
       "      <td>1.271670</td>\n",
       "    </tr>\n",
       "    <tr>\n",
       "      <th>9996</th>\n",
       "      <td>0.346283</td>\n",
       "      <td>0.256558</td>\n",
       "      <td>1.297107</td>\n",
       "    </tr>\n",
       "    <tr>\n",
       "      <th>9997</th>\n",
       "      <td>0.293797</td>\n",
       "      <td>0.200781</td>\n",
       "      <td>1.396035</td>\n",
       "    </tr>\n",
       "    <tr>\n",
       "      <th>9998</th>\n",
       "      <td>0.307203</td>\n",
       "      <td>0.235739</td>\n",
       "      <td>1.245882</td>\n",
       "    </tr>\n",
       "    <tr>\n",
       "      <th>9999</th>\n",
       "      <td>0.284279</td>\n",
       "      <td>0.253117</td>\n",
       "      <td>1.069777</td>\n",
       "    </tr>\n",
       "  </tbody>\n",
       "</table>\n",
       "<p>10000 rows × 3 columns</p>\n",
       "</div>"
      ],
      "text/plain": [
       "      rendimientos  volatilidad    sharpe\n",
       "0         0.292279     0.218635  1.275089\n",
       "1         0.311863     0.261413  1.141345\n",
       "2         0.331597     0.234193  1.358271\n",
       "3         0.240718     0.291933  0.778322\n",
       "4         0.231020     0.231178  0.940919\n",
       "...            ...          ...       ...\n",
       "9995      0.340171     0.256883  1.271670\n",
       "9996      0.346283     0.256558  1.297107\n",
       "9997      0.293797     0.200781  1.396035\n",
       "9998      0.307203     0.235739  1.245882\n",
       "9999      0.284279     0.253117  1.069777\n",
       "\n",
       "[10000 rows x 3 columns]"
      ]
     },
     "execution_count": 10,
     "metadata": {},
     "output_type": "execute_result"
    }
   ],
   "source": [
    "# Resumen: rendimiento medio y volatilidad\n",
    "resumen = pd.DataFrame()\n",
    "resumen['media'] = rt.mean() * 252\n",
    "resumen['vol'] = rt.std() *np.sqrt(252)\n",
    "\n",
    "# Matriz de covarianza\n",
    "sigma = rt.cov()\n",
    "\n",
    "# Tasa libre de riesgo promedio del periodo\n",
    "rf = 0.0135\n",
    "\n",
    "# Número de portafolios que simularemos, y la cantidad de activos que tenemos\n",
    "n_port = 10000\n",
    "n_act = len(rt.keys())\n",
    "\n",
    "# Generar una matriz de pesos de n_portafolios x n_activos,\n",
    "W = np.random.dirichlet((1,) * n_act, size=n_port)\n",
    "W\n",
    "\n",
    "# Rendimientos y volatilidad de cada portafolios\n",
    "valor_esperado = W.dot(resumen['media'])\n",
    "\n",
    "# Calcula la volatilidad del portafolio, DOT ES MULTIPLICACION DE MATRICES \n",
    "volatilidad = []\n",
    "for i in range(len(W)):\n",
    "    varianza = W[i].T.dot(sigma).dot(W[i])\n",
    "    vol = np.sqrt(varianza)\n",
    "    volatilidad.append(vol * np.sqrt(252))\n",
    "    \n",
    "# Radio de Sharpe\n",
    "rs = (valor_esperado - rf) / volatilidad\n",
    "\n",
    "# Data Frame de los resultados\n",
    "df_sharpe = pd.DataFrame()\n",
    "df_sharpe['rendimientos'] = valor_esperado\n",
    "df_sharpe['volatilidad'] = volatilidad\n",
    "df_sharpe['sharpe'] = rs\n",
    "df_sharpe"
   ]
  },
  {
   "cell_type": "code",
   "execution_count": 11,
   "id": "86dd399d",
   "metadata": {},
   "outputs": [
    {
     "data": {
      "text/html": [
       "<div>\n",
       "<style scoped>\n",
       "    .dataframe tbody tr th:only-of-type {\n",
       "        vertical-align: middle;\n",
       "    }\n",
       "\n",
       "    .dataframe tbody tr th {\n",
       "        vertical-align: top;\n",
       "    }\n",
       "\n",
       "    .dataframe thead th {\n",
       "        text-align: right;\n",
       "    }\n",
       "</style>\n",
       "<table border=\"1\" class=\"dataframe\">\n",
       "  <thead>\n",
       "    <tr style=\"text-align: right;\">\n",
       "      <th></th>\n",
       "      <th>aversion</th>\n",
       "      <th>cuanto_acciones</th>\n",
       "      <th>cuanto_bonos</th>\n",
       "    </tr>\n",
       "  </thead>\n",
       "  <tbody>\n",
       "    <tr>\n",
       "      <th>0</th>\n",
       "      <td>1.0</td>\n",
       "      <td>6.881678</td>\n",
       "      <td>-5.881678</td>\n",
       "    </tr>\n",
       "    <tr>\n",
       "      <th>1</th>\n",
       "      <td>2.0</td>\n",
       "      <td>3.440839</td>\n",
       "      <td>-2.440839</td>\n",
       "    </tr>\n",
       "    <tr>\n",
       "      <th>2</th>\n",
       "      <td>3.0</td>\n",
       "      <td>2.293893</td>\n",
       "      <td>-1.293893</td>\n",
       "    </tr>\n",
       "    <tr>\n",
       "      <th>3</th>\n",
       "      <td>4.0</td>\n",
       "      <td>1.720419</td>\n",
       "      <td>-0.720419</td>\n",
       "    </tr>\n",
       "    <tr>\n",
       "      <th>4</th>\n",
       "      <td>5.0</td>\n",
       "      <td>1.376336</td>\n",
       "      <td>-0.376336</td>\n",
       "    </tr>\n",
       "    <tr>\n",
       "      <th>5</th>\n",
       "      <td>6.0</td>\n",
       "      <td>1.146946</td>\n",
       "      <td>-0.146946</td>\n",
       "    </tr>\n",
       "    <tr>\n",
       "      <th>6</th>\n",
       "      <td>7.0</td>\n",
       "      <td>0.983097</td>\n",
       "      <td>0.016903</td>\n",
       "    </tr>\n",
       "    <tr>\n",
       "      <th>7</th>\n",
       "      <td>8.0</td>\n",
       "      <td>0.860210</td>\n",
       "      <td>0.139790</td>\n",
       "    </tr>\n",
       "  </tbody>\n",
       "</table>\n",
       "</div>"
      ],
      "text/plain": [
       "   aversion  cuanto_acciones  cuanto_bonos\n",
       "0       1.0         6.881678     -5.881678\n",
       "1       2.0         3.440839     -2.440839\n",
       "2       3.0         2.293893     -1.293893\n",
       "3       4.0         1.720419     -0.720419\n",
       "4       5.0         1.376336     -0.376336\n",
       "5       6.0         1.146946     -0.146946\n",
       "6       7.0         0.983097      0.016903\n",
       "7       8.0         0.860210      0.139790"
      ]
     },
     "execution_count": 11,
     "metadata": {},
     "output_type": "execute_result"
    }
   ],
   "source": [
    "# Portafolio EMV\n",
    "max_sharpe = df_sharpe[df_sharpe.sharpe == df_sharpe.sharpe.max()]\n",
    "max_sharpe\n",
    "\n",
    "emv = max_sharpe.rendimientos.values[0]\n",
    "s_emv = max_sharpe.volatilidad.values[0]\n",
    "(emv, s_emv)\n",
    "\n",
    "# Calcula la LAC\n",
    "wp = np.linspace(0, 1.5, 20)\n",
    "lac = pd.DataFrame()\n",
    "lac['rendimientos'] = wp * emv + (1-wp) * rf\n",
    "lac['vol'] = wp * s_emv\n",
    "lac['w_acciones'] = wp\n",
    "lac['w_cetes'] = 1-wp\n",
    "\n",
    "# Coeficientes\n",
    "g = np.linspace(1,8,8)\n",
    "\n",
    "df_coef = pd.DataFrame()\n",
    "df_coef['aversion'] = g\n",
    "df_coef['cuanto_acciones'] = (emv - rf) / (g* s_emv**2)\n",
    "df_coef['cuanto_bonos'] = 1 - df_coef['cuanto_acciones']\n",
    "df_coef\n"
   ]
  },
  {
   "cell_type": "markdown",
   "id": "455b5b21",
   "metadata": {},
   "source": [
    "#### Bootstrap Betas"
   ]
  },
  {
   "cell_type": "code",
   "execution_count": 12,
   "id": "2b380234",
   "metadata": {
    "scrolled": true
   },
   "outputs": [
    {
     "name": "stdout",
     "output_type": "stream",
     "text": [
      "[*********************100%%**********************]  6 of 6 completed\n"
     ]
    }
   ],
   "source": [
    "tickers = ['AAPL', 'AMZN', 'DFS', 'COST','SBUX','VTI']\n",
    "start_date = '2016-12-31'\n",
    "end_date = '2021-12-31'\n",
    "St = yf.download(tickers, start=start_date, end=end_date)['Close']\n",
    "St.head()\n",
    "rt = St.pct_change().dropna()"
   ]
  },
  {
   "cell_type": "markdown",
   "id": "d3ea6625",
   "metadata": {},
   "source": [
    "#### APPLE"
   ]
  },
  {
   "cell_type": "code",
   "execution_count": 13,
   "id": "3b86d027",
   "metadata": {},
   "outputs": [],
   "source": [
    "betas = []\n",
    "r2 = []\n",
    "n = 5000\n",
    "\n",
    "for a in range(n):\n",
    "    sample_df = rt.sample(len(rt), replace=True)\n",
    "    X = sample_df[['VTI']]\n",
    "    y = sample_df[['AAPL']]\n",
    "    \n",
    "    # Betas\n",
    "    model = LinearRegression().fit(X,y)\n",
    "    betas.append(model.coef_[0][0])\n",
    "    \n",
    "    # R2\n",
    "    predictions = model.predict(X)\n",
    "    prom = sample_df['VTI'].mean()\n",
    "    calculated_r2 = r2_score(y_true = y, y_pred=predictions)\n",
    "    r2.append(calculated_r2)\n",
    "    \n",
    "    df = pd.DataFrame()\n",
    "    df['r2'] = r2\n",
    "    df['betas']=betas"
   ]
  },
  {
   "cell_type": "code",
   "execution_count": 14,
   "id": "ce0805d2",
   "metadata": {
    "scrolled": true
   },
   "outputs": [
    {
     "data": {
      "image/png": "[encoded data removed]",
      "text/plain": [
       "<Figure size 432x288 with 1 Axes>"
      ]
     },
     "metadata": {
      "needs_background": "light"
     },
     "output_type": "display_data"
    }
   ],
   "source": [
    " # Histograma beta\n",
    "plt.hist(betas, bins=100)\n",
    "plt.show()"
   ]
  },
  {
   "cell_type": "code",
   "execution_count": 15,
   "id": "c2638b58",
   "metadata": {},
   "outputs": [
    {
     "data": {
      "text/plain": [
       "1.0"
      ]
     },
     "execution_count": 15,
     "metadata": {},
     "output_type": "execute_result"
    }
   ],
   "source": [
    "# Probabilidad beta > 1\n",
    "np.mean([ i > 1 for i in betas])"
   ]
  },
  {
   "cell_type": "code",
   "execution_count": 16,
   "id": "ad565a04",
   "metadata": {},
   "outputs": [
    {
     "data": {
      "image/png": "[encoded data removed]",
      "text/plain": [
       "<Figure size 432x288 with 1 Axes>"
      ]
     },
     "metadata": {
      "needs_background": "light"
     },
     "output_type": "display_data"
    }
   ],
   "source": [
    "# Histograma r2\n",
    "plt.hist(r2, bins = 100)\n",
    "plt.show()"
   ]
  },
  {
   "cell_type": "code",
   "execution_count": 17,
   "id": "18b187b6",
   "metadata": {},
   "outputs": [
    {
     "data": {
      "text/plain": [
       "0.9372"
      ]
     },
     "execution_count": 17,
     "metadata": {},
     "output_type": "execute_result"
    }
   ],
   "source": [
    "# Probabilidad r2 > 0.5\n",
    "(df.r2 > 0.5).mean()"
   ]
  },
  {
   "cell_type": "markdown",
   "id": "1d32b43c",
   "metadata": {},
   "source": [
    "#### AMAZON"
   ]
  },
  {
   "cell_type": "code",
   "execution_count": 18,
   "id": "04c08cca",
   "metadata": {},
   "outputs": [],
   "source": [
    "betas = []\n",
    "r2 = []\n",
    "n = 5000\n",
    "\n",
    "for a in range(n):\n",
    "    sample_df = rt.sample(len(rt), replace=True)\n",
    "    X = sample_df[['VTI']]\n",
    "    y = sample_df[['AMZN']]\n",
    "    \n",
    "    # Betas\n",
    "    model = LinearRegression().fit(X,y)\n",
    "    betas.append(model.coef_[0][0])\n",
    "    \n",
    "    # R2\n",
    "    predictions = model.predict(X)\n",
    "    prom = sample_df['VTI'].mean()\n",
    "    calculated_r2 = r2_score(y_true = y, y_pred=predictions)\n",
    "    r2.append(calculated_r2)\n",
    "    \n",
    "    df = pd.DataFrame()\n",
    "    df['r2'] = r2\n",
    "    df['betas']=betas"
   ]
  },
  {
   "cell_type": "code",
   "execution_count": 19,
   "id": "217a6a62",
   "metadata": {},
   "outputs": [
    {
     "data": {
      "image/png": "[encoded data removed]",
      "text/plain": [
       "<Figure size 432x288 with 1 Axes>"
      ]
     },
     "metadata": {
      "needs_background": "light"
     },
     "output_type": "display_data"
    }
   ],
   "source": [
    "# Histograma beta\n",
    "plt.hist(betas, bins=100)\n",
    "plt.show()"
   ]
  },
  {
   "cell_type": "code",
   "execution_count": 20,
   "id": "b14a84c0",
   "metadata": {},
   "outputs": [
    {
     "data": {
      "text/plain": [
       "0.1214"
      ]
     },
     "execution_count": 20,
     "metadata": {},
     "output_type": "execute_result"
    }
   ],
   "source": [
    "# Probabilidad beta > 1\n",
    "np.mean([ i > 1 for i in betas])"
   ]
  },
  {
   "cell_type": "code",
   "execution_count": 21,
   "id": "b9284b8e",
   "metadata": {},
   "outputs": [
    {
     "data": {
      "image/png": "[encoded data removed]",
      "text/plain": [
       "<Figure size 432x288 with 1 Axes>"
      ]
     },
     "metadata": {
      "needs_background": "light"
     },
     "output_type": "display_data"
    }
   ],
   "source": [
    "# Histograma r2\n",
    "plt.hist(r2, bins = 100)\n",
    "plt.show()"
   ]
  },
  {
   "cell_type": "code",
   "execution_count": 22,
   "id": "e2127166",
   "metadata": {},
   "outputs": [
    {
     "data": {
      "text/plain": [
       "0.0"
      ]
     },
     "execution_count": 22,
     "metadata": {},
     "output_type": "execute_result"
    }
   ],
   "source": [
    "# Probabilidad r2 > 0.5\n",
    "(df.r2 > 0.5).mean()"
   ]
  },
  {
   "cell_type": "markdown",
   "id": "909a7be1",
   "metadata": {},
   "source": [
    "#### DISCOVER"
   ]
  },
  {
   "cell_type": "code",
   "execution_count": 23,
   "id": "751ebfce",
   "metadata": {},
   "outputs": [],
   "source": [
    "betas = []\n",
    "r2 = []\n",
    "n = 5000\n",
    "\n",
    "for a in range(n):\n",
    "    sample_df = rt.sample(len(rt), replace=True)\n",
    "    X = sample_df[['VTI']]\n",
    "    y = sample_df[['DFS']]\n",
    "    \n",
    "    # Betas\n",
    "    model = LinearRegression().fit(X,y)\n",
    "    betas.append(model.coef_[0][0])\n",
    "    \n",
    "    # R2\n",
    "    predictions = model.predict(X)\n",
    "    prom = sample_df['VTI'].mean()\n",
    "    calculated_r2 = r2_score(y_true = y, y_pred=predictions)\n",
    "    r2.append(calculated_r2)\n",
    "    \n",
    "    df = pd.DataFrame()\n",
    "    df['r2'] = r2\n",
    "    df['betas']=betas"
   ]
  },
  {
   "cell_type": "code",
   "execution_count": 24,
   "id": "59d3ab4b",
   "metadata": {},
   "outputs": [
    {
     "data": {
      "image/png": "[encoded data removed]",
      "text/plain": [
       "<Figure size 432x288 with 1 Axes>"
      ]
     },
     "metadata": {
      "needs_background": "light"
     },
     "output_type": "display_data"
    }
   ],
   "source": [
    "# Histograma Beta\n",
    "plt.hist(betas, bins=100)\n",
    "plt.show()"
   ]
  },
  {
   "cell_type": "code",
   "execution_count": 25,
   "id": "8f791c3c",
   "metadata": {},
   "outputs": [
    {
     "data": {
      "text/plain": [
       "1.0"
      ]
     },
     "execution_count": 25,
     "metadata": {},
     "output_type": "execute_result"
    }
   ],
   "source": [
    "# Probabilidad beta > 1\n",
    "np.mean([ i > 1 for i in betas])"
   ]
  },
  {
   "cell_type": "code",
   "execution_count": 26,
   "id": "5582b60d",
   "metadata": {},
   "outputs": [
    {
     "data": {
      "image/png": "[encoded data removed]",
      "text/plain": [
       "<Figure size 432x288 with 1 Axes>"
      ]
     },
     "metadata": {
      "needs_background": "light"
     },
     "output_type": "display_data"
    }
   ],
   "source": [
    "# Histograma del R2\n",
    "plt.hist(r2, bins = 50)\n",
    "plt.show()"
   ]
  },
  {
   "cell_type": "code",
   "execution_count": 27,
   "id": "df462635",
   "metadata": {},
   "outputs": [
    {
     "data": {
      "text/plain": [
       "0.7582"
      ]
     },
     "execution_count": 27,
     "metadata": {},
     "output_type": "execute_result"
    }
   ],
   "source": [
    "# Probabilidad r2 > 0.5\n",
    "(df.r2 > 0.5).mean()"
   ]
  },
  {
   "cell_type": "markdown",
   "id": "340b0028",
   "metadata": {},
   "source": [
    "#### COSTCO"
   ]
  },
  {
   "cell_type": "code",
   "execution_count": 28,
   "id": "bab0e729",
   "metadata": {},
   "outputs": [],
   "source": [
    "betas = []\n",
    "r2 = []\n",
    "n = 5000\n",
    "\n",
    "for a in range(n):\n",
    "    sample_df = rt.sample(len(rt), replace=True)\n",
    "    X = sample_df[['VTI']]\n",
    "    y = sample_df[['COST']]\n",
    "    \n",
    "    # Betas\n",
    "    model = LinearRegression().fit(X,y)\n",
    "    betas.append(model.coef_[0][0])\n",
    "    \n",
    "    # R2\n",
    "    predictions = model.predict(X)\n",
    "    prom = sample_df['VTI'].mean()\n",
    "    calculated_r2 = r2_score(y_true = y, y_pred=predictions)\n",
    "    r2.append(calculated_r2)\n",
    "    \n",
    "    df = pd.DataFrame()\n",
    "    df['r2'] = r2\n",
    "    df['betas']=betas"
   ]
  },
  {
   "cell_type": "code",
   "execution_count": 29,
   "id": "a35d0f95",
   "metadata": {},
   "outputs": [
    {
     "data": {
      "image/png": "[encoded data removed]",
      "text/plain": [
       "<Figure size 432x288 with 1 Axes>"
      ]
     },
     "metadata": {
      "needs_background": "light"
     },
     "output_type": "display_data"
    }
   ],
   "source": [
    "# Histograma Beta\n",
    "plt.hist(betas, bins=100)\n",
    "plt.show()"
   ]
  },
  {
   "cell_type": "code",
   "execution_count": 30,
   "id": "ac883f06",
   "metadata": {},
   "outputs": [
    {
     "data": {
      "text/plain": [
       "0.0"
      ]
     },
     "execution_count": 30,
     "metadata": {},
     "output_type": "execute_result"
    }
   ],
   "source": [
    "# Probabilidad beta > 1\n",
    "np.mean([ i > 1 for i in betas])"
   ]
  },
  {
   "cell_type": "code",
   "execution_count": 31,
   "id": "304e3052",
   "metadata": {},
   "outputs": [
    {
     "data": {
      "image/png": "[encoded data removed]",
      "text/plain": [
       "<Figure size 432x288 with 1 Axes>"
      ]
     },
     "metadata": {
      "needs_background": "light"
     },
     "output_type": "display_data"
    }
   ],
   "source": [
    "# Histograma del R2\n",
    "plt.hist(r2, bins = 50)\n",
    "plt.show()"
   ]
  },
  {
   "cell_type": "code",
   "execution_count": 32,
   "id": "f4bcad34",
   "metadata": {},
   "outputs": [
    {
     "data": {
      "text/plain": [
       "0.0"
      ]
     },
     "execution_count": 32,
     "metadata": {},
     "output_type": "execute_result"
    }
   ],
   "source": [
    "# Probabilidad r2 > 0.5\n",
    "(df.r2 > 0.5).mean()"
   ]
  },
  {
   "cell_type": "markdown",
   "id": "a0a0f8a2",
   "metadata": {},
   "source": [
    "#### STARBUCKS"
   ]
  },
  {
   "cell_type": "code",
   "execution_count": 33,
   "id": "5874ad00",
   "metadata": {},
   "outputs": [],
   "source": [
    "betas = []\n",
    "r2 = []\n",
    "n = 5000\n",
    "\n",
    "for a in range(n):\n",
    "    sample_df = rt.sample(len(rt), replace=True)\n",
    "    X = sample_df[['VTI']]\n",
    "    y = sample_df[['SBUX']]\n",
    "    \n",
    "    # Betas\n",
    "    model = LinearRegression().fit(X,y)\n",
    "    betas.append(model.coef_[0][0])\n",
    "    \n",
    "    # R2\n",
    "    predictions = model.predict(X)\n",
    "    prom = sample_df['VTI'].mean()\n",
    "    calculated_r2 = r2_score(y_true = y, y_pred=predictions)\n",
    "    r2.append(calculated_r2)\n",
    "    \n",
    "    df = pd.DataFrame()\n",
    "    df['r2'] = r2\n",
    "    df['betas']=betas"
   ]
  },
  {
   "cell_type": "code",
   "execution_count": 34,
   "id": "95de45a9",
   "metadata": {},
   "outputs": [
    {
     "data": {
      "image/png": "[encoded data removed]",
      "text/plain": [
       "<Figure size 432x288 with 1 Axes>"
      ]
     },
     "metadata": {
      "needs_background": "light"
     },
     "output_type": "display_data"
    }
   ],
   "source": [
    "# Histograma Beta\n",
    "plt.hist(betas, bins=100)\n",
    "plt.show()"
   ]
  },
  {
   "cell_type": "code",
   "execution_count": 35,
   "id": "d5f6eb06",
   "metadata": {},
   "outputs": [
    {
     "data": {
      "text/plain": [
       "0.4936"
      ]
     },
     "execution_count": 35,
     "metadata": {},
     "output_type": "execute_result"
    }
   ],
   "source": [
    "# Probabilidad beta > 1\n",
    "np.mean([ i > 1 for i in betas])"
   ]
  },
  {
   "cell_type": "code",
   "execution_count": 36,
   "id": "04d61557",
   "metadata": {},
   "outputs": [
    {
     "data": {
      "image/png": "[encoded data removed]",
      "text/plain": [
       "<Figure size 432x288 with 1 Axes>"
      ]
     },
     "metadata": {
      "needs_background": "light"
     },
     "output_type": "display_data"
    }
   ],
   "source": [
    "# Histograma del R2\n",
    "plt.hist(r2, bins = 50)\n",
    "plt.show()"
   ]
  },
  {
   "cell_type": "code",
   "execution_count": 37,
   "id": "2df1909e",
   "metadata": {},
   "outputs": [
    {
     "data": {
      "text/plain": [
       "0.409"
      ]
     },
     "execution_count": 37,
     "metadata": {},
     "output_type": "execute_result"
    }
   ],
   "source": [
    "# Probabilidad r2 > 0.5\n",
    "(df.r2 > 0.5).mean()"
   ]
  },
  {
   "cell_type": "markdown",
   "id": "07c4a755",
   "metadata": {},
   "source": [
    "### CAPM, 3 FACTORES y 5 FACTORES"
   ]
  },
  {
   "cell_type": "code",
   "execution_count": 65,
   "id": "fc934322",
   "metadata": {},
   "outputs": [],
   "source": [
    "import datetime"
   ]
  },
  {
   "cell_type": "code",
   "execution_count": 66,
   "id": "322b955f",
   "metadata": {},
   "outputs": [
    {
     "name": "stdout",
     "output_type": "stream",
     "text": [
      "[*********************100%%**********************]  5 of 5 completed\n"
     ]
    }
   ],
   "source": [
    "tickers = ['AMZN', 'DFS', 'COST','SBUX','AAPL']\n",
    "start_date = datetime.datetime(2016, 12, 31)\n",
    "end_date = datetime.datetime(2021, 12, 31)\n",
    "\n",
    "St = yf.download(tickers, start = start_date, end = end_date, interval='1mo')['Adj Close']\n",
    "rt = St.pct_change().dropna()\n",
    "ff_factors = web.DataReader(\"F-F_Research_Data_5_Factors_2x3\", \"famafrench\", start_date, end_date)\n"
   ]
  },
  {
   "cell_type": "code",
   "execution_count": 67,
   "id": "1aa28cb5",
   "metadata": {},
   "outputs": [
    {
     "data": {
      "text/html": [
       "<div>\n",
       "<style scoped>\n",
       "    .dataframe tbody tr th:only-of-type {\n",
       "        vertical-align: middle;\n",
       "    }\n",
       "\n",
       "    .dataframe tbody tr th {\n",
       "        vertical-align: top;\n",
       "    }\n",
       "\n",
       "    .dataframe thead th {\n",
       "        text-align: right;\n",
       "    }\n",
       "</style>\n",
       "<table border=\"1\" class=\"dataframe\">\n",
       "  <thead>\n",
       "    <tr style=\"text-align: right;\">\n",
       "      <th></th>\n",
       "      <th>Mkt-RF</th>\n",
       "      <th>SMB</th>\n",
       "      <th>HML</th>\n",
       "      <th>RMW</th>\n",
       "      <th>CMA</th>\n",
       "      <th>RF</th>\n",
       "    </tr>\n",
       "    <tr>\n",
       "      <th>Date</th>\n",
       "      <th></th>\n",
       "      <th></th>\n",
       "      <th></th>\n",
       "      <th></th>\n",
       "      <th></th>\n",
       "      <th></th>\n",
       "    </tr>\n",
       "  </thead>\n",
       "  <tbody>\n",
       "    <tr>\n",
       "      <th>2016-12-01</th>\n",
       "      <td>0.0181</td>\n",
       "      <td>0.0041</td>\n",
       "      <td>0.0353</td>\n",
       "      <td>0.0122</td>\n",
       "      <td>-0.0023</td>\n",
       "      <td>0.0003</td>\n",
       "    </tr>\n",
       "    <tr>\n",
       "      <th>2017-01-01</th>\n",
       "      <td>0.0194</td>\n",
       "      <td>-0.0146</td>\n",
       "      <td>-0.0275</td>\n",
       "      <td>-0.0049</td>\n",
       "      <td>-0.0099</td>\n",
       "      <td>0.0004</td>\n",
       "    </tr>\n",
       "    <tr>\n",
       "      <th>2017-02-01</th>\n",
       "      <td>0.0357</td>\n",
       "      <td>-0.0222</td>\n",
       "      <td>-0.0167</td>\n",
       "      <td>0.0047</td>\n",
       "      <td>-0.0183</td>\n",
       "      <td>0.0004</td>\n",
       "    </tr>\n",
       "    <tr>\n",
       "      <th>2017-03-01</th>\n",
       "      <td>0.0017</td>\n",
       "      <td>0.0074</td>\n",
       "      <td>-0.0335</td>\n",
       "      <td>0.0061</td>\n",
       "      <td>-0.0094</td>\n",
       "      <td>0.0003</td>\n",
       "    </tr>\n",
       "    <tr>\n",
       "      <th>2017-04-01</th>\n",
       "      <td>0.0109</td>\n",
       "      <td>0.0048</td>\n",
       "      <td>-0.0213</td>\n",
       "      <td>0.0190</td>\n",
       "      <td>-0.0160</td>\n",
       "      <td>0.0005</td>\n",
       "    </tr>\n",
       "  </tbody>\n",
       "</table>\n",
       "</div>"
      ],
      "text/plain": [
       "            Mkt-RF     SMB     HML     RMW     CMA      RF\n",
       "Date                                                      \n",
       "2016-12-01  0.0181  0.0041  0.0353  0.0122 -0.0023  0.0003\n",
       "2017-01-01  0.0194 -0.0146 -0.0275 -0.0049 -0.0099  0.0004\n",
       "2017-02-01  0.0357 -0.0222 -0.0167  0.0047 -0.0183  0.0004\n",
       "2017-03-01  0.0017  0.0074 -0.0335  0.0061 -0.0094  0.0003\n",
       "2017-04-01  0.0109  0.0048 -0.0213  0.0190 -0.0160  0.0005"
      ]
     },
     "execution_count": 67,
     "metadata": {},
     "output_type": "execute_result"
    }
   ],
   "source": [
    "factors_df = ff_factors[0] / 100\n",
    "factors_df.index = factors_df.index.to_timestamp()\n",
    "factors_df.head()"
   ]
  },
  {
   "cell_type": "code",
   "execution_count": 68,
   "id": "2c711c35",
   "metadata": {},
   "outputs": [],
   "source": [
    "sigma = rt.cov()\n",
    "n_port = 5000\n",
    "n_act = len(rt.keys())\n",
    "rf = 0.0135"
   ]
  },
  {
   "cell_type": "code",
   "execution_count": 69,
   "id": "b4743695",
   "metadata": {},
   "outputs": [],
   "source": [
    "W = np.random.dirichlet((1,) * n_act, size = n_port)"
   ]
  },
  {
   "cell_type": "code",
   "execution_count": 70,
   "id": "5c599c84",
   "metadata": {},
   "outputs": [],
   "source": [
    "valores_esperados_markowitz = W.dot(rt.mean()) * 252\n",
    "\n",
    "volatilitys_markowitz = []\n",
    "for i in W:\n",
    "    variance = i.dot(sigma).dot(i.T)\n",
    "    volatility = np.sqrt(variance) * np.sqrt(252)\n",
    "    volatilitys_markowitz.append(volatility)"
   ]
  },
  {
   "cell_type": "code",
   "execution_count": 71,
   "id": "4a0f9287",
   "metadata": {
    "scrolled": true
   },
   "outputs": [
    {
     "data": {
      "text/html": [
       "<div>\n",
       "<style scoped>\n",
       "    .dataframe tbody tr th:only-of-type {\n",
       "        vertical-align: middle;\n",
       "    }\n",
       "\n",
       "    .dataframe tbody tr th {\n",
       "        vertical-align: top;\n",
       "    }\n",
       "\n",
       "    .dataframe thead th {\n",
       "        text-align: right;\n",
       "    }\n",
       "</style>\n",
       "<table border=\"1\" class=\"dataframe\">\n",
       "  <thead>\n",
       "    <tr style=\"text-align: right;\">\n",
       "      <th></th>\n",
       "      <th>r2</th>\n",
       "      <th>betas</th>\n",
       "    </tr>\n",
       "  </thead>\n",
       "  <tbody>\n",
       "    <tr>\n",
       "      <th>0</th>\n",
       "      <td>0.471445</td>\n",
       "      <td>0.982406</td>\n",
       "    </tr>\n",
       "    <tr>\n",
       "      <th>1</th>\n",
       "      <td>0.554716</td>\n",
       "      <td>1.067506</td>\n",
       "    </tr>\n",
       "    <tr>\n",
       "      <th>2</th>\n",
       "      <td>0.454650</td>\n",
       "      <td>1.035318</td>\n",
       "    </tr>\n",
       "    <tr>\n",
       "      <th>3</th>\n",
       "      <td>0.444802</td>\n",
       "      <td>0.951084</td>\n",
       "    </tr>\n",
       "    <tr>\n",
       "      <th>4</th>\n",
       "      <td>0.482919</td>\n",
       "      <td>0.963388</td>\n",
       "    </tr>\n",
       "  </tbody>\n",
       "</table>\n",
       "</div>"
      ],
      "text/plain": [
       "         r2     betas\n",
       "0  0.471445  0.982406\n",
       "1  0.554716  1.067506\n",
       "2  0.454650  1.035318\n",
       "3  0.444802  0.951084\n",
       "4  0.482919  0.963388"
      ]
     },
     "execution_count": 71,
     "metadata": {},
     "output_type": "execute_result"
    }
   ],
   "source": [
    "df_modelos = pd.DataFrame({\n",
    "    'expected_value': valores_esperados_markowitz,\n",
    "    'volatility': volatilitys_markowitz\n",
    "})\n",
    "df.head()"
   ]
  },
  {
   "cell_type": "code",
   "execution_count": 72,
   "id": "37c242bf",
   "metadata": {},
   "outputs": [],
   "source": [
    "df_modelos['w_AMZN'] = [i[0] for i in W]\n",
    "df_modelos['w_DFS'] = [i[1] for i in W]\n",
    "df_modelos['w_COST'] = [i[2] for i in W]\n",
    "df_modelos['w_SBUX'] = [i[3] for i in W]\n",
    "df_modelos['w_AAPL'] = [i[4] for i in W]"
   ]
  },
  {
   "cell_type": "code",
   "execution_count": 73,
   "id": "0320189f",
   "metadata": {
    "scrolled": true
   },
   "outputs": [
    {
     "data": {
      "text/html": [
       "<div>\n",
       "<style scoped>\n",
       "    .dataframe tbody tr th:only-of-type {\n",
       "        vertical-align: middle;\n",
       "    }\n",
       "\n",
       "    .dataframe tbody tr th {\n",
       "        vertical-align: top;\n",
       "    }\n",
       "\n",
       "    .dataframe thead th {\n",
       "        text-align: right;\n",
       "    }\n",
       "</style>\n",
       "<table border=\"1\" class=\"dataframe\">\n",
       "  <thead>\n",
       "    <tr style=\"text-align: right;\">\n",
       "      <th></th>\n",
       "      <th>expected_value</th>\n",
       "      <th>volatility</th>\n",
       "      <th>w_AMZN</th>\n",
       "      <th>w_DFS</th>\n",
       "      <th>w_COST</th>\n",
       "      <th>w_SBUX</th>\n",
       "      <th>w_AAPL</th>\n",
       "      <th>sharpe</th>\n",
       "    </tr>\n",
       "  </thead>\n",
       "  <tbody>\n",
       "    <tr>\n",
       "      <th>0</th>\n",
       "      <td>4.998853</td>\n",
       "      <td>0.875315</td>\n",
       "      <td>0.046954</td>\n",
       "      <td>0.155473</td>\n",
       "      <td>0.092200</td>\n",
       "      <td>0.066554</td>\n",
       "      <td>0.638818</td>\n",
       "      <td>5.695494</td>\n",
       "    </tr>\n",
       "    <tr>\n",
       "      <th>1</th>\n",
       "      <td>5.118613</td>\n",
       "      <td>1.036843</td>\n",
       "      <td>0.045009</td>\n",
       "      <td>0.242651</td>\n",
       "      <td>0.032593</td>\n",
       "      <td>0.378367</td>\n",
       "      <td>0.301381</td>\n",
       "      <td>4.923706</td>\n",
       "    </tr>\n",
       "    <tr>\n",
       "      <th>2</th>\n",
       "      <td>6.929173</td>\n",
       "      <td>0.914442</td>\n",
       "      <td>0.295992</td>\n",
       "      <td>0.299480</td>\n",
       "      <td>0.288442</td>\n",
       "      <td>0.111077</td>\n",
       "      <td>0.005010</td>\n",
       "      <td>7.562726</td>\n",
       "    </tr>\n",
       "    <tr>\n",
       "      <th>3</th>\n",
       "      <td>4.658622</td>\n",
       "      <td>0.962703</td>\n",
       "      <td>0.076070</td>\n",
       "      <td>0.015706</td>\n",
       "      <td>0.039815</td>\n",
       "      <td>0.033463</td>\n",
       "      <td>0.834945</td>\n",
       "      <td>4.825084</td>\n",
       "    </tr>\n",
       "    <tr>\n",
       "      <th>4</th>\n",
       "      <td>5.183322</td>\n",
       "      <td>1.147385</td>\n",
       "      <td>0.137918</td>\n",
       "      <td>0.019590</td>\n",
       "      <td>0.138714</td>\n",
       "      <td>0.537353</td>\n",
       "      <td>0.166424</td>\n",
       "      <td>4.505742</td>\n",
       "    </tr>\n",
       "  </tbody>\n",
       "</table>\n",
       "</div>"
      ],
      "text/plain": [
       "   expected_value  volatility    w_AMZN     w_DFS    w_COST    w_SBUX  \\\n",
       "0        4.998853    0.875315  0.046954  0.155473  0.092200  0.066554   \n",
       "1        5.118613    1.036843  0.045009  0.242651  0.032593  0.378367   \n",
       "2        6.929173    0.914442  0.295992  0.299480  0.288442  0.111077   \n",
       "3        4.658622    0.962703  0.076070  0.015706  0.039815  0.033463   \n",
       "4        5.183322    1.147385  0.137918  0.019590  0.138714  0.537353   \n",
       "\n",
       "     w_AAPL    sharpe  \n",
       "0  0.638818  5.695494  \n",
       "1  0.301381  4.923706  \n",
       "2  0.005010  7.562726  \n",
       "3  0.834945  4.825084  \n",
       "4  0.166424  4.505742  "
      ]
     },
     "execution_count": 73,
     "metadata": {},
     "output_type": "execute_result"
    }
   ],
   "source": [
    "df_modelos['sharpe'] = (df_modelos.expected_value - rf) / df_modelos.volatility\n",
    "df_modelos.head()"
   ]
  },
  {
   "cell_type": "code",
   "execution_count": 74,
   "id": "8124c700",
   "metadata": {},
   "outputs": [
    {
     "data": {
      "text/html": [
       "<div>\n",
       "<style scoped>\n",
       "    .dataframe tbody tr th:only-of-type {\n",
       "        vertical-align: middle;\n",
       "    }\n",
       "\n",
       "    .dataframe tbody tr th {\n",
       "        vertical-align: top;\n",
       "    }\n",
       "\n",
       "    .dataframe thead th {\n",
       "        text-align: right;\n",
       "    }\n",
       "</style>\n",
       "<table border=\"1\" class=\"dataframe\">\n",
       "  <thead>\n",
       "    <tr style=\"text-align: right;\">\n",
       "      <th></th>\n",
       "      <th>expected_value</th>\n",
       "      <th>volatility</th>\n",
       "      <th>w_AMZN</th>\n",
       "      <th>w_DFS</th>\n",
       "      <th>w_COST</th>\n",
       "      <th>w_SBUX</th>\n",
       "      <th>w_AAPL</th>\n",
       "      <th>sharpe</th>\n",
       "    </tr>\n",
       "  </thead>\n",
       "  <tbody>\n",
       "    <tr>\n",
       "      <th>4884</th>\n",
       "      <td>6.568785</td>\n",
       "      <td>0.777206</td>\n",
       "      <td>0.188965</td>\n",
       "      <td>0.105959</td>\n",
       "      <td>0.614387</td>\n",
       "      <td>0.003245</td>\n",
       "      <td>0.087445</td>\n",
       "      <td>8.434426</td>\n",
       "    </tr>\n",
       "  </tbody>\n",
       "</table>\n",
       "</div>"
      ],
      "text/plain": [
       "      expected_value  volatility    w_AMZN     w_DFS    w_COST    w_SBUX  \\\n",
       "4884        6.568785    0.777206  0.188965  0.105959  0.614387  0.003245   \n",
       "\n",
       "        w_AAPL    sharpe  \n",
       "4884  0.087445  8.434426  "
      ]
     },
     "execution_count": 74,
     "metadata": {},
     "output_type": "execute_result"
    }
   ],
   "source": [
    "max_sharpe = df_modelos[df_modelos.sharpe == df_modelos.sharpe.max()]\n",
    "max_sharpe"
   ]
  },
  {
   "cell_type": "code",
   "execution_count": 75,
   "id": "47120692",
   "metadata": {},
   "outputs": [],
   "source": [
    "def run_all_models(data, ticker):\n",
    "    flag_data = data.copy()\n",
    "    flag_data[ticker + '_minus_RF'] = data[ticker] - data['RF']\n",
    "    y = flag_data[[ticker + '_minus_RF']] \n",
    "\n",
    "    # CAPM \n",
    "    X_capm = flag_data[['Mkt-RF']]\n",
    "    model_capm = LinearRegression().fit(X_capm, y)\n",
    "    prediction_capm = model_capm.predict(X_capm)\n",
    "    r2_capm = r2_score(y_pred=prediction_capm, y_true=y)\n",
    "    summary_capm = {str(X_capm.keys().values): list(model_capm.coef_[0])}\n",
    "\n",
    "    # 3 factor model \n",
    "    X_3factor = flag_data[['Mkt-RF', 'SMB', 'HML']]\n",
    "    model_3factor = LinearRegression().fit(X_3factor, y)\n",
    "    prediction_3factor = model_3factor.predict(X_3factor)\n",
    "    r2_3factor = r2_score(y_pred=prediction_3factor, y_true=y)\n",
    "    summary_3factor = {str(X_3factor.keys().values): list(model_3factor.coef_[0])}\n",
    "    \n",
    "    \n",
    "    # 5 factor\n",
    "    X_5factor = flag_data[['Mkt-RF', 'SMB', 'HML', 'RMW', 'CMA']]\n",
    "    model_5factor = LinearRegression().fit(X_5factor, y)\n",
    "    prediction_5factor = model_5factor.predict(X_5factor)\n",
    "    r2_5factor = r2_score(y_pred=prediction_5factor, y_true=y)\n",
    "    summary_5factor = {str(X_5factor.keys().values): list(model_5factor.coef_[0])}\n",
    "    \n",
    "    summary = {\n",
    "        'CAPM': {'BETAS': summary_capm, 'R2': r2_capm},\n",
    "        '3 factor': {'BETAS': summary_3factor, 'R2': r2_3factor},\n",
    "        '5 factor': {'BETAS': summary_5factor, 'R2': r2_5factor}\n",
    "\n",
    "    }\n",
    "    return summary"
   ]
  },
  {
   "cell_type": "code",
   "execution_count": 76,
   "id": "015f4d76",
   "metadata": {
    "scrolled": false
   },
   "outputs": [
    {
     "data": {
      "text/html": [
       "<div>\n",
       "<style scoped>\n",
       "    .dataframe tbody tr th:only-of-type {\n",
       "        vertical-align: middle;\n",
       "    }\n",
       "\n",
       "    .dataframe tbody tr th {\n",
       "        vertical-align: top;\n",
       "    }\n",
       "\n",
       "    .dataframe thead th {\n",
       "        text-align: right;\n",
       "    }\n",
       "</style>\n",
       "<table border=\"1\" class=\"dataframe\">\n",
       "  <thead>\n",
       "    <tr style=\"text-align: right;\">\n",
       "      <th></th>\n",
       "      <th>AAPL</th>\n",
       "      <th>AMZN</th>\n",
       "      <th>COST</th>\n",
       "      <th>DFS</th>\n",
       "      <th>SBUX</th>\n",
       "      <th>Mkt-RF</th>\n",
       "      <th>SMB</th>\n",
       "      <th>HML</th>\n",
       "      <th>RMW</th>\n",
       "      <th>CMA</th>\n",
       "      <th>RF</th>\n",
       "    </tr>\n",
       "    <tr>\n",
       "      <th>Date</th>\n",
       "      <th></th>\n",
       "      <th></th>\n",
       "      <th></th>\n",
       "      <th></th>\n",
       "      <th></th>\n",
       "      <th></th>\n",
       "      <th></th>\n",
       "      <th></th>\n",
       "      <th></th>\n",
       "      <th></th>\n",
       "      <th></th>\n",
       "    </tr>\n",
       "  </thead>\n",
       "  <tbody>\n",
       "    <tr>\n",
       "      <th>2017-02-01</th>\n",
       "      <td>0.128883</td>\n",
       "      <td>0.026182</td>\n",
       "      <td>0.080695</td>\n",
       "      <td>0.026848</td>\n",
       "      <td>0.029880</td>\n",
       "      <td>0.0357</td>\n",
       "      <td>-0.0222</td>\n",
       "      <td>-0.0167</td>\n",
       "      <td>0.0047</td>\n",
       "      <td>-0.0183</td>\n",
       "      <td>0.0004</td>\n",
       "    </tr>\n",
       "    <tr>\n",
       "      <th>2017-03-01</th>\n",
       "      <td>0.053236</td>\n",
       "      <td>0.049110</td>\n",
       "      <td>-0.051012</td>\n",
       "      <td>-0.034476</td>\n",
       "      <td>0.031354</td>\n",
       "      <td>0.0017</td>\n",
       "      <td>0.0074</td>\n",
       "      <td>-0.0335</td>\n",
       "      <td>0.0061</td>\n",
       "      <td>-0.0094</td>\n",
       "      <td>0.0003</td>\n",
       "    </tr>\n",
       "    <tr>\n",
       "      <th>2017-04-01</th>\n",
       "      <td>-0.000070</td>\n",
       "      <td>0.043371</td>\n",
       "      <td>0.058620</td>\n",
       "      <td>-0.084808</td>\n",
       "      <td>0.028601</td>\n",
       "      <td>0.0109</td>\n",
       "      <td>0.0048</td>\n",
       "      <td>-0.0213</td>\n",
       "      <td>0.0190</td>\n",
       "      <td>-0.0160</td>\n",
       "      <td>0.0005</td>\n",
       "    </tr>\n",
       "    <tr>\n",
       "      <th>2017-05-01</th>\n",
       "      <td>0.063418</td>\n",
       "      <td>0.075276</td>\n",
       "      <td>0.016392</td>\n",
       "      <td>-0.062150</td>\n",
       "      <td>0.059107</td>\n",
       "      <td>0.0106</td>\n",
       "      <td>-0.0306</td>\n",
       "      <td>-0.0378</td>\n",
       "      <td>0.0095</td>\n",
       "      <td>-0.0179</td>\n",
       "      <td>0.0006</td>\n",
       "    </tr>\n",
       "    <tr>\n",
       "      <th>2017-06-01</th>\n",
       "      <td>-0.053323</td>\n",
       "      <td>-0.026764</td>\n",
       "      <td>-0.075115</td>\n",
       "      <td>0.064741</td>\n",
       "      <td>-0.079544</td>\n",
       "      <td>0.0078</td>\n",
       "      <td>0.0258</td>\n",
       "      <td>0.0148</td>\n",
       "      <td>-0.0222</td>\n",
       "      <td>0.0000</td>\n",
       "      <td>0.0006</td>\n",
       "    </tr>\n",
       "  </tbody>\n",
       "</table>\n",
       "</div>"
      ],
      "text/plain": [
       "                AAPL      AMZN      COST       DFS      SBUX  Mkt-RF     SMB  \\\n",
       "Date                                                                           \n",
       "2017-02-01  0.128883  0.026182  0.080695  0.026848  0.029880  0.0357 -0.0222   \n",
       "2017-03-01  0.053236  0.049110 -0.051012 -0.034476  0.031354  0.0017  0.0074   \n",
       "2017-04-01 -0.000070  0.043371  0.058620 -0.084808  0.028601  0.0109  0.0048   \n",
       "2017-05-01  0.063418  0.075276  0.016392 -0.062150  0.059107  0.0106 -0.0306   \n",
       "2017-06-01 -0.053323 -0.026764 -0.075115  0.064741 -0.079544  0.0078  0.0258   \n",
       "\n",
       "               HML     RMW     CMA      RF  \n",
       "Date                                        \n",
       "2017-02-01 -0.0167  0.0047 -0.0183  0.0004  \n",
       "2017-03-01 -0.0335  0.0061 -0.0094  0.0003  \n",
       "2017-04-01 -0.0213  0.0190 -0.0160  0.0005  \n",
       "2017-05-01 -0.0378  0.0095 -0.0179  0.0006  \n",
       "2017-06-01  0.0148 -0.0222  0.0000  0.0006  "
      ]
     },
     "execution_count": 76,
     "metadata": {},
     "output_type": "execute_result"
    }
   ],
   "source": [
    "df_comb = pd.merge(rt, factors_df, on = 'Date')\n",
    "df_comb.head()"
   ]
  },
  {
   "cell_type": "code",
   "execution_count": 78,
   "id": "13f108a0",
   "metadata": {},
   "outputs": [],
   "source": [
    "df_comb['Portafolio'] = ( max_sharpe.w_AMZN.values[0] * df_comb['AMZN'] +\n",
    "                         max_sharpe.w_DFS.values[0] * df_comb['DFS'] +\n",
    "                         max_sharpe.w_COST.values[0] * df_comb['COST'] +\n",
    "                          max_sharpe.w_SBUX.values[0] * df_comb['SBUX'] +\n",
    "                         max_sharpe.w_AAPL.values[0] * df_comb['AAPL'])"
   ]
  },
  {
   "cell_type": "code",
   "execution_count": 79,
   "id": "02d8f69f",
   "metadata": {},
   "outputs": [
    {
     "data": {
      "text/plain": [
       "{'BETAS': {\"['Mkt-RF']\": [0.8212608462096237]}, 'R2': 0.5999195895114462}"
      ]
     },
     "execution_count": 79,
     "metadata": {},
     "output_type": "execute_result"
    }
   ],
   "source": [
    "run_all_models(df_comb, 'Portafolio')['CAPM']"
   ]
  },
  {
   "cell_type": "code",
   "execution_count": 80,
   "id": "f6eff642",
   "metadata": {},
   "outputs": [
    {
     "data": {
      "text/plain": [
       "{'BETAS': {\"['Mkt-RF' 'SMB' 'HML']\": [0.9629495083109764,\n",
       "   -0.482336493599029,\n",
       "   -0.1972938218908866]},\n",
       " 'R2': 0.7208317443956058}"
      ]
     },
     "execution_count": 80,
     "metadata": {},
     "output_type": "execute_result"
    }
   ],
   "source": [
    "run_all_models(df_comb, 'Portafolio')['3 factor']"
   ]
  },
  {
   "cell_type": "code",
   "execution_count": 81,
   "id": "3d6cd108",
   "metadata": {},
   "outputs": [
    {
     "data": {
      "text/plain": [
       "{'BETAS': {\"['Mkt-RF' 'SMB' 'HML' 'RMW' 'CMA']\": [0.9096387872710627,\n",
       "   -0.2562956419947319,\n",
       "   -0.35644308276866876,\n",
       "   0.4670308170711092,\n",
       "   0.1519312938888777]},\n",
       " 'R2': 0.7492479619859849}"
      ]
     },
     "execution_count": 81,
     "metadata": {},
     "output_type": "execute_result"
    }
   ],
   "source": [
    "run_all_models(df_comb, 'Portafolio')['5 factor']"
   ]
  },
  {
   "cell_type": "markdown",
   "id": "71eed433",
   "metadata": {},
   "source": [
    "### CONCLUSIONES\n",
    "\n",
    "El modelo que se utilizaria en este portafolio simulado es el de 5 factores, como vimos en clase el r2 mayor es el que más nos sirve mientras mas acercado a 100% es mejor, en este caso es del 74.92%, que en la práctica en realidad no nos resultaría de mucha utilidad.\n",
    "\n",
    "Mientras que los resultados de las betas dan lo siguiente:\n",
    "\n",
    "- Sensibilidad positiva al rendimiento del mercado (Mkt-RF: 0.9096).\n",
    "- Rendimiento menor en acciones de pequeña capitalización en comparación con acciones de gran capitalización (SMB: -0.25).\n",
    "- Rendimiento menor en acciones de alto valor en comparación con acciones de bajo valor (HML: -0.35).\n",
    "- Rendimiento menor en acciones con baja rentabilidad en comparación con acciones con alta rentabilidad (RMW: 0.46).\n",
    "- Rendimiento menor en acciones de empresas con alta inversión en comparación con empresas con baja inversión (CMA: 0.15)."
   ]
  },
  {
   "cell_type": "code",
   "execution_count": null,
   "id": "edbc0b0e",
   "metadata": {},
   "outputs": [],
   "source": []
  }
 ],
 "metadata": {
  "kernelspec": {
   "display_name": "Python 3 (ipykernel)",
   "language": "python",
   "name": "python3"
  },
  "language_info": {
   "codemirror_mode": {
    "name": "ipython",
    "version": 3
   },
   "file_extension": ".py",
   "mimetype": "text/x-python",
   "name": "python",
   "nbconvert_exporter": "python",
   "pygments_lexer": "ipython3",
   "version": "3.9.12"
  }
 },
 "nbformat": 4,
 "nbformat_minor": 5
}
